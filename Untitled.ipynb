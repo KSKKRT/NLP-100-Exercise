{
 "cells": [
  {
   "cell_type": "code",
   "execution_count": 7,
   "id": "105fafe8-62c3-42c1-88d7-d1ba4922a261",
   "metadata": {},
   "outputs": [],
   "source": [
    "import numpy as np"
   ]
  },
  {
   "cell_type": "code",
   "execution_count": 10,
   "id": "bacce559-8486-4197-a9ef-9a8c881cacab",
   "metadata": {},
   "outputs": [],
   "source": [
    "data = [95.5, 93.2, 97.3, 94.7, 92.8]"
   ]
  },
  {
   "cell_type": "code",
   "execution_count": 11,
   "id": "910a88d7-a302-4882-a166-f1f70dc8dd86",
   "metadata": {},
   "outputs": [],
   "source": [
    "ave = np.mean(data)\n",
    "n = len(data)\n",
    "var = np.var(data)"
   ]
  },
  {
   "cell_type": "code",
   "execution_count": 15,
   "id": "5522eeb7-9d94-493d-aa63-e6dfd2133978",
   "metadata": {},
   "outputs": [
    {
     "name": "stdout",
     "output_type": "stream",
     "text": [
      "93.272560109847 96.127439890153\n"
     ]
    }
   ],
   "source": [
    "a = 1.96 * np.sqrt(var / n)\n",
    "print(ave - a, ave + a)"
   ]
  },
  {
   "cell_type": "code",
   "execution_count": 14,
   "id": "bdca56e0-80f9-4c90-bbc6-40bad015e335",
   "metadata": {},
   "outputs": [
    {
     "data": {
      "text/plain": [
       "1.59530033786745"
      ]
     },
     "execution_count": 14,
     "metadata": {},
     "output_type": "execute_result"
    }
   ],
   "source": [
    "1.96 * 1.82 / np.sqrt(n)"
   ]
  },
  {
   "cell_type": "code",
   "execution_count": null,
   "id": "c619343b-06f8-4600-8a94-9a0521f070ba",
   "metadata": {},
   "outputs": [],
   "source": []
  }
 ],
 "metadata": {
  "kernelspec": {
   "display_name": "Python 3 (ipykernel)",
   "language": "python",
   "name": "python3"
  },
  "language_info": {
   "codemirror_mode": {
    "name": "ipython",
    "version": 3
   },
   "file_extension": ".py",
   "mimetype": "text/x-python",
   "name": "python",
   "nbconvert_exporter": "python",
   "pygments_lexer": "ipython3",
   "version": "3.10.10"
  }
 },
 "nbformat": 4,
 "nbformat_minor": 5
}
