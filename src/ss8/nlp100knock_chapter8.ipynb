{
 "cells": [
  {
   "cell_type": "markdown",
   "id": "f9ad1478-d95a-4bf1-906c-bc7ff8f0d187",
   "metadata": {},
   "source": [
    "# 第８章:ニューラルネット  \n",
    "第6章で取り組んだニュース記事のカテゴリ分類を題材として，ニューラルネットワークでカテゴリ分類モデルを実装する．なお，この章ではPyTorch, TensorFlow, Chainerなどの機械学習プラットフォームを活用せよ"
   ]
  },
  {
   "cell_type": "markdown",
   "id": "a2a15e98-da22-4bfb-af34-449210a1d4ff",
   "metadata": {},
   "source": [
    "### 70.単語ベクトルの和による特徴量  \n",
    "問題50で構築した学習データ，検証データ，評価データを行列・ベクトルに変換したい．例えば，学習データについて，すべての事例xi\n",
    "の特徴ベクトルxi\n",
    "を並べた行列X\n",
    "と，正解ラベルを並べた行列（ベクトル）Y\n",
    "を作成したい．  \n",
    "$$ X = \\begin{pmatrix}\\textbf{x}_1 \\\\ \\textbf{x}_2 \\\\ \\vdots \\\\ \\textbf{x}_n \\end{pmatrix} \\in \\mathbb{R}^{n\\times d} , Y = \\begin{pmatrix}\\textbf{y}_1\\\\ \\textbf{y}_2 \\\\ \\vdots \\\\ \\textbf{y}_n \\end{pmatrix} \\in \\mathbb{N}^n$$  \n",
    "ここで，n\n",
    "は学習データの事例数であり，xi∈ℝd\n",
    "とyi∈ℕ\n",
    "はそれぞれ，i∈{1,…,n}\n",
    "番目の事例の特徴量ベクトルと正解ラベルを表す． なお，今回は「ビジネス」「科学技術」「エンターテイメント」「健康」の4カテゴリ分類である．ℕ<4\n",
    "で4\n",
    "未満の自然数（0\n",
    "を含む）を表すことにすれば，任意の事例の正解ラベルyi\n",
    "はyi∈ℕ<4\n",
    "で表現できる． 以降では，ラベルの種類数をL\n",
    "で表す（今回の分類タスクではL=4\n",
    "である）"
   ]
  },
  {
   "cell_type": "markdown",
   "id": "0a053270-01a1-42d3-88a6-48837872c6b3",
   "metadata": {},
   "source": [
    "i番目の事例の特徴ベクトル$x_i$は，次式で求める.  "
   ]
  },
  {
   "cell_type": "markdown",
   "id": "d9e34cdd-e9b6-42fb-9a53-47a0991d4127",
   "metadata": {},
   "source": [
    "$$ \\textbf{x}_i = \\frac{1}{T_i} \\sum_{t=1}^{T_i} emb(w_{i,t}) $$"
   ]
  },
  {
   "cell_type": "markdown",
   "id": "b3355960-3840-4ba0-9736-d6cd3b48ec81",
   "metadata": {
    "tags": []
   },
   "source": [
    "ここで，i\n",
    "番目の事例はTi\n",
    "個の（記事見出しの）単語列($w_{i,1},w_{i,2},\\dots ,w_{i,T_i}$)\n",
    "から構成され，emb(w)∈ℝd\n",
    "は単語w\n",
    "に対応する単語ベクトル（次元数はd\n",
    "）である．すなわち，i\n",
    "番目の事例の記事見出しを，その見出しに含まれる単語のベクトルの平均で表現したものがxi\n",
    "である．今回は単語ベクトルとして，問題60でダウンロードしたものを用いればよい．300\n",
    "次元の単語ベクトルを用いたので，d=300\n",
    "である．  \n",
    "i番目の事例のラベル$y_i$は，次のように定義する．"
   ]
  },
  {
   "cell_type": "markdown",
   "id": "eb5fd06c-d00f-4fe1-a2e4-85678e94e330",
   "metadata": {},
   "source": [
    "$$\\begin{equation}\n",
    "  y_i =\n",
    "  \\begin{cases}\n",
    "    0  & \\text{(記事$x_i$がビジネスカテゴリの場合)} \\\\\n",
    "    1                & \\text{(記事$x_i$が科学技術カテゴリの場合)} \\\\\n",
    "    2       & \\text{(記事$x_i$がエンタメカテゴリの場合)} \\\\\n",
    "    3 & \\text{(記事$x_i$が健康カテゴリの場合)}\n",
    "  \\end{cases}\n",
    "\\end{equation}$$"
   ]
  },
  {
   "cell_type": "markdown",
   "id": "f4cd05c3-ac1a-463e-8a66-e50ec07fcaa9",
   "metadata": {
    "tags": []
   },
   "source": [
    "なお，カテゴリ名とラベルの番号が一対一で対応付いていれば，上式の通りの対応付けでなくてもよい．  \n",
    "以上の仕様に基づき，以下の行列・ベクトルを作成し，ファjイルに保存せよ．"
   ]
  },
  {
   "cell_type": "markdown",
   "id": "452fa681-b1dc-4ec5-89dc-9ce6cee4161e",
   "metadata": {},
   "source": [
    "・学習データの特徴量行列：$X_{train}\\in \\mathbb{R}^{N_t \\times d}$  \n",
    "・学習データのラベルベクトル:$Y_{train}\\in \\mathbb{N}^{N_t}$  \n",
    "・検証データの特徴量行列:$X_{valid}\\in\\mathbb{R}^{N_v\\times d}$  \n",
    "・検証データのラベルベクトル:$Y_{valid}\\in\\mathbb{N}^{N_v}$  \n",
    "・評価データの特徴量行列:$X_{test}\\in\\mathbb{R}^{N_e\\times d}$  \n",
    "・評価データのラベルベクトル:$Y_{test}\\in\\mathbb{N}^{N_e}$"
   ]
  },
  {
   "cell_type": "markdown",
   "id": "398dde63-f1b5-407a-adc7-281826aa2768",
   "metadata": {
    "jp-MarkdownHeadingCollapsed": true,
    "tags": []
   },
   "source": [
    "なお，$N_t,N_v,N_e$はそれぞれ，学習データの事例数，検証データの事例数，評価データの事例数である．"
   ]
  },
  {
   "cell_type": "code",
   "execution_count": 9,
   "id": "d19ef973-46e7-42ed-a3dd-3f15c72ea9cb",
   "metadata": {
    "tags": []
   },
   "outputs": [
    {
     "data": {
      "text/html": [
       "<div>\n",
       "<style scoped>\n",
       "    .dataframe tbody tr th:only-of-type {\n",
       "        vertical-align: middle;\n",
       "    }\n",
       "\n",
       "    .dataframe tbody tr th {\n",
       "        vertical-align: top;\n",
       "    }\n",
       "\n",
       "    .dataframe thead th {\n",
       "        text-align: right;\n",
       "    }\n",
       "</style>\n",
       "<table border=\"1\" class=\"dataframe\">\n",
       "  <thead>\n",
       "    <tr style=\"text-align: right;\">\n",
       "      <th></th>\n",
       "      <th>TITLE</th>\n",
       "      <th>PUBLISHER</th>\n",
       "      <th>CATEGORY</th>\n",
       "    </tr>\n",
       "  </thead>\n",
       "  <tbody>\n",
       "    <tr>\n",
       "      <th>0</th>\n",
       "      <td>L'wren Scott - L'Wren Scott's housekeeper reve...</td>\n",
       "      <td>Contactmusic.com</td>\n",
       "      <td>e</td>\n",
       "    </tr>\n",
       "    <tr>\n",
       "      <th>1</th>\n",
       "      <td>Australia Set to Fund Second Clean-Energy Proj...</td>\n",
       "      <td>Businessweek</td>\n",
       "      <td>b</td>\n",
       "    </tr>\n",
       "    <tr>\n",
       "      <th>2</th>\n",
       "      <td>Google Brings Android to Smartwatches in Mobil...</td>\n",
       "      <td>Businessweek</td>\n",
       "      <td>t</td>\n",
       "    </tr>\n",
       "    <tr>\n",
       "      <th>3</th>\n",
       "      <td>Tina Fey - Tina Fey Dispels Mean Girls Sequel ...</td>\n",
       "      <td>Contactmusic.com</td>\n",
       "      <td>e</td>\n",
       "    </tr>\n",
       "    <tr>\n",
       "      <th>4</th>\n",
       "      <td>Rick Rubin - Rick Rubin Takes An Ice Bath For ...</td>\n",
       "      <td>Contactmusic.com</td>\n",
       "      <td>e</td>\n",
       "    </tr>\n",
       "  </tbody>\n",
       "</table>\n",
       "</div>"
      ],
      "text/plain": [
       "                                               TITLE         PUBLISHER  \\\n",
       "0  L'wren Scott - L'Wren Scott's housekeeper reve...  Contactmusic.com   \n",
       "1  Australia Set to Fund Second Clean-Energy Proj...      Businessweek   \n",
       "2  Google Brings Android to Smartwatches in Mobil...      Businessweek   \n",
       "3  Tina Fey - Tina Fey Dispels Mean Girls Sequel ...  Contactmusic.com   \n",
       "4  Rick Rubin - Rick Rubin Takes An Ice Bath For ...  Contactmusic.com   \n",
       "\n",
       "  CATEGORY  \n",
       "0        e  \n",
       "1        b  \n",
       "2        t  \n",
       "3        e  \n",
       "4        e  "
      ]
     },
     "execution_count": 9,
     "metadata": {},
     "output_type": "execute_result"
    }
   ],
   "source": [
    "import pandas as pd\n",
    "import matplotlib.pyplot as plt\n",
    "import pickle\n",
    "import japanize_matplotlib\n",
    "\n",
    "train = pd.read_csv('./ss6/csv/train.csv', sep='\\t')\n",
    "valid = pd.read_csv('./ss6/csv/valid.csv', sep='\\t')\n",
    "test = pd.read_csv('./ss6/csv/test.csv', sep='\\t')\n",
    "df = pd.concat([train, valid, test], axis=0)\n",
    "df.head()"
   ]
  },
  {
   "cell_type": "code",
   "execution_count": 10,
   "id": "a1a96be8-b3e1-472f-8eef-b78bd9c170ab",
   "metadata": {
    "tags": []
   },
   "outputs": [],
   "source": [
    "with open('./ss7/gensim-GoogleNews-vec.pkl', mode='rb') as fp:\n",
    "    model = pickle.load(fp)"
   ]
  },
  {
   "cell_type": "code",
   "execution_count": 15,
   "id": "e7b62d97-ff23-4268-9fd5-55a52a009a93",
   "metadata": {
    "tags": []
   },
   "outputs": [],
   "source": [
    "import string\n",
    "import torch\n",
    "import re\n",
    "\n",
    "def text2vec(text):\n",
    "    table = str.maketrans(string.punctuation, ' '*len(string.punctuation)) #記号を等長の半角スペースで変換する変換表の作成\n",
    "    text = text.translate(table)\n",
    "    text = text.lower()\n",
    "    text = re.sub('[0-9]+', '0', text)\n",
    "    word_list = text.split()\n",
    "    vec = [model[word] for word in word_list if word in model]\n",
    "    return torch.tensor(sum(vec)/len(vec))"
   ]
  },
  {
   "cell_type": "code",
   "execution_count": 17,
   "id": "d2b8241f-cb9a-4e77-9e1c-02f7f5cfee1a",
   "metadata": {
    "tags": []
   },
   "outputs": [],
   "source": [
    "#torch.stackで行列の新次元としてベクトルを結合できる\n",
    "X_train = torch.stack([text2vec(text) for text in train['TITLE']])\n",
    "X_valid = torch.stack([text2vec(text) for text in valid['TITLE']])\n",
    "X_test = torch.stack([text2vec(text) for text in test['TITLE']])"
   ]
  },
  {
   "cell_type": "code",
   "execution_count": 18,
   "id": "a55f086f-8a92-4452-a91b-1e6675046db5",
   "metadata": {
    "tags": []
   },
   "outputs": [
    {
     "data": {
      "text/plain": [
       "(torch.Size([10672, 300]),\n",
       " tensor([[-0.0200,  0.1468, -0.1442,  ..., -0.0660,  0.0160,  0.1448],\n",
       "         [-0.0325,  0.0205,  0.0668,  ..., -0.0393,  0.0037, -0.0476],\n",
       "         [ 0.0546, -0.0825, -0.0760,  ..., -0.0602,  0.0048, -0.0069],\n",
       "         ...,\n",
       "         [-0.0367,  0.0171, -0.0423,  ..., -0.0434,  0.0469,  0.0620],\n",
       "         [ 0.0225,  0.0613,  0.0038,  ..., -0.0829, -0.0349, -0.0185],\n",
       "         [-0.0289,  0.0737, -0.0573,  ..., -0.0636,  0.0144,  0.1008]]))"
      ]
     },
     "execution_count": 18,
     "metadata": {},
     "output_type": "execute_result"
    }
   ],
   "source": [
    "X_train.size(), X_train"
   ]
  },
  {
   "cell_type": "markdown",
   "id": "2a450cf5-124d-43d5-b608-c291501d8917",
   "metadata": {},
   "source": [
    "まず特徴量行列を作成した．サイズを確認すると使用したword2vecは300次元なので事例数×次元となっている．"
   ]
  },
  {
   "cell_type": "code",
   "execution_count": 19,
   "id": "d8a55916-42ce-48e3-bfa7-71081700a03e",
   "metadata": {
    "tags": []
   },
   "outputs": [],
   "source": [
    "category_ref = {'b':0, 't':1, 'e':2, 'm':3}\n",
    "y_train = torch.tensor(train['CATEGORY'].map(lambda x:category_ref[x]).values)\n",
    "y_valid = torch.tensor(valid['CATEGORY'].map(lambda x:category_ref[x]).values)\n",
    "y_test = torch.tensor(test['CATEGORY'].map(lambda x:category_ref[x]).values)"
   ]
  },
  {
   "cell_type": "code",
   "execution_count": 21,
   "id": "737348b9-10dd-4351-b999-2bfd372a46d4",
   "metadata": {
    "tags": []
   },
   "outputs": [
    {
     "data": {
      "text/plain": [
       "(torch.Size([10672]), tensor([2, 0, 1,  ..., 0, 2, 2]))"
      ]
     },
     "execution_count": 21,
     "metadata": {},
     "output_type": "execute_result"
    }
   ],
   "source": [
    "y_train.size(), y_train"
   ]
  },
  {
   "cell_type": "markdown",
   "id": "09946fca-d484-48cc-8b5c-7bc042bde8f1",
   "metadata": {},
   "source": [
    "作成した特徴量ベクトルと正解ラベルのベクトルを保存する． [参考](https://pytorch.org/docs/stable/generated/torch.save.html)"
   ]
  },
  {
   "cell_type": "code",
   "execution_count": 22,
   "id": "ef2f3e28-aed1-4700-93bc-c4718a449e87",
   "metadata": {
    "tags": []
   },
   "outputs": [],
   "source": [
    "torch.save(X_train, 'X_train.pt')\n",
    "torch.save(X_valid, 'X_valid.pt')\n",
    "torch.save(X_test, 'X_test.pt')\n",
    "torch.save(y_train, 'y_train.pt')\n",
    "torch.save(y_valid, 'y_valid.pt')\n",
    "torch.save(y_test, 'y_test.pt')"
   ]
  },
  {
   "cell_type": "markdown",
   "id": "0733142a-ba70-4950-966a-054af6d9b1cd",
   "metadata": {},
   "source": [
    "### 71.単層NNによる予測  \n",
    "問題70で保存した行列を読み込み，学習データについて以下の計算を実行せよ．  \n",
    "$$ \\hat{y_1} = softmax(\\textbf{x}_iW)\\\\\n",
    "\\hat{Y}= softmax(X_{[1:4]}W)$$  \n",
    "ただし，softmaxはソフトマックス関数，$X_{[1:4]}\\in\\mathbb{R}^{4\\times d}$は特徴量ベクトル$x_1,x_2,x_3,x_4$を縦に並べた行列である．  \n",
    "$$ X_{[1:4]} = \\begin{pmatrix}\\textbf{x}_1 \\\\ \\textbf{x}_2 \\\\ \\textbf{x}_3 \\\\ \\textbf{x}_4 \\end{pmatrix}$$  \n",
    "行列$W\\in\\mathbb{R}^{d\\times L}$は単層NNの重み行列で，ここではランダムな値で初期化すれば良い．なお，$\\hat{y_1}\\in\\mathbb{R}^L$は未学習の行列$W$で事例$\\textbf{x}_1$を分類したときに，各カテゴリに属する確率を表すベクトルである．同様に,$\\hat{Y}\\in\\mathbb{N}^{4\\times L}$は，学習データの事例$x_1, x_2, x_3, x_4$について，各カテゴリに属する確率を行列として表現している．"
   ]
  },
  {
   "cell_type": "code",
   "execution_count": 33,
   "id": "089cd8de-d9d3-4036-a2d5-2c81017e6b11",
   "metadata": {
    "tags": []
   },
   "outputs": [
    {
     "name": "stdout",
     "output_type": "stream",
     "text": [
      "tensor([[0.3321, 0.0406, 0.2643, 0.3630]], grad_fn=<SoftmaxBackward0>)\n",
      "tensor([[0.3321, 0.0406, 0.2643, 0.3630],\n",
      "        [0.4176, 0.0370, 0.4760, 0.0694],\n",
      "        [0.3857, 0.2467, 0.2910, 0.0766],\n",
      "        [0.6605, 0.2281, 0.0944, 0.0170]], grad_fn=<SoftmaxBackward0>)\n"
     ]
    }
   ],
   "source": [
    "import torch\n",
    "from torch import nn\n",
    "\n",
    "class NN(nn.Module):\n",
    "    def __init__(self,input_size, output_size):\n",
    "        super().__init__()\n",
    "        self.l1 = nn.Linear(\n",
    "            input_size,\n",
    "            output_size)\n",
    "        nn.init.normal_(self.l1.weight, 0.0, 1.0)\n",
    "        \n",
    "    def forward(self, x):\n",
    "        x = self.l1(x)\n",
    "        return x\n",
    "    \n",
    "nn_model = NN(300, 4) #input_size:300, output_size=4\n",
    "y1_pred = torch.softmax(nn_model(X_train[:1]), dim=-1)\n",
    "Y_pred = torch.softmax(nn_model(X_train[:4]), dim=-1)\n",
    "print(y1_pred)\n",
    "print(Y_pred)"
   ]
  },
  {
   "cell_type": "markdown",
   "id": "545b1448-c65e-4d1c-b8d3-63803b65cc4d",
   "metadata": {},
   "source": [
    "### 72.損失と勾配の計算  \n",
    "学習データの事例$x_1$と事例集合$x_1, x_2, x_3, x_4$に対して，クロスエントロピー損失と，行列W\n",
    "に対する勾配を計算せよ．なお，ある事例xi\n",
    "に対して損失は次式で計算される．  \n",
    "$$L_i = -log[\\text(事例x_iがy_iに分類される確率)]$$\n",
    "ただし，事例集合に対するクロスエントロピー損失は，その集合に含まれる各事例の損失の平均とする．"
   ]
  },
  {
   "cell_type": "code",
   "execution_count": 34,
   "id": "14e50379-f0d1-467f-b8c6-1031c5321de8",
   "metadata": {
    "tags": []
   },
   "outputs": [
    {
     "name": "stdout",
     "output_type": "stream",
     "text": [
      "tensor(1.4909, grad_fn=<NllLossBackward0>)\n",
      "tensor([[ 0.0119, -0.0037, -0.0277,  ..., -0.0124,  0.0117,  0.0421],\n",
      "        [-0.0096,  0.0155,  0.0139,  ...,  0.0079,  0.0029,  0.0106],\n",
      "        [-0.0011, -0.0238,  0.0271,  ...,  0.0125, -0.0164, -0.0654],\n",
      "        [-0.0012,  0.0120, -0.0133,  ..., -0.0080,  0.0019,  0.0128]])\n"
     ]
    }
   ],
   "source": [
    "criterion = nn.CrossEntropyLoss()\n",
    "L = criterion(nn_model(X_train[:4]), y_train[:4])\n",
    "nn_model.zero_grad()\n",
    "L.backward()\n",
    "print(L)\n",
    "print(nn_model.l1.weight.grad)"
   ]
  },
  {
   "cell_type": "markdown",
   "id": "35ce3901-9a86-4674-b957-fc4d0ae44e22",
   "metadata": {},
   "source": [
    "### 73. 確率的勾配降下法による学習  \n",
    "確率的勾配降下法（SGD: Stochastic Gradient Descent）を用いて，行列W\n",
    "を学習せよ．なお，学習は適当な基準で終了させればよい（例えば「100エポックで終了」など） [参考](https://dreamer-uma.com/pytorch-dataloader/)"
   ]
  },
  {
   "cell_type": "code",
   "execution_count": 54,
   "id": "84fd4cb5-5ab1-4b53-8a30-91a507552ede",
   "metadata": {
    "tags": []
   },
   "outputs": [],
   "source": [
    "from torch.utils.data import Dataset, DataLoader\n",
    "\n",
    "class MyDatasets(Dataset):\n",
    "    def __init__(self, X, y):\n",
    "        self.X = X\n",
    "        self.y = y\n",
    "        \n",
    "    def __len__(self):\n",
    "        return len(self.y)\n",
    "    \n",
    "    def __getitem__(self, idx):\n",
    "        return self.X[idx], self.y[idx]\n",
    "    \n",
    "train_dataset = MyDatasets(X_train, y_train)\n",
    "valid_dataset = MyDatasets(X_valid, y_valid)\n",
    "test_dataset = MyDatasets(X_test, y_test)\n",
    "train_dataloader = DataLoader(train_dataset, batch_size=1, shuffle=True, drop_last=True)\n",
    "valid_dataloader = DataLoader(valid_dataset, batch_size=len(valid_dataset))\n",
    "test_dataloader = DataLoader(test_dataset, batch_size=len(test_dataset))"
   ]
  },
  {
   "cell_type": "code",
   "execution_count": 41,
   "id": "3d788723-6c15-4bce-af1d-ed2b37d9117d",
   "metadata": {
    "tags": []
   },
   "outputs": [
    {
     "name": "stdout",
     "output_type": "stream",
     "text": [
      "epoch: 1, train_loss: 1.446, valid_loss: 1.2422523498535156\n",
      "epoch: 2, train_loss: 1.164, valid_loss: 1.0759491920471191\n",
      "epoch: 3, train_loss: 1.034, valid_loss: 0.9755777716636658\n",
      "epoch: 4, train_loss: 0.95, valid_loss: 0.9064692258834839\n",
      "epoch: 5, train_loss: 0.89, valid_loss: 0.8548428416252136\n",
      "epoch: 6, train_loss: 0.843, valid_loss: 0.8141109943389893\n",
      "epoch: 7, train_loss: 0.805, valid_loss: 0.7811298370361328\n",
      "epoch: 8, train_loss: 0.774, valid_loss: 0.75199294090271\n",
      "epoch: 9, train_loss: 0.747, valid_loss: 0.7278697490692139\n",
      "epoch: 10, train_loss: 0.723, valid_loss: 0.7055313587188721\n",
      "epoch: 11, train_loss: 0.702, valid_loss: 0.6868159770965576\n",
      "epoch: 12, train_loss: 0.683, valid_loss: 0.6691228151321411\n",
      "epoch: 13, train_loss: 0.666, valid_loss: 0.6537389755249023\n",
      "epoch: 14, train_loss: 0.651, valid_loss: 0.6396477222442627\n",
      "epoch: 15, train_loss: 0.637, valid_loss: 0.6262391805648804\n",
      "epoch: 16, train_loss: 0.624, valid_loss: 0.6139900088310242\n",
      "epoch: 17, train_loss: 0.611, valid_loss: 0.6031457185745239\n",
      "epoch: 18, train_loss: 0.6, valid_loss: 0.5923418402671814\n",
      "epoch: 19, train_loss: 0.59, valid_loss: 0.5828260779380798\n",
      "epoch: 20, train_loss: 0.58, valid_loss: 0.5741477608680725\n",
      "epoch: 21, train_loss: 0.571, valid_loss: 0.5661665201187134\n",
      "epoch: 22, train_loss: 0.563, valid_loss: 0.5577336549758911\n",
      "epoch: 23, train_loss: 0.555, valid_loss: 0.5502662062644958\n",
      "epoch: 24, train_loss: 0.547, valid_loss: 0.5437823534011841\n",
      "epoch: 25, train_loss: 0.54, valid_loss: 0.5373907089233398\n",
      "epoch: 26, train_loss: 0.534, valid_loss: 0.5310821533203125\n",
      "epoch: 27, train_loss: 0.527, valid_loss: 0.525137186050415\n",
      "epoch: 28, train_loss: 0.521, valid_loss: 0.5196429491043091\n",
      "epoch: 29, train_loss: 0.515, valid_loss: 0.5142609477043152\n",
      "epoch: 30, train_loss: 0.51, valid_loss: 0.5091820955276489\n",
      "epoch: 31, train_loss: 0.505, valid_loss: 0.5048930644989014\n",
      "epoch: 32, train_loss: 0.5, valid_loss: 0.5004546046257019\n",
      "epoch: 33, train_loss: 0.496, valid_loss: 0.496039479970932\n",
      "epoch: 34, train_loss: 0.491, valid_loss: 0.4921727180480957\n",
      "epoch: 35, train_loss: 0.487, valid_loss: 0.48811420798301697\n",
      "epoch: 36, train_loss: 0.483, valid_loss: 0.48476386070251465\n",
      "epoch: 37, train_loss: 0.479, valid_loss: 0.480643630027771\n",
      "epoch: 38, train_loss: 0.476, valid_loss: 0.4772971570491791\n",
      "epoch: 39, train_loss: 0.472, valid_loss: 0.4744721055030823\n",
      "epoch: 40, train_loss: 0.469, valid_loss: 0.47135356068611145\n",
      "epoch: 41, train_loss: 0.466, valid_loss: 0.468290776014328\n",
      "epoch: 42, train_loss: 0.462, valid_loss: 0.4652671217918396\n",
      "epoch: 43, train_loss: 0.459, valid_loss: 0.4629662036895752\n",
      "epoch: 44, train_loss: 0.456, valid_loss: 0.4602280557155609\n",
      "epoch: 45, train_loss: 0.454, valid_loss: 0.4574364423751831\n",
      "epoch: 46, train_loss: 0.451, valid_loss: 0.4552847445011139\n",
      "epoch: 47, train_loss: 0.448, valid_loss: 0.4527874290943146\n",
      "epoch: 48, train_loss: 0.446, valid_loss: 0.45067667961120605\n",
      "epoch: 49, train_loss: 0.444, valid_loss: 0.44830450415611267\n",
      "epoch: 50, train_loss: 0.441, valid_loss: 0.44649481773376465\n",
      "epoch: 51, train_loss: 0.439, valid_loss: 0.4443899691104889\n",
      "epoch: 52, train_loss: 0.437, valid_loss: 0.4423472583293915\n",
      "epoch: 53, train_loss: 0.435, valid_loss: 0.4403514564037323\n",
      "epoch: 54, train_loss: 0.433, valid_loss: 0.4383808970451355\n",
      "epoch: 55, train_loss: 0.431, valid_loss: 0.4367353320121765\n",
      "epoch: 56, train_loss: 0.429, valid_loss: 0.43481263518333435\n",
      "epoch: 57, train_loss: 0.427, valid_loss: 0.4331543743610382\n",
      "epoch: 58, train_loss: 0.425, valid_loss: 0.4317629337310791\n",
      "epoch: 59, train_loss: 0.423, valid_loss: 0.43011319637298584\n",
      "epoch: 60, train_loss: 0.421, valid_loss: 0.4283272624015808\n",
      "epoch: 61, train_loss: 0.42, valid_loss: 0.42688968777656555\n",
      "epoch: 62, train_loss: 0.418, valid_loss: 0.42550626397132874\n",
      "epoch: 63, train_loss: 0.417, valid_loss: 0.4243999421596527\n",
      "epoch: 64, train_loss: 0.415, valid_loss: 0.4228130280971527\n",
      "epoch: 65, train_loss: 0.413, valid_loss: 0.42146730422973633\n",
      "epoch: 66, train_loss: 0.412, valid_loss: 0.42025911808013916\n",
      "epoch: 67, train_loss: 0.411, valid_loss: 0.41902071237564087\n",
      "epoch: 68, train_loss: 0.409, valid_loss: 0.4177708625793457\n",
      "epoch: 69, train_loss: 0.408, valid_loss: 0.4163239896297455\n",
      "epoch: 70, train_loss: 0.407, valid_loss: 0.4155981242656708\n",
      "epoch: 71, train_loss: 0.405, valid_loss: 0.4144154489040375\n",
      "epoch: 72, train_loss: 0.404, valid_loss: 0.41292276978492737\n",
      "epoch: 73, train_loss: 0.403, valid_loss: 0.41187945008277893\n",
      "epoch: 74, train_loss: 0.402, valid_loss: 0.41082650423049927\n",
      "epoch: 75, train_loss: 0.4, valid_loss: 0.40972867608070374\n",
      "epoch: 76, train_loss: 0.399, valid_loss: 0.4088776111602783\n",
      "epoch: 77, train_loss: 0.398, valid_loss: 0.4080572724342346\n",
      "epoch: 78, train_loss: 0.397, valid_loss: 0.4069041311740875\n",
      "epoch: 79, train_loss: 0.396, valid_loss: 0.4062517285346985\n",
      "epoch: 80, train_loss: 0.395, valid_loss: 0.40505102276802063\n",
      "epoch: 81, train_loss: 0.394, valid_loss: 0.40425756573677063\n",
      "epoch: 82, train_loss: 0.393, valid_loss: 0.40329766273498535\n",
      "epoch: 83, train_loss: 0.392, valid_loss: 0.4025726616382599\n",
      "epoch: 84, train_loss: 0.391, valid_loss: 0.4018852114677429\n",
      "epoch: 85, train_loss: 0.39, valid_loss: 0.40080299973487854\n",
      "epoch: 86, train_loss: 0.389, valid_loss: 0.4001106023788452\n",
      "epoch: 87, train_loss: 0.388, valid_loss: 0.3991531431674957\n",
      "epoch: 88, train_loss: 0.387, valid_loss: 0.39841458201408386\n",
      "epoch: 89, train_loss: 0.386, valid_loss: 0.39755377173423767\n",
      "epoch: 90, train_loss: 0.385, valid_loss: 0.39693915843963623\n",
      "epoch: 91, train_loss: 0.384, valid_loss: 0.39631861448287964\n",
      "epoch: 92, train_loss: 0.383, valid_loss: 0.3957342505455017\n",
      "epoch: 93, train_loss: 0.383, valid_loss: 0.39480143785476685\n",
      "epoch: 94, train_loss: 0.382, valid_loss: 0.39424702525138855\n",
      "epoch: 95, train_loss: 0.381, valid_loss: 0.39355945587158203\n",
      "epoch: 96, train_loss: 0.38, valid_loss: 0.3926595151424408\n",
      "epoch: 97, train_loss: 0.379, valid_loss: 0.3921754062175751\n",
      "epoch: 98, train_loss: 0.379, valid_loss: 0.39147716760635376\n",
      "epoch: 99, train_loss: 0.378, valid_loss: 0.39071014523506165\n",
      "epoch: 100, train_loss: 0.377, valid_loss: 0.39015084505081177\n"
     ]
    }
   ],
   "source": [
    "nn_model = NN(300, 4)\n",
    "criterion = nn.CrossEntropyLoss()\n",
    "optimizer = torch.optim.SGD(nn_model.parameters(), lr=0.01)\n",
    "\n",
    "NUM_EPOCHS = 100\n",
    "for epoch in range(NUM_EPOCHS):\n",
    "    nn_model.train()\n",
    "    train_loss = 0.0\n",
    "    for i, (X, y) in enumerate(train_dataloader):\n",
    "        optimizer.zero_grad()\n",
    "        y_pred = nn_model(X)\n",
    "        loss = criterion(y_pred, y)\n",
    "        loss.backward()\n",
    "        optimizer.step()\n",
    "        train_loss += loss.item()\n",
    "    train_loss = round(train_loss / i, 3)\n",
    "    \n",
    "    nn_model.eval()\n",
    "    with torch.no_grad():\n",
    "        X, y = next(iter(valid_dataloader))\n",
    "        y_pred = nn_model(X)\n",
    "        valid_loss = criterion(y_pred, y)\n",
    "        valid_loss = valid_loss\n",
    "    \n",
    "    print(f'epoch: {epoch+1}, train_loss: {train_loss}, valid_loss: {valid_loss}')"
   ]
  },
  {
   "cell_type": "markdown",
   "id": "318add6d-6b64-4f71-ad2c-a969d06ba84d",
   "metadata": {},
   "source": [
    "### 74.正解率の計測  \n",
    "問題73で求めた行列を用いて学習データおよび評価データの事例を分類したとき，その正解率をそれぞれ求めよ"
   ]
  },
  {
   "cell_type": "code",
   "execution_count": 57,
   "id": "bd3bf828-3645-40a3-b3da-68c1676a3cd0",
   "metadata": {
    "tags": []
   },
   "outputs": [],
   "source": [
    "def acc_and_loss(model, criterion, loader):\n",
    "    model.eval()\n",
    "    loss = 0.0\n",
    "    amount = 0\n",
    "    correct = 0\n",
    "    with torch.no_grad():\n",
    "        for X, y in loader:\n",
    "            y_proba = model(X)\n",
    "            loss += criterion(y_proba, y).item()\n",
    "            y_pred = torch.argmax(y_proba, dim=-1)\n",
    "            amount += len(X)\n",
    "            correct += (y_pred == y).sum().item()\n",
    "            \n",
    "    return loss / len(loader), correct / amount\n",
    "\n",
    "# train_acc = acc(nn_model, train_dataloader)\n",
    "# test_acc = acc(nn_model, test_dataloader)\n",
    "# print(f'学習データの正解率: {train_acc}')\n",
    "# print(f'評価データの正解率: {test_acc}')"
   ]
  },
  {
   "cell_type": "markdown",
   "id": "1703b1b1-2fb2-41af-9e7d-7ff1e0278973",
   "metadata": {},
   "source": [
    "### 75.損失と正解率のプロット  \n",
    "問題73のコードを改変し，各エポックのパラメータ更新が完了するたびに，訓練データでの損失，正解率，検証データでの損失，正解率をグラフにプロットし，学習の進捗状況を確認できるようにせよ．"
   ]
  },
  {
   "cell_type": "code",
   "execution_count": 58,
   "id": "bd154dbe-161e-4cd6-83da-023b146a300f",
   "metadata": {
    "tags": []
   },
   "outputs": [
    {
     "name": "stdout",
     "output_type": "stream",
     "text": [
      "epoch: 1, train_loss: 0.0, train_acc: 0.7306971514242878, valid_loss: 0.32760679721832275, valid_acc: 0.7406296851574213\n",
      "epoch: 2, train_loss: 0.0, train_acc: 0.7827023988005997, valid_loss: 0.32760679721832275, valid_acc: 0.7901049475262368\n",
      "epoch: 3, train_loss: 0.0, train_acc: 0.8102511244377811, valid_loss: 0.32760679721832275, valid_acc: 0.823088455772114\n",
      "epoch: 4, train_loss: 0.0, train_acc: 0.8279610194902549, valid_loss: 0.32760679721832275, valid_acc: 0.8455772113943029\n",
      "epoch: 5, train_loss: 0.0, train_acc: 0.8392053973013494, valid_loss: 0.32760679721832275, valid_acc: 0.8530734632683659\n",
      "epoch: 6, train_loss: 0.0, train_acc: 0.8460457271364318, valid_loss: 0.32760679721832275, valid_acc: 0.856071964017991\n",
      "epoch: 7, train_loss: 0.0, train_acc: 0.8528860569715142, valid_loss: 0.32760679721832275, valid_acc: 0.8665667166416792\n",
      "epoch: 8, train_loss: 0.0, train_acc: 0.8581334332833583, valid_loss: 0.32760679721832275, valid_acc: 0.8695652173913043\n",
      "epoch: 9, train_loss: 0.0, train_acc: 0.8632871064467766, valid_loss: 0.32760679721832275, valid_acc: 0.8718140929535232\n",
      "epoch: 10, train_loss: 0.0, train_acc: 0.8664730134932533, valid_loss: 0.32760679721832275, valid_acc: 0.8695652173913043\n",
      "epoch: 11, train_loss: 0.0, train_acc: 0.8695652173913043, valid_loss: 0.32760679721832275, valid_acc: 0.8785607196401799\n",
      "epoch: 12, train_loss: 0.0, train_acc: 0.8744377811094453, valid_loss: 0.32760679721832275, valid_acc: 0.8778110944527736\n",
      "epoch: 13, train_loss: 0.0, train_acc: 0.8766866566716641, valid_loss: 0.32760679721832275, valid_acc: 0.8793103448275862\n",
      "epoch: 14, train_loss: 0.0, train_acc: 0.8779985007496252, valid_loss: 0.32760679721832275, valid_acc: 0.8830584707646177\n",
      "epoch: 15, train_loss: 0.0, train_acc: 0.8785607196401799, valid_loss: 0.32760679721832275, valid_acc: 0.8823088455772113\n",
      "epoch: 16, train_loss: 0.0, train_acc: 0.8809032983508246, valid_loss: 0.32760679721832275, valid_acc: 0.8853073463268366\n",
      "epoch: 17, train_loss: 0.0, train_acc: 0.8821214392803598, valid_loss: 0.32760679721832275, valid_acc: 0.883808095952024\n",
      "epoch: 18, train_loss: 0.0, train_acc: 0.883808095952024, valid_loss: 0.32760679721832275, valid_acc: 0.8808095952023988\n",
      "epoch: 19, train_loss: 0.0, train_acc: 0.8834332833583208, valid_loss: 0.32760679721832275, valid_acc: 0.883808095952024\n",
      "epoch: 20, train_loss: 0.0, train_acc: 0.8849325337331334, valid_loss: 0.32760679721832275, valid_acc: 0.883808095952024\n",
      "epoch: 21, train_loss: 0.0, train_acc: 0.8866191904047976, valid_loss: 0.32760679721832275, valid_acc: 0.8860569715142429\n",
      "epoch: 22, train_loss: 0.0, train_acc: 0.8867128935532234, valid_loss: 0.32760679721832275, valid_acc: 0.8883058470764618\n",
      "epoch: 23, train_loss: 0.0, train_acc: 0.8880247376311844, valid_loss: 0.32760679721832275, valid_acc: 0.889055472263868\n",
      "epoch: 24, train_loss: 0.0, train_acc: 0.8867128935532234, valid_loss: 0.32760679721832275, valid_acc: 0.8845577211394303\n",
      "epoch: 25, train_loss: 0.0, train_acc: 0.8875562218890555, valid_loss: 0.32760679721832275, valid_acc: 0.8853073463268366\n",
      "epoch: 26, train_loss: 0.0, train_acc: 0.8892428785607196, valid_loss: 0.32760679721832275, valid_acc: 0.8875562218890555\n",
      "epoch: 27, train_loss: 0.0, train_acc: 0.8913980509745127, valid_loss: 0.32760679721832275, valid_acc: 0.8898050974512743\n",
      "epoch: 28, train_loss: 0.0, train_acc: 0.8915854572713643, valid_loss: 0.32760679721832275, valid_acc: 0.8913043478260869\n",
      "epoch: 29, train_loss: 0.0, train_acc: 0.8914917541229386, valid_loss: 0.32760679721832275, valid_acc: 0.8898050974512743\n",
      "epoch: 30, train_loss: 0.0, train_acc: 0.8928035982008995, valid_loss: 0.32760679721832275, valid_acc: 0.8905547226386806\n"
     ]
    }
   ],
   "source": [
    "nn_model = NN(300, 4)\n",
    "criterion = nn.CrossEntropyLoss()\n",
    "optimizer = torch.optim.SGD(nn_model.parameters(), lr=0.01)\n",
    "\n",
    "NUM_EPOCHS = 30\n",
    "acc_loss_train = []\n",
    "acc_loss_valid = []\n",
    "for epoch in range(NUM_EPOCHS):\n",
    "    nn_model.train()\n",
    "    train_loss = 0.0\n",
    "    for i, (X, y) in enumerate(train_dataloader):\n",
    "        optimizer.zero_grad()\n",
    "        y_pred = nn_model(X)\n",
    "        loss = criterion(y_pred, y)\n",
    "        loss.backward()\n",
    "        optimizer.step()\n",
    "    \n",
    "    loss_train, acc_train = acc_and_loss(nn_model, criterion, train_dataloader)\n",
    "    loss_valid, acc_valid = acc_and_loss(nn_model, criterion, valid_dataloader)\n",
    "    acc_loss_train.append([acc_train, loss_train])\n",
    "    acc_loss_valid.append([acc_valid, loss_valid])\n",
    "    \n",
    "    print(f'epoch: {epoch+1}, train_loss: {train_loss}, train_acc: {acc_train}, valid_loss: {valid_loss}, valid_acc: {acc_valid}')"
   ]
  },
  {
   "cell_type": "code",
   "execution_count": 59,
   "id": "430503a7-d81f-4108-8eaa-8d82ae3e79b6",
   "metadata": {
    "tags": []
   },
   "outputs": [
    {
     "data": {
      "image/png": "[encoded data removed]",
      "text/plain": [
       "<Figure size 1500x500 with 2 Axes>"
      ]
     },
     "metadata": {},
     "output_type": "display_data"
    }
   ],
   "source": [
    "import numpy as np\n",
    "\n",
    "fig, ax = plt.subplots(1, 2, figsize=(15, 5))\n",
    "ax[0].plot(np.array(acc_loss_train).T[0], label='train')\n",
    "ax[0].plot(np.array(acc_loss_valid).T[0], label='valid')\n",
    "ax[0].set_xlabel('epoch')\n",
    "ax[0].set_ylabel('accuracy')\n",
    "ax[0].legend()\n",
    "ax[1].plot(np.array(acc_loss_train).T[1], label='train')\n",
    "ax[1].plot(np.array(acc_loss_valid).T[1], label='valid')\n",
    "ax[1].set_xlabel('epoch')\n",
    "ax[1].set_ylabel('loss')\n",
    "ax[1].legend()\n",
    "plt.show()"
   ]
  },
  {
   "cell_type": "markdown",
   "id": "6624537c-cb0d-4c51-99fe-cc75a4e7704d",
   "metadata": {},
   "source": [
    "### 76.チェックポイント  \n",
    "問題75のコードを改変し，各エポックのパラメータ更新が完了するたびに，チェックポイント（学習途中のパラメータ（重み行列など）の値や最適化アルゴリズムの内部状態）をファイルに書き出せ．"
   ]
  },
  {
   "cell_type": "code",
   "execution_count": 62,
   "id": "36f0ed24-8a7b-4187-a01c-08d2bd46d6ee",
   "metadata": {
    "tags": []
   },
   "outputs": [
    {
     "name": "stdout",
     "output_type": "stream",
     "text": [
      "epoch: 1, loss_train: 0.6731372057608784, acc_train: 0.7512181409295352,    loss_valid: 0.6527791619300842, acc_valid: 0.7713643178410795\n",
      "epoch: 2, loss_train: 0.5570513917713554, acc_train: 0.7960082458770614,    loss_valid: 0.5405511260032654, acc_valid: 0.8088455772113943\n",
      "epoch: 3, loss_train: 0.5005978731249321, acc_train: 0.8183095952023988,    loss_valid: 0.48608866333961487, acc_valid: 0.8328335832083958\n",
      "epoch: 4, loss_train: 0.4629505109246013, acc_train: 0.8349887556221889,    loss_valid: 0.4508402943611145, acc_valid: 0.8448275862068966\n",
      "epoch: 5, loss_train: 0.43793197591743577, acc_train: 0.845952023988006,    loss_valid: 0.4282294809818268, acc_valid: 0.8575712143928036\n",
      "epoch: 6, loss_train: 0.41977361082311426, acc_train: 0.8545727136431784,    loss_valid: 0.4122425615787506, acc_valid: 0.8628185907046477\n",
      "epoch: 7, loss_train: 0.40518010467528837, acc_train: 0.8598200899550225,    loss_valid: 0.4003675580024719, acc_valid: 0.868815592203898\n",
      "epoch: 8, loss_train: 0.3941708473545204, acc_train: 0.8640367316341829,    loss_valid: 0.3913780450820923, acc_valid: 0.8710644677661169\n",
      "epoch: 9, loss_train: 0.3846594531552067, acc_train: 0.868815592203898,    loss_valid: 0.38398680090904236, acc_valid: 0.8710644677661169\n",
      "epoch: 10, loss_train: 0.3767748954253121, acc_train: 0.8701274362818591,    loss_valid: 0.37661129236221313, acc_valid: 0.8785607196401799\n",
      "epoch: 11, loss_train: 0.36982741306292477, acc_train: 0.8741566716641679,    loss_valid: 0.37196505069732666, acc_valid: 0.8808095952023988\n",
      "epoch: 12, loss_train: 0.3636042318439602, acc_train: 0.8758433283358321,    loss_valid: 0.3674713671207428, acc_valid: 0.8808095952023988\n",
      "epoch: 13, loss_train: 0.35876452721522023, acc_train: 0.8757496251874063,    loss_valid: 0.36269426345825195, acc_valid: 0.8860569715142429\n",
      "epoch: 14, loss_train: 0.3535497706159499, acc_train: 0.8778110944527736,    loss_valid: 0.35920289158821106, acc_valid: 0.8830584707646177\n",
      "epoch: 15, loss_train: 0.34893903668836596, acc_train: 0.8799662668665668,    loss_valid: 0.35576698184013367, acc_valid: 0.8883058470764618\n",
      "epoch: 16, loss_train: 0.3451819553447519, acc_train: 0.881184407796102,    loss_valid: 0.35294246673583984, acc_valid: 0.8883058470764618\n",
      "epoch: 17, loss_train: 0.34129309077583425, acc_train: 0.8824025487256372,    loss_valid: 0.35087788105010986, acc_valid: 0.889055472263868\n",
      "epoch: 18, loss_train: 0.3384587169196123, acc_train: 0.8832458770614693,    loss_valid: 0.3482376039028168, acc_valid: 0.8875562218890555\n",
      "epoch: 19, loss_train: 0.33554735512113665, acc_train: 0.8852136431784108,    loss_valid: 0.34656739234924316, acc_valid: 0.8898050974512743\n",
      "epoch: 20, loss_train: 0.3323639362015037, acc_train: 0.8847451274362819,    loss_valid: 0.3447209894657135, acc_valid: 0.8905547226386806\n",
      "epoch: 21, loss_train: 0.3305983646782962, acc_train: 0.8863380809595203,    loss_valid: 0.3436391055583954, acc_valid: 0.889055472263868\n",
      "epoch: 22, loss_train: 0.32726294397448547, acc_train: 0.8871814092953523,    loss_valid: 0.34072160720825195, acc_valid: 0.8943028485757122\n",
      "epoch: 23, loss_train: 0.32489873363804683, acc_train: 0.8873688155922039,    loss_valid: 0.33973559737205505, acc_valid: 0.8928035982008995\n",
      "epoch: 24, loss_train: 0.32304945204387453, acc_train: 0.888680659670165,    loss_valid: 0.33818355202674866, acc_valid: 0.8958020989505248\n",
      "epoch: 25, loss_train: 0.32114153068025536, acc_train: 0.8872751124437781,    loss_valid: 0.33795595169067383, acc_valid: 0.8898050974512743\n",
      "epoch: 26, loss_train: 0.3188958106713866, acc_train: 0.8892428785607196,    loss_valid: 0.3363127112388611, acc_valid: 0.8920539730134932\n",
      "epoch: 27, loss_train: 0.31676776747585683, acc_train: 0.890835832083958,    loss_valid: 0.334451824426651, acc_valid: 0.8943028485757122\n",
      "epoch: 28, loss_train: 0.31596179307686734, acc_train: 0.892616191904048,    loss_valid: 0.3331349492073059, acc_valid: 0.8920539730134932\n",
      "epoch: 29, loss_train: 0.3140372358040708, acc_train: 0.8925224887556222,    loss_valid: 0.33273711800575256, acc_valid: 0.8905547226386806\n",
      "epoch: 30, loss_train: 0.3127878318556563, acc_train: 0.8911169415292354,    loss_valid: 0.3331952691078186, acc_valid: 0.8905547226386806\n"
     ]
    }
   ],
   "source": [
    "#ptファイルにセーブする\n",
    "nn_model = NN(300, 4)\n",
    "criterion = nn.CrossEntropyLoss()\n",
    "optimizer = torch.optim.SGD(nn_model.parameters(), lr=0.01)\n",
    "\n",
    "NUM_EPOCHS = 30\n",
    "acc_loss_train = []\n",
    "acc_loss_valid = []\n",
    "for epoch in range(NUM_EPOCHS):\n",
    "    nn_model.train()\n",
    "    for X, y in train_dataloader:\n",
    "        optimizer.zero_grad()\n",
    "        y_proba = nn_model(X)\n",
    "        loss = criterion(y_proba, y)\n",
    "        loss.backward()\n",
    "        optimizer.step()\n",
    "    \n",
    "    loss_train, acc_train = acc_and_loss(nn_model, criterion, train_dataloader)\n",
    "    loss_valid, acc_valid = acc_and_loss(nn_model, criterion, valid_dataloader)\n",
    "    acc_loss_train.append([loss_train, acc_train])\n",
    "    acc_loss_valid.append([loss_valid, acc_valid])\n",
    "    \n",
    "    torch.save({'epoch': epoch, 'model_state_dict': nn_model.state_dict(),\\\n",
    "                'optimizer_state_dict': optimizer.state_dict()},\\\n",
    "               f'./checkpoint/checkpoint{epoch + 1}.pt')\n",
    "    print(f'epoch: {epoch+1}, loss_train: {loss_train}, acc_train: {acc_train},\\\n",
    "    loss_valid: {loss_valid}, acc_valid: {acc_valid}')"
   ]
  },
  {
   "cell_type": "markdown",
   "id": "cda2520a-72ab-4094-9eb2-49493435caea",
   "metadata": {},
   "source": [
    "### 77.ミニバッチ化  \n",
    "問題76のコードを改変し，B\n",
    "事例ごとに損失・勾配を計算し，行列W\n",
    "の値を更新せよ（ミニバッチ化）．B\n",
    "の値を1,2,4,8,…\n",
    "と変化させながら，1エポックの学習に要する時間を比較せよ"
   ]
  },
  {
   "cell_type": "code",
   "execution_count": 75,
   "id": "df48fe54-3691-4827-9c46-4708b810ed3b",
   "metadata": {
    "tags": []
   },
   "outputs": [],
   "source": [
    "#DataLoaderのbatch_sizeを変える必要があるので，そこからまとめて定義する\n",
    "import time\n",
    "\n",
    "def train_valid_model(train_dataset, valid_dataset, batch_size, nn_model, criterion, optimizer, num_epochs):\n",
    "    train_dataloader = DataLoader(train_dataset, batch_size=batch_size, shuffle=True, drop_last=True)\n",
    "    valid_dataloder = DataLoader(valid_dataset, batch_size=len(valid_dataset))\n",
    "    \n",
    "    loss_acc_train = []\n",
    "    loss_acc_valid = []\n",
    "    for epoch in range(num_epochs):\n",
    "        train_start = time.time()\n",
    "        \n",
    "        nn_model.train()\n",
    "        for X, y in train_dataloader:\n",
    "            optimizer.zero_grad()\n",
    "            y_proba = nn_model(X)\n",
    "            loss = criterion(y_proba, y)\n",
    "            loss.backward()\n",
    "            optimizer.step()\n",
    "            \n",
    "        loss_train, acc_train = acc_and_loss(nn_model, criterion, train_dataloader)\n",
    "        loss_valid, acc_valid = acc_and_loss(nn_model, criterion, valid_dataloader)\n",
    "        loss_acc_train.append([loss_train, acc_train])\n",
    "        loss_acc_valid.append([loss_valid, acc_valid])\n",
    "        \n",
    "        # torch.save({'epoch': epoch, 'model_state_dict': nn_model.state_dict(),\\\n",
    "        #             'optimizer_state_dict': optimizer.state_dict()},\\\n",
    "        #            f'./checkpoint/checkpoint{epoch+1}.pt')\n",
    "        \n",
    "        train_end = time.time()\n",
    "        \n",
    "        if epoch+1 == num_epochs:\n",
    "            print(f'epoch: {epoch+1}, loss_train: {loss_train}, acc_train: {acc_train},\\\n",
    "            loss_valid: {loss_valid}, acc_valid: {acc_valid}, train_time: {train_end - train_start}sec')"
   ]
  },
  {
   "cell_type": "code",
   "execution_count": 76,
   "id": "96a9a83c-9650-4e2b-9dfb-9620dc4e6ef0",
   "metadata": {
    "tags": []
   },
   "outputs": [
    {
     "name": "stdout",
     "output_type": "stream",
     "text": [
      "バッチサイズ: 1\n",
      "epoch: 1, loss_train: 0.3872192031081051, acc_train: 0.8652548725637181,            loss_valid: 0.3916949927806854, acc_valid: 0.863568215892054, train_time: 1.3336031436920166sec\n",
      "バッチサイズ: 2\n",
      "epoch: 1, loss_train: 0.35436927100081544, acc_train: 0.8765929535232384,            loss_valid: 0.36528146266937256, acc_valid: 0.876311844077961, train_time: 0.8508570194244385sec\n",
      "バッチサイズ: 4\n",
      "epoch: 1, loss_train: 0.34541528078623923, acc_train: 0.8784670164917541,            loss_valid: 0.358160138130188, acc_valid: 0.876311844077961, train_time: 0.48638105392456055sec\n",
      "バッチサイズ: 8\n",
      "epoch: 1, loss_train: 0.3380100801196145, acc_train: 0.8829647676161919,            loss_valid: 0.3512425422668457, acc_valid: 0.8793103448275862, train_time: 0.28769397735595703sec\n",
      "バッチサイズ: 16\n",
      "epoch: 1, loss_train: 0.33572789859389707, acc_train: 0.8835269865067467,            loss_valid: 0.3497042953968048, acc_valid: 0.8800599700149925, train_time: 0.18026494979858398sec\n",
      "バッチサイズ: 32\n",
      "epoch: 1, loss_train: 0.3354501436959516, acc_train: 0.8839151651651652,            loss_valid: 0.34878867864608765, acc_valid: 0.881559220389805, train_time: 0.13994288444519043sec\n",
      "バッチサイズ: 64\n",
      "epoch: 1, loss_train: 0.33453436429242056, acc_train: 0.8844126506024096,            loss_valid: 0.3485291004180908, acc_valid: 0.8793103448275862, train_time: 0.09987020492553711sec\n",
      "バッチサイズ: 128\n",
      "epoch: 1, loss_train: 0.3334876480231802, acc_train: 0.8851656626506024,            loss_valid: 0.3483969271183014, acc_valid: 0.8793103448275862, train_time: 0.08864402770996094sec\n",
      "バッチサイズ: 256\n",
      "epoch: 1, loss_train: 0.33396282646714187, acc_train: 0.8849085365853658,            loss_valid: 0.3483325242996216, acc_valid: 0.8793103448275862, train_time: 0.08423423767089844sec\n",
      "バッチサイズ: 512\n",
      "epoch: 1, loss_train: 0.33503674119710924, acc_train: 0.8837890625,            loss_valid: 0.3483026325702667, acc_valid: 0.8793103448275862, train_time: 0.07900333404541016sec\n",
      "バッチサイズ: 1024\n",
      "epoch: 1, loss_train: 0.33649138510227206, acc_train: 0.88349609375,            loss_valid: 0.34828510880470276, acc_valid: 0.8793103448275862, train_time: 0.07932400703430176sec\n",
      "バッチサイズ: 2048\n",
      "epoch: 1, loss_train: 0.3351451575756073, acc_train: 0.8837890625,            loss_valid: 0.3482798933982849, acc_valid: 0.8793103448275862, train_time: 0.44580578804016113sec\n",
      "バッチサイズ: 4096\n",
      "epoch: 1, loss_train: 0.33522267639636993, acc_train: 0.885498046875,            loss_valid: 0.3482845723628998, acc_valid: 0.8793103448275862, train_time: 0.06927204132080078sec\n"
     ]
    }
   ],
   "source": [
    "train_dataset = MyDatasets(X_train, y_train)\n",
    "valid_dataset = MyDatasets(X_valid, y_valid)\n",
    "nn_model = NN(300, 4)\n",
    "criterion = nn.CrossEntropyLoss()\n",
    "optimizer = torch.optim.SGD(nn_model.parameters(), lr=0.1)\n",
    "for batch_size in [2 ** i for i in range(13)]:\n",
    "    print(f'バッチサイズ: {batch_size}')\n",
    "    train_valid_model(train_dataset, valid_dataset, batch_size, nn_model, criterion, optimizer, 1)"
   ]
  },
  {
   "cell_type": "markdown",
   "id": "802f5d98-f632-4a2c-9f56-c67c3bc0c833",
   "metadata": {},
   "source": [
    "### 78.GPU上での学習  \n",
    "問題７７のコードを改変し，GPU上で学習を実行せよ．"
   ]
  },
  {
   "cell_type": "markdown",
   "id": "7a07cb43-4671-4af2-b7b5-42fa305e7cc9",
   "metadata": {},
   "source": [
    "### 79.MLP  \n",
    "問題78のコードを改変し，バイアス項の導入や多層化など，ニューラルネットワークの形状を変更しながら，高性能なカテゴリ分類器を構築せよ．  \n",
    "学習率のスケジューラーは[このページ](https://pytorch.org/docs/stable/optim.html#how-to-adjust-learning-rate)を参考にした"
   ]
  },
  {
   "cell_type": "code",
   "execution_count": 85,
   "id": "d7a3488c-b970-448c-9726-7dacbe4a9696",
   "metadata": {
    "tags": []
   },
   "outputs": [],
   "source": [
    "import torch\n",
    "from torch import nn\n",
    "from torch.nn import functional as F\n",
    "\n",
    "class MLP(nn.Module):\n",
    "    def __init__(self, input_size, middle_size, output_size, middle_layers):\n",
    "        super().__init__()\n",
    "        self.middle_layers = middle_layers\n",
    "        self.bn_in = nn.BatchNorm1d(input_size)\n",
    "        self.bn_mid = nn.BatchNorm1d(middle_size)\n",
    "        self.l1 = nn.Linear(input_size, middle_size)\n",
    "        self.l2 = nn.Linear(middle_size, middle_size)\n",
    "        self.l3 = nn.Linear(middle_size, output_size)\n",
    "        \n",
    "    def forward(self, X):\n",
    "        X = self.bn_in(X)\n",
    "        X = F.relu(self.l1(X))\n",
    "        X = self.bn_mid(X)\n",
    "        X_0 = X.detach()\n",
    "        for _ in range(self.middle_layers):\n",
    "            X = F.relu(self.l2(X))\n",
    "            X = self.bn_mid(X)\n",
    "        X += X_0\n",
    "        X = F.softmax(X, dim=1)\n",
    "        return X"
   ]
  },
  {
   "cell_type": "code",
   "execution_count": 93,
   "id": "00ea1493-4587-40a0-909d-d1047f939608",
   "metadata": {
    "tags": []
   },
   "outputs": [],
   "source": [
    "from tqdm import tqdm\n",
    "\n",
    "def loss_and_acc(model, criterion, loader, device):\n",
    "    model.eval()\n",
    "    loss = 0.0\n",
    "    total = 0\n",
    "    correct = 0\n",
    "    with torch.no_grad():\n",
    "        for X, y in loader:\n",
    "            X = X.to(device)\n",
    "            y = y.to(device)\n",
    "            y_proba = model(X)\n",
    "            loss += criterion(y_proba, y).item()\n",
    "            y_pred = torch.argmax(y_proba, dim=-1)\n",
    "            total += len(X)\n",
    "            correct += (y_pred == y).sum().item()\n",
    "    return loss / len(loader), correct / total\n",
    "\n",
    "def train_valid_model(train_dataset, valid_dataset, batch_size, model, criterion, optimizer, num_epochs):\n",
    "    device = 'cuda' if torch.cuda.is_available() else 'cpu'\n",
    "    model.to(device)\n",
    "    \n",
    "    train_dataloader = DataLoader(train_dataset, batch_size=batch_size, shuffle=True, drop_last=True)\n",
    "    valid_dataloader = DataLoader(valid_dataset, batch_size=len(valid_dataset))\n",
    "    \n",
    "    scheduler = torch.optim.lr_scheduler.ReduceLROnPlateau(optimizer, 'min')\n",
    "    \n",
    "    loss_acc_train = []\n",
    "    loss_acc_valid = []\n",
    "    for epoch in tqdm(range(num_epochs)):\n",
    "        train_start = time.time()\n",
    "        model.train()\n",
    "        for X, y in train_dataloader:\n",
    "            optimizer.zero_grad()\n",
    "            X = X.to(device)\n",
    "            y = y.to(device)\n",
    "            y_proba = model.forward(X)\n",
    "            loss = criterion(y_proba, y)\n",
    "            loss.backward()\n",
    "            optimizer.step()\n",
    "            \n",
    "        loss_train, acc_train = loss_and_acc(model, criterion, train_dataloader, device)\n",
    "        loss_valid, acc_valid = loss_and_acc(model, criterion, valid_dataloader, device)\n",
    "        loss_acc_train.append([loss_train, acc_train])\n",
    "        loss_acc_valid.append([loss_valid, acc_valid])\n",
    "        \n",
    "        torch.save({'epoch': epoch, 'model_state_dict': model.state_dict(),\\\n",
    "                    'optimizer_state_dict': optimizer.state_dict()},\\\n",
    "                   f'./checkpoint/checkpoint{epoch+1}')\n",
    "        \n",
    "        train_end = time.time()\n",
    "        \n",
    "        print(f'epoch: {epoch+1}, loss_train: {loss_train}, acc_train: {acc_train},\\\n",
    "        loss_valid: {loss_valid}, acc_valid: {acc_valid}, \\\n",
    "        train_time: {train_end-train_start}sec')\n",
    "        \n",
    "        scheduler.step(metrics=valid_loss)\n",
    "        \n",
    "    return {'train': loss_acc_train, 'valid': loss_acc_valid}"
   ]
  },
  {
   "cell_type": "code",
   "execution_count": 98,
   "id": "678c1c81-8b08-4632-9466-a18c4aa56ab6",
   "metadata": {
    "tags": []
   },
   "outputs": [
    {
     "name": "stderr",
     "output_type": "stream",
     "text": [
      "  1%|▍                                          | 1/100 [00:00<01:15,  1.31it/s]"
     ]
    },
    {
     "name": "stdout",
     "output_type": "stream",
     "text": [
      "epoch: 1, loss_train: 4.313480647834572, acc_train: 0.4264264264264264,        loss_valid: 4.319212913513184, acc_valid: 0.4205397301349325,         train_time: 0.7608251571655273sec\n"
     ]
    },
    {
     "name": "stderr",
     "output_type": "stream",
     "text": [
      "  2%|▊                                          | 2/100 [00:01<01:08,  1.43it/s]"
     ]
    },
    {
     "name": "stdout",
     "output_type": "stream",
     "text": [
      "epoch: 2, loss_train: 3.9991847423461824, acc_train: 0.740990990990991,        loss_valid: 3.9956204891204834, acc_valid: 0.7421289355322339,         train_time: 0.6519579887390137sec\n"
     ]
    },
    {
     "name": "stderr",
     "output_type": "stream",
     "text": [
      "  3%|█▎                                         | 3/100 [00:01<01:02,  1.55it/s]"
     ]
    },
    {
     "name": "stdout",
     "output_type": "stream",
     "text": [
      "epoch: 3, loss_train: 3.9478602115814394, acc_train: 0.8205705705705706,        loss_valid: 3.954472780227661, acc_valid: 0.8125937031484258,         train_time: 0.5837581157684326sec\n"
     ]
    },
    {
     "name": "stderr",
     "output_type": "stream",
     "text": [
      "  4%|█▋                                         | 4/100 [00:02<01:00,  1.58it/s]"
     ]
    },
    {
     "name": "stdout",
     "output_type": "stream",
     "text": [
      "epoch: 4, loss_train: 3.903526652682651, acc_train: 0.8503190690690691,        loss_valid: 3.916038751602173, acc_valid: 0.8335832083958021,         train_time: 0.6171779632568359sec\n"
     ]
    },
    {
     "name": "stderr",
     "output_type": "stream",
     "text": [
      "  5%|██▏                                        | 5/100 [00:03<00:58,  1.62it/s]"
     ]
    },
    {
     "name": "stdout",
     "output_type": "stream",
     "text": [
      "epoch: 5, loss_train: 3.873653715437239, acc_train: 0.8738738738738738,        loss_valid: 3.878260612487793, acc_valid: 0.8620689655172413,         train_time: 0.5845961570739746sec\n"
     ]
    },
    {
     "name": "stderr",
     "output_type": "stream",
     "text": [
      "  6%|██▌                                        | 6/100 [00:03<01:03,  1.48it/s]"
     ]
    },
    {
     "name": "stdout",
     "output_type": "stream",
     "text": [
      "epoch: 6, loss_train: 3.8248729426581582, acc_train: 0.8909534534534534,        loss_valid: 3.8404386043548584, acc_valid: 0.8695652173913043,         train_time: 0.7885069847106934sec\n"
     ]
    },
    {
     "name": "stderr",
     "output_type": "stream",
     "text": [
      "  7%|███                                        | 7/100 [00:04<01:01,  1.52it/s]"
     ]
    },
    {
     "name": "stdout",
     "output_type": "stream",
     "text": [
      "epoch: 7, loss_train: 3.8046507405805157, acc_train: 0.893674924924925,        loss_valid: 3.8243870735168457, acc_valid: 0.8703148425787106,         train_time: 0.6225709915161133sec\n"
     ]
    },
    {
     "name": "stderr",
     "output_type": "stream",
     "text": [
      "  8%|███▍                                       | 8/100 [00:05<01:04,  1.42it/s]"
     ]
    },
    {
     "name": "stdout",
     "output_type": "stream",
     "text": [
      "epoch: 8, loss_train: 3.789774752951957, acc_train: 0.9023085585585585,        loss_valid: 3.814948081970215, acc_valid: 0.8778110944527736,         train_time: 0.8039422035217285sec\n"
     ]
    },
    {
     "name": "stderr",
     "output_type": "stream",
     "text": [
      "  9%|███▊                                       | 9/100 [00:06<01:01,  1.47it/s]"
     ]
    },
    {
     "name": "stdout",
     "output_type": "stream",
     "text": [
      "epoch: 9, loss_train: 3.7889541434096143, acc_train: 0.9071884384384384,        loss_valid: 3.814438819885254, acc_valid: 0.8793103448275862,         train_time: 0.6207082271575928sec\n"
     ]
    },
    {
     "name": "stderr",
     "output_type": "stream",
     "text": [
      " 10%|████▏                                     | 10/100 [00:06<01:04,  1.39it/s]"
     ]
    },
    {
     "name": "stdout",
     "output_type": "stream",
     "text": [
      "epoch: 10, loss_train: 3.77853300335171, acc_train: 0.9076576576576577,        loss_valid: 3.8001949787139893, acc_valid: 0.8823088455772113,         train_time: 0.8053920269012451sec\n"
     ]
    },
    {
     "name": "stderr",
     "output_type": "stream",
     "text": [
      " 11%|████▌                                     | 11/100 [00:07<01:03,  1.40it/s]"
     ]
    },
    {
     "name": "stdout",
     "output_type": "stream",
     "text": [
      "epoch: 11, loss_train: 3.766093246929638, acc_train: 0.9149774774774775,        loss_valid: 3.7943472862243652, acc_valid: 0.8808095952023988,         train_time: 0.697746992111206sec\n"
     ]
    },
    {
     "name": "stderr",
     "output_type": "stream",
     "text": [
      " 12%|█████                                     | 12/100 [00:08<00:59,  1.47it/s]"
     ]
    },
    {
     "name": "stdout",
     "output_type": "stream",
     "text": [
      "epoch: 12, loss_train: 3.7525423489533387, acc_train: 0.9150713213213213,        loss_valid: 3.7761380672454834, acc_valid: 0.889055472263868,         train_time: 0.6031131744384766sec\n"
     ]
    },
    {
     "name": "stderr",
     "output_type": "stream",
     "text": [
      " 13%|█████▍                                    | 13/100 [00:08<01:03,  1.38it/s]"
     ]
    },
    {
     "name": "stdout",
     "output_type": "stream",
     "text": [
      "epoch: 13, loss_train: 3.749940880068072, acc_train: 0.9213588588588588,        loss_valid: 3.7766408920288086, acc_valid: 0.8928035982008995,         train_time: 0.8311119079589844sec\n"
     ]
    },
    {
     "name": "stderr",
     "output_type": "stream",
     "text": [
      " 14%|█████▉                                    | 14/100 [00:09<01:02,  1.38it/s]"
     ]
    },
    {
     "name": "stdout",
     "output_type": "stream",
     "text": [
      "epoch: 14, loss_train: 3.757388966935533, acc_train: 0.9214527027027027,        loss_valid: 3.7829957008361816, acc_valid: 0.8928035982008995,         train_time: 0.7230000495910645sec\n"
     ]
    },
    {
     "name": "stderr",
     "output_type": "stream",
     "text": [
      " 15%|██████▎                                   | 15/100 [00:10<01:04,  1.33it/s]"
     ]
    },
    {
     "name": "stdout",
     "output_type": "stream",
     "text": [
      "epoch: 15, loss_train: 3.759555564628349, acc_train: 0.9209834834834835,        loss_valid: 3.7842752933502197, acc_valid: 0.8928035982008995,         train_time: 0.8195719718933105sec\n"
     ]
    },
    {
     "name": "stderr",
     "output_type": "stream",
     "text": [
      " 16%|██████▋                                   | 16/100 [00:11<01:00,  1.39it/s]"
     ]
    },
    {
     "name": "stdout",
     "output_type": "stream",
     "text": [
      "epoch: 16, loss_train: 3.754098902235518, acc_train: 0.9239864864864865,        loss_valid: 3.7806336879730225, acc_valid: 0.8935532233883059,         train_time: 0.6360669136047363sec\n"
     ]
    },
    {
     "name": "stderr",
     "output_type": "stream",
     "text": [
      " 17%|███████▏                                  | 17/100 [00:11<00:57,  1.45it/s]"
     ]
    },
    {
     "name": "stdout",
     "output_type": "stream",
     "text": [
      "epoch: 17, loss_train: 3.758924382584947, acc_train: 0.921265015015015,        loss_valid: 3.7847185134887695, acc_valid: 0.8905547226386806,         train_time: 0.6251709461212158sec\n"
     ]
    },
    {
     "name": "stderr",
     "output_type": "stream",
     "text": [
      " 18%|███████▌                                  | 18/100 [00:12<00:59,  1.38it/s]"
     ]
    },
    {
     "name": "stdout",
     "output_type": "stream",
     "text": [
      "epoch: 18, loss_train: 3.755539738738143, acc_train: 0.9229542042042042,        loss_valid: 3.7837023735046387, acc_valid: 0.8883058470764618,         train_time: 0.8022868633270264sec\n"
     ]
    },
    {
     "name": "stderr",
     "output_type": "stream",
     "text": [
      " 19%|███████▉                                  | 19/100 [00:13<00:57,  1.40it/s]"
     ]
    },
    {
     "name": "stdout",
     "output_type": "stream",
     "text": [
      "epoch: 19, loss_train: 3.760844413940613, acc_train: 0.9226726726726727,        loss_valid: 3.7910923957824707, acc_valid: 0.8868065967016492,         train_time: 0.6826190948486328sec\n"
     ]
    },
    {
     "name": "stderr",
     "output_type": "stream",
     "text": [
      " 20%|████████▍                                 | 20/100 [00:13<00:54,  1.46it/s]"
     ]
    },
    {
     "name": "stdout",
     "output_type": "stream",
     "text": [
      "epoch: 20, loss_train: 3.76531520333734, acc_train: 0.9202327327327328,        loss_valid: 3.7933099269866943, acc_valid: 0.889055472263868,         train_time: 0.6193108558654785sec\n"
     ]
    },
    {
     "name": "stderr",
     "output_type": "stream",
     "text": [
      " 21%|████████▊                                 | 21/100 [00:14<00:55,  1.42it/s]"
     ]
    },
    {
     "name": "stdout",
     "output_type": "stream",
     "text": [
      "epoch: 21, loss_train: 3.7542354731230407, acc_train: 0.9283971471471472,        loss_valid: 3.7852678298950195, acc_valid: 0.8928035982008995,         train_time: 0.7569079399108887sec\n"
     ]
    },
    {
     "name": "stderr",
     "output_type": "stream",
     "text": [
      " 22%|█████████▏                                | 22/100 [00:15<00:57,  1.36it/s]"
     ]
    },
    {
     "name": "stdout",
     "output_type": "stream",
     "text": [
      "epoch: 22, loss_train: 3.7576716476016574, acc_train: 0.9259572072072072,        loss_valid: 3.7865443229675293, acc_valid: 0.8950524737631185,         train_time: 0.7964651584625244sec\n"
     ]
    },
    {
     "name": "stderr",
     "output_type": "stream",
     "text": [
      " 23%|█████████▋                                | 23/100 [00:16<00:53,  1.43it/s]"
     ]
    },
    {
     "name": "stdout",
     "output_type": "stream",
     "text": [
      "epoch: 23, loss_train: 3.7673580395924793, acc_train: 0.924831081081081,        loss_valid: 3.79630184173584, acc_valid: 0.8913043478260869,         train_time: 0.6226608753204346sec\n"
     ]
    },
    {
     "name": "stderr",
     "output_type": "stream",
     "text": [
      " 24%|██████████                                | 24/100 [00:16<00:51,  1.47it/s]"
     ]
    },
    {
     "name": "stdout",
     "output_type": "stream",
     "text": [
      "epoch: 24, loss_train: 3.7682780675343923, acc_train: 0.9282094594594594,        loss_valid: 3.79823637008667, acc_valid: 0.8935532233883059,         train_time: 0.636782169342041sec\n"
     ]
    },
    {
     "name": "stderr",
     "output_type": "stream",
     "text": [
      " 25%|██████████▌                               | 25/100 [00:17<00:51,  1.46it/s]"
     ]
    },
    {
     "name": "stdout",
     "output_type": "stream",
     "text": [
      "epoch: 25, loss_train: 3.7712377728642643, acc_train: 0.9226726726726727,        loss_valid: 3.797947883605957, acc_valid: 0.8898050974512743,         train_time: 0.6868946552276611sec\n"
     ]
    },
    {
     "name": "stderr",
     "output_type": "stream",
     "text": [
      " 26%|██████████▉                               | 26/100 [00:18<00:53,  1.37it/s]"
     ]
    },
    {
     "name": "stdout",
     "output_type": "stream",
     "text": [
      "epoch: 26, loss_train: 3.7716019196553274, acc_train: 0.9235172672672672,        loss_valid: 3.7989654541015625, acc_valid: 0.8898050974512743,         train_time: 0.8323142528533936sec\n"
     ]
    },
    {
     "name": "stderr",
     "output_type": "stream",
     "text": [
      " 27%|███████████▎                              | 27/100 [00:19<00:55,  1.33it/s]"
     ]
    },
    {
     "name": "stdout",
     "output_type": "stream",
     "text": [
      "epoch: 27, loss_train: 3.7687392556989514, acc_train: 0.9296171171171171,        loss_valid: 3.8028671741485596, acc_valid: 0.8883058470764618,         train_time: 0.8148248195648193sec\n"
     ]
    },
    {
     "name": "stderr",
     "output_type": "stream",
     "text": [
      " 28%|███████████▊                              | 28/100 [00:19<00:53,  1.34it/s]"
     ]
    },
    {
     "name": "stdout",
     "output_type": "stream",
     "text": [
      "epoch: 28, loss_train: 3.7593846070515857, acc_train: 0.9296171171171171,        loss_valid: 3.790492534637451, acc_valid: 0.8958020989505248,         train_time: 0.7223331928253174sec\n"
     ]
    },
    {
     "name": "stderr",
     "output_type": "stream",
     "text": [
      " 29%|████████████▏                             | 29/100 [00:20<00:48,  1.45it/s]"
     ]
    },
    {
     "name": "stdout",
     "output_type": "stream",
     "text": [
      "epoch: 29, loss_train: 3.7740415051892713, acc_train: 0.9218280780780781,        loss_valid: 3.802941083908081, acc_valid: 0.8905547226386806,         train_time: 0.5616750717163086sec\n"
     ]
    },
    {
     "name": "stderr",
     "output_type": "stream",
     "text": [
      " 30%|████████████▌                             | 30/100 [00:21<00:48,  1.44it/s]"
     ]
    },
    {
     "name": "stdout",
     "output_type": "stream",
     "text": [
      "epoch: 30, loss_train: 3.76651648859362, acc_train: 0.9281156156156156,        loss_valid: 3.798712730407715, acc_valid: 0.8920539730134932,         train_time: 0.7025032043457031sec\n"
     ]
    },
    {
     "name": "stderr",
     "output_type": "stream",
     "text": [
      " 31%|█████████████                             | 31/100 [00:21<00:47,  1.44it/s]"
     ]
    },
    {
     "name": "stdout",
     "output_type": "stream",
     "text": [
      "epoch: 31, loss_train: 3.7795089966542013, acc_train: 0.9230480480480481,        loss_valid: 3.808670997619629, acc_valid: 0.8920539730134932,         train_time: 0.6947171688079834sec\n"
     ]
    },
    {
     "name": "stderr",
     "output_type": "stream",
     "text": [
      " 32%|█████████████▍                            | 32/100 [00:22<00:47,  1.44it/s]"
     ]
    },
    {
     "name": "stdout",
     "output_type": "stream",
     "text": [
      "epoch: 32, loss_train: 3.754415389653799, acc_train: 0.929710960960961,        loss_valid: 3.7861006259918213, acc_valid: 0.8913043478260869,         train_time: 0.7016608715057373sec\n"
     ]
    },
    {
     "name": "stderr",
     "output_type": "stream",
     "text": [
      " 33%|█████████████▊                            | 33/100 [00:23<00:46,  1.44it/s]"
     ]
    },
    {
     "name": "stdout",
     "output_type": "stream",
     "text": [
      "epoch: 33, loss_train: 3.7802037598492504, acc_train: 0.9132882882882883,        loss_valid: 3.8027117252349854, acc_valid: 0.8845577211394303,         train_time: 0.6840879917144775sec\n"
     ]
    },
    {
     "name": "stderr",
     "output_type": "stream",
     "text": [
      " 34%|██████████████▎                           | 34/100 [00:23<00:48,  1.37it/s]"
     ]
    },
    {
     "name": "stdout",
     "output_type": "stream",
     "text": [
      "epoch: 34, loss_train: 3.776996501573213, acc_train: 0.9245495495495496,        loss_valid: 3.805203676223755, acc_valid: 0.8898050974512743,         train_time: 0.8171100616455078sec\n"
     ]
    },
    {
     "name": "stderr",
     "output_type": "stream",
     "text": [
      " 35%|██████████████▋                           | 35/100 [00:24<00:47,  1.37it/s]"
     ]
    },
    {
     "name": "stdout",
     "output_type": "stream",
     "text": [
      "epoch: 35, loss_train: 3.76201060369566, acc_train: 0.9243618618618619,        loss_valid: 3.7913501262664795, acc_valid: 0.8905547226386806,         train_time: 0.7282288074493408sec\n"
     ]
    },
    {
     "name": "stderr",
     "output_type": "stream",
     "text": [
      " 36%|███████████████                           | 36/100 [00:25<00:47,  1.34it/s]"
     ]
    },
    {
     "name": "stdout",
     "output_type": "stream",
     "text": [
      "epoch: 36, loss_train: 3.7636242170591614, acc_train: 0.925487987987988,        loss_valid: 3.7916762828826904, acc_valid: 0.8928035982008995,         train_time: 0.781813383102417sec\n"
     ]
    },
    {
     "name": "stderr",
     "output_type": "stream",
     "text": [
      " 37%|███████████████▌                          | 37/100 [00:26<00:44,  1.40it/s]"
     ]
    },
    {
     "name": "stdout",
     "output_type": "stream",
     "text": [
      "epoch: 37, loss_train: 3.7672440783755556, acc_train: 0.924924924924925,        loss_valid: 3.7975826263427734, acc_valid: 0.8935532233883059,         train_time: 0.6400189399719238sec\n"
     ]
    },
    {
     "name": "stderr",
     "output_type": "stream",
     "text": [
      " 38%|███████████████▉                          | 38/100 [00:26<00:43,  1.42it/s]"
     ]
    },
    {
     "name": "stdout",
     "output_type": "stream",
     "text": [
      "epoch: 38, loss_train: 3.758029412936878, acc_train: 0.9301801801801802,        loss_valid: 3.7906038761138916, acc_valid: 0.889055472263868,         train_time: 0.6748149394989014sec\n"
     ]
    },
    {
     "name": "stderr",
     "output_type": "stream",
     "text": [
      " 39%|████████████████▍                         | 39/100 [00:27<00:42,  1.45it/s]"
     ]
    },
    {
     "name": "stdout",
     "output_type": "stream",
     "text": [
      "epoch: 39, loss_train: 3.771054955932113, acc_train: 0.9219219219219219,        loss_valid: 3.7980525493621826, acc_valid: 0.889055472263868,         train_time: 0.6589357852935791sec\n"
     ]
    },
    {
     "name": "stderr",
     "output_type": "stream",
     "text": [
      " 40%|████████████████▊                         | 40/100 [00:28<00:40,  1.48it/s]"
     ]
    },
    {
     "name": "stdout",
     "output_type": "stream",
     "text": [
      "epoch: 40, loss_train: 3.7606781867889314, acc_train: 0.9276463963963963,        loss_valid: 3.791754961013794, acc_valid: 0.8928035982008995,         train_time: 0.6448712348937988sec\n"
     ]
    },
    {
     "name": "stderr",
     "output_type": "stream",
     "text": [
      " 41%|█████████████████▏                        | 41/100 [00:28<00:40,  1.46it/s]"
     ]
    },
    {
     "name": "stdout",
     "output_type": "stream",
     "text": [
      "epoch: 41, loss_train: 3.767152178394902, acc_train: 0.9278340840840841,        loss_valid: 3.7970473766326904, acc_valid: 0.8913043478260869,         train_time: 0.6972498893737793sec\n"
     ]
    },
    {
     "name": "stderr",
     "output_type": "stream",
     "text": [
      " 42%|█████████████████▋                        | 42/100 [00:29<00:39,  1.49it/s]"
     ]
    },
    {
     "name": "stdout",
     "output_type": "stream",
     "text": [
      "epoch: 42, loss_train: 3.7784715321686893, acc_train: 0.9238926426426426,        loss_valid: 3.8078246116638184, acc_valid: 0.8913043478260869,         train_time: 0.6496241092681885sec\n"
     ]
    },
    {
     "name": "stderr",
     "output_type": "stream",
     "text": [
      " 43%|██████████████████                        | 43/100 [00:30<00:40,  1.41it/s]"
     ]
    },
    {
     "name": "stdout",
     "output_type": "stream",
     "text": [
      "epoch: 43, loss_train: 3.754381394601083, acc_train: 0.9283033033033034,        loss_valid: 3.7870943546295166, acc_valid: 0.8905547226386806,         train_time: 0.7942428588867188sec\n"
     ]
    },
    {
     "name": "stderr",
     "output_type": "stream",
     "text": [
      " 44%|██████████████████▍                       | 44/100 [00:30<00:38,  1.45it/s]"
     ]
    },
    {
     "name": "stdout",
     "output_type": "stream",
     "text": [
      "epoch: 44, loss_train: 3.761153959297203, acc_train: 0.9239864864864865,        loss_valid: 3.790499210357666, acc_valid: 0.8950524737631185,         train_time: 0.6358749866485596sec\n"
     ]
    },
    {
     "name": "stderr",
     "output_type": "stream",
     "text": [
      " 45%|██████████████████▉                       | 45/100 [00:31<00:39,  1.41it/s]"
     ]
    },
    {
     "name": "stdout",
     "output_type": "stream",
     "text": [
      "epoch: 45, loss_train: 3.7664373572524243, acc_train: 0.9253941441441441,        loss_valid: 3.7988479137420654, acc_valid: 0.8875562218890555,         train_time: 0.7607500553131104sec\n"
     ]
    },
    {
     "name": "stderr",
     "output_type": "stream",
     "text": [
      " 46%|███████████████████▎                      | 46/100 [00:32<00:40,  1.34it/s]"
     ]
    },
    {
     "name": "stdout",
     "output_type": "stream",
     "text": [
      "epoch: 46, loss_train: 3.770919166885697, acc_train: 0.9241741741741741,        loss_valid: 3.8019912242889404, acc_valid: 0.8920539730134932,         train_time: 0.8258700370788574sec\n"
     ]
    },
    {
     "name": "stderr",
     "output_type": "stream",
     "text": [
      " 47%|███████████████████▋                      | 47/100 [00:33<00:40,  1.30it/s]"
     ]
    },
    {
     "name": "stdout",
     "output_type": "stream",
     "text": [
      "epoch: 47, loss_train: 3.768743610238886, acc_train: 0.9229542042042042,        loss_valid: 3.797461748123169, acc_valid: 0.8905547226386806,         train_time: 0.833118200302124sec\n"
     ]
    },
    {
     "name": "stderr",
     "output_type": "stream",
     "text": [
      " 48%|████████████████████▏                     | 48/100 [00:34<00:40,  1.28it/s]"
     ]
    },
    {
     "name": "stdout",
     "output_type": "stream",
     "text": [
      "epoch: 48, loss_train: 3.764663232339395, acc_train: 0.9273648648648649,        loss_valid: 3.7954182624816895, acc_valid: 0.8905547226386806,         train_time: 0.8133540153503418sec\n"
     ]
    },
    {
     "name": "stderr",
     "output_type": "stream",
     "text": [
      " 49%|████████████████████▌                     | 49/100 [00:34<00:39,  1.28it/s]"
     ]
    },
    {
     "name": "stdout",
     "output_type": "stream",
     "text": [
      "epoch: 49, loss_train: 3.7719665948335117, acc_train: 0.9198573573573574,        loss_valid: 3.7975423336029053, acc_valid: 0.8868065967016492,         train_time: 0.7819108963012695sec\n"
     ]
    },
    {
     "name": "stderr",
     "output_type": "stream",
     "text": [
      " 50%|█████████████████████                     | 50/100 [00:35<00:39,  1.25it/s]"
     ]
    },
    {
     "name": "stdout",
     "output_type": "stream",
     "text": [
      "epoch: 50, loss_train: 3.7690027289920383, acc_train: 0.9247372372372372,        loss_valid: 3.799229621887207, acc_valid: 0.8898050974512743,         train_time: 0.8318459987640381sec\n"
     ]
    },
    {
     "name": "stderr",
     "output_type": "stream",
     "text": [
      " 51%|█████████████████████▍                    | 51/100 [00:36<00:38,  1.27it/s]"
     ]
    },
    {
     "name": "stdout",
     "output_type": "stream",
     "text": [
      "epoch: 51, loss_train: 3.7626636794379524, acc_train: 0.9269894894894894,        loss_valid: 3.7926924228668213, acc_valid: 0.8913043478260869,         train_time: 0.7615790367126465sec\n"
     ]
    },
    {
     "name": "stderr",
     "output_type": "stream",
     "text": [
      " 52%|█████████████████████▊                    | 52/100 [00:37<00:34,  1.38it/s]"
     ]
    },
    {
     "name": "stdout",
     "output_type": "stream",
     "text": [
      "epoch: 52, loss_train: 3.7640671951992735, acc_train: 0.9215465465465466,        loss_valid: 3.790248155593872, acc_valid: 0.8905547226386806,         train_time: 0.5802879333496094sec\n"
     ]
    },
    {
     "name": "stderr",
     "output_type": "stream",
     "text": [
      " 53%|██████████████████████▎                   | 53/100 [00:37<00:34,  1.38it/s]"
     ]
    },
    {
     "name": "stdout",
     "output_type": "stream",
     "text": [
      "epoch: 53, loss_train: 3.771728504169453, acc_train: 0.9239864864864865,        loss_valid: 3.8012146949768066, acc_valid: 0.8905547226386806,         train_time: 0.718425989151001sec\n"
     ]
    },
    {
     "name": "stderr",
     "output_type": "stream",
     "text": [
      " 54%|██████████████████████▋                   | 54/100 [00:38<00:34,  1.33it/s]"
     ]
    },
    {
     "name": "stdout",
     "output_type": "stream",
     "text": [
      "epoch: 54, loss_train: 3.7687133590022364, acc_train: 0.9256756756756757,        loss_valid: 3.7987172603607178, acc_valid: 0.8913043478260869,         train_time: 0.8090610504150391sec\n"
     ]
    },
    {
     "name": "stderr",
     "output_type": "stream",
     "text": [
      " 55%|███████████████████████                   | 55/100 [00:39<00:34,  1.29it/s]"
     ]
    },
    {
     "name": "stdout",
     "output_type": "stream",
     "text": [
      "epoch: 55, loss_train: 3.7518740387650222, acc_train: 0.9313063063063063,        loss_valid: 3.7849271297454834, acc_valid: 0.8943028485757122,         train_time: 0.831273078918457sec\n"
     ]
    },
    {
     "name": "stderr",
     "output_type": "stream",
     "text": [
      " 56%|███████████████████████▌                  | 56/100 [00:40<00:33,  1.31it/s]"
     ]
    },
    {
     "name": "stdout",
     "output_type": "stream",
     "text": [
      "epoch: 56, loss_train: 3.7731165341786794, acc_train: 0.9229542042042042,        loss_valid: 3.8022866249084473, acc_valid: 0.8928035982008995,         train_time: 0.7298710346221924sec\n"
     ]
    },
    {
     "name": "stderr",
     "output_type": "stream",
     "text": [
      " 57%|███████████████████████▉                  | 57/100 [00:40<00:32,  1.32it/s]"
     ]
    },
    {
     "name": "stdout",
     "output_type": "stream",
     "text": [
      "epoch: 57, loss_train: 3.7875635538015278, acc_train: 0.9169481981981982,        loss_valid: 3.8130006790161133, acc_valid: 0.8883058470764618,         train_time: 0.7404792308807373sec\n"
     ]
    },
    {
     "name": "stderr",
     "output_type": "stream",
     "text": [
      " 58%|████████████████████████▎                 | 58/100 [00:41<00:30,  1.39it/s]"
     ]
    },
    {
     "name": "stdout",
     "output_type": "stream",
     "text": [
      "epoch: 58, loss_train: 3.7783792090487553, acc_train: 0.9210773273273273,        loss_valid: 3.8068089485168457, acc_valid: 0.8898050974512743,         train_time: 0.6378629207611084sec\n"
     ]
    },
    {
     "name": "stderr",
     "output_type": "stream",
     "text": [
      " 59%|████████████████████████▊                 | 59/100 [00:42<00:29,  1.40it/s]"
     ]
    },
    {
     "name": "stdout",
     "output_type": "stream",
     "text": [
      "epoch: 59, loss_train: 3.7664657569862343, acc_train: 0.9244557057057057,        loss_valid: 3.79729962348938, acc_valid: 0.8913043478260869,         train_time: 0.7016949653625488sec\n"
     ]
    },
    {
     "name": "stderr",
     "output_type": "stream",
     "text": [
      " 60%|█████████████████████████▏                | 60/100 [00:42<00:27,  1.46it/s]"
     ]
    },
    {
     "name": "stdout",
     "output_type": "stream",
     "text": [
      "epoch: 60, loss_train: 3.7682583396499223, acc_train: 0.9233295795795796,        loss_valid: 3.7956206798553467, acc_valid: 0.889055472263868,         train_time: 0.6143050193786621sec\n"
     ]
    },
    {
     "name": "stderr",
     "output_type": "stream",
     "text": [
      " 61%|█████████████████████████▌                | 61/100 [00:43<00:26,  1.49it/s]"
     ]
    },
    {
     "name": "stdout",
     "output_type": "stream",
     "text": [
      "epoch: 61, loss_train: 3.752561052282293, acc_train: 0.9292417417417418,        loss_valid: 3.7845757007598877, acc_valid: 0.8935532233883059,         train_time: 0.6404039859771729sec\n"
     ]
    },
    {
     "name": "stderr",
     "output_type": "stream",
     "text": [
      " 62%|██████████████████████████                | 62/100 [00:44<00:24,  1.54it/s]"
     ]
    },
    {
     "name": "stdout",
     "output_type": "stream",
     "text": [
      "epoch: 62, loss_train: 3.763853632294022, acc_train: 0.9268018018018018,        loss_valid: 3.7967445850372314, acc_valid: 0.889055472263868,         train_time: 0.5959899425506592sec\n"
     ]
    },
    {
     "name": "stderr",
     "output_type": "stream",
     "text": [
      " 63%|██████████████████████████▍               | 63/100 [00:44<00:25,  1.44it/s]"
     ]
    },
    {
     "name": "stdout",
     "output_type": "stream",
     "text": [
      "epoch: 63, loss_train: 3.778035005649647, acc_train: 0.9201388888888888,        loss_valid: 3.805786371231079, acc_valid: 0.8883058470764618,         train_time: 0.8070001602172852sec\n"
     ]
    },
    {
     "name": "stderr",
     "output_type": "stream",
     "text": [
      " 64%|██████████████████████████▉               | 64/100 [00:45<00:26,  1.38it/s]"
     ]
    },
    {
     "name": "stdout",
     "output_type": "stream",
     "text": [
      "epoch: 64, loss_train: 3.7547533884420767, acc_train: 0.9296171171171171,        loss_valid: 3.7861175537109375, acc_valid: 0.8943028485757122,         train_time: 0.7948520183563232sec\n"
     ]
    },
    {
     "name": "stderr",
     "output_type": "stream",
     "text": [
      " 65%|███████████████████████████▎              | 65/100 [00:46<00:24,  1.42it/s]"
     ]
    },
    {
     "name": "stdout",
     "output_type": "stream",
     "text": [
      "epoch: 65, loss_train: 3.763948457735079, acc_train: 0.9236111111111112,        loss_valid: 3.790785312652588, acc_valid: 0.8920539730134932,         train_time: 0.6499667167663574sec\n"
     ]
    },
    {
     "name": "stderr",
     "output_type": "stream",
     "text": [
      " 66%|███████████████████████████▋              | 66/100 [00:46<00:22,  1.49it/s]"
     ]
    },
    {
     "name": "stdout",
     "output_type": "stream",
     "text": [
      "epoch: 66, loss_train: 3.765377286676172, acc_train: 0.9257695195195195,        loss_valid: 3.794835090637207, acc_valid: 0.8920539730134932,         train_time: 0.5877916812896729sec\n"
     ]
    },
    {
     "name": "stderr",
     "output_type": "stream",
     "text": [
      " 67%|████████████████████████████▏             | 67/100 [00:47<00:22,  1.49it/s]"
     ]
    },
    {
     "name": "stdout",
     "output_type": "stream",
     "text": [
      "epoch: 67, loss_train: 3.7580899963149794, acc_train: 0.9304617117117117,        loss_valid: 3.7923784255981445, acc_valid: 0.8928035982008995,         train_time: 0.6792888641357422sec\n"
     ]
    },
    {
     "name": "stderr",
     "output_type": "stream",
     "text": [
      " 68%|████████████████████████████▌             | 68/100 [00:48<00:20,  1.57it/s]"
     ]
    },
    {
     "name": "stdout",
     "output_type": "stream",
     "text": [
      "epoch: 68, loss_train: 3.7727395020447694, acc_train: 0.9287725225225225,        loss_valid: 3.8065497875213623, acc_valid: 0.8868065967016492,         train_time: 0.5547690391540527sec\n"
     ]
    },
    {
     "name": "stderr",
     "output_type": "stream",
     "text": [
      " 69%|████████████████████████████▉             | 69/100 [00:48<00:19,  1.57it/s]"
     ]
    },
    {
     "name": "stdout",
     "output_type": "stream",
     "text": [
      "epoch: 69, loss_train: 3.76034208031388, acc_train: 0.9268018018018018,        loss_valid: 3.7903616428375244, acc_valid: 0.8905547226386806,         train_time: 0.6350688934326172sec\n"
     ]
    },
    {
     "name": "stderr",
     "output_type": "stream",
     "text": [
      " 70%|█████████████████████████████▍            | 70/100 [00:49<00:19,  1.51it/s]"
     ]
    },
    {
     "name": "stdout",
     "output_type": "stream",
     "text": [
      "epoch: 70, loss_train: 3.76147156363135, acc_train: 0.9264264264264265,        loss_valid: 3.7913057804107666, acc_valid: 0.8935532233883059,         train_time: 0.7204868793487549sec\n"
     ]
    },
    {
     "name": "stderr",
     "output_type": "stream",
     "text": [
      " 71%|█████████████████████████████▊            | 71/100 [00:50<00:19,  1.52it/s]"
     ]
    },
    {
     "name": "stdout",
     "output_type": "stream",
     "text": [
      "epoch: 71, loss_train: 3.779723242596463, acc_train: 0.9218280780780781,        loss_valid: 3.8065106868743896, acc_valid: 0.8898050974512743,         train_time: 0.6525630950927734sec\n"
     ]
    },
    {
     "name": "stderr",
     "output_type": "stream",
     "text": [
      " 72%|██████████████████████████████▏           | 72/100 [00:50<00:19,  1.45it/s]"
     ]
    },
    {
     "name": "stdout",
     "output_type": "stream",
     "text": [
      "epoch: 72, loss_train: 3.7641349798208243, acc_train: 0.9241741741741741,        loss_valid: 3.79097318649292, acc_valid: 0.8928035982008995,         train_time: 0.7651488780975342sec\n"
     ]
    },
    {
     "name": "stderr",
     "output_type": "stream",
     "text": [
      " 73%|██████████████████████████████▋           | 73/100 [00:51<00:18,  1.46it/s]"
     ]
    },
    {
     "name": "stdout",
     "output_type": "stream",
     "text": [
      "epoch: 73, loss_train: 3.772983266784622, acc_train: 0.9273648648648649,        loss_valid: 3.8037521839141846, acc_valid: 0.8935532233883059,         train_time: 0.664567232131958sec\n"
     ]
    },
    {
     "name": "stderr",
     "output_type": "stream",
     "text": [
      " 74%|███████████████████████████████           | 74/100 [00:52<00:17,  1.52it/s]"
     ]
    },
    {
     "name": "stdout",
     "output_type": "stream",
     "text": [
      "epoch: 74, loss_train: 3.7694549317116492, acc_train: 0.9245495495495496,        loss_valid: 3.7980763912200928, acc_valid: 0.889055472263868,         train_time: 0.5920028686523438sec\n"
     ]
    },
    {
     "name": "stderr",
     "output_type": "stream",
     "text": [
      " 75%|███████████████████████████████▌          | 75/100 [00:52<00:16,  1.53it/s]"
     ]
    },
    {
     "name": "stdout",
     "output_type": "stream",
     "text": [
      "epoch: 75, loss_train: 3.7631761068338387, acc_train: 0.9243618618618619,        loss_valid: 3.791799306869507, acc_valid: 0.8913043478260869,         train_time: 0.6483240127563477sec\n"
     ]
    },
    {
     "name": "stderr",
     "output_type": "stream",
     "text": [
      " 76%|███████████████████████████████▉          | 76/100 [00:53<00:15,  1.50it/s]"
     ]
    },
    {
     "name": "stdout",
     "output_type": "stream",
     "text": [
      "epoch: 76, loss_train: 3.766434253515066, acc_train: 0.9222034534534534,        loss_valid: 3.794538736343384, acc_valid: 0.8868065967016492,         train_time: 0.6926469802856445sec\n"
     ]
    },
    {
     "name": "stderr",
     "output_type": "stream",
     "text": [
      " 77%|████████████████████████████████▎         | 77/100 [00:54<00:15,  1.52it/s]"
     ]
    },
    {
     "name": "stdout",
     "output_type": "stream",
     "text": [
      "epoch: 77, loss_train: 3.7685694372331775, acc_train: 0.9267079579579579,        loss_valid: 3.7986316680908203, acc_valid: 0.8928035982008995,         train_time: 0.6361322402954102sec\n"
     ]
    },
    {
     "name": "stderr",
     "output_type": "stream",
     "text": [
      " 78%|████████████████████████████████▊         | 78/100 [00:54<00:14,  1.51it/s]"
     ]
    },
    {
     "name": "stdout",
     "output_type": "stream",
     "text": [
      "epoch: 78, loss_train: 3.76072139138574, acc_train: 0.9269894894894894,        loss_valid: 3.789863348007202, acc_valid: 0.8928035982008995,         train_time: 0.6794571876525879sec\n"
     ]
    },
    {
     "name": "stderr",
     "output_type": "stream",
     "text": [
      " 79%|█████████████████████████████████▏        | 79/100 [00:55<00:14,  1.47it/s]"
     ]
    },
    {
     "name": "stdout",
     "output_type": "stream",
     "text": [
      "epoch: 79, loss_train: 3.771531659203607, acc_train: 0.9229542042042042,        loss_valid: 3.8009090423583984, acc_valid: 0.8905547226386806,         train_time: 0.7238609790802002sec\n"
     ]
    },
    {
     "name": "stderr",
     "output_type": "stream",
     "text": [
      " 80%|█████████████████████████████████▌        | 80/100 [00:56<00:13,  1.47it/s]"
     ]
    },
    {
     "name": "stdout",
     "output_type": "stream",
     "text": [
      "epoch: 80, loss_train: 3.769843792414164, acc_train: 0.9261448948948949,        loss_valid: 3.801058769226074, acc_valid: 0.889055472263868,         train_time: 0.6712141036987305sec\n"
     ]
    },
    {
     "name": "stderr",
     "output_type": "stream",
     "text": [
      " 81%|██████████████████████████████████        | 81/100 [00:56<00:12,  1.49it/s]"
     ]
    },
    {
     "name": "stdout",
     "output_type": "stream",
     "text": [
      "epoch: 81, loss_train: 3.768642308117749, acc_train: 0.9264264264264265,        loss_valid: 3.8008005619049072, acc_valid: 0.8905547226386806,         train_time: 0.6510109901428223sec\n"
     ]
    },
    {
     "name": "stderr",
     "output_type": "stream",
     "text": [
      " 82%|██████████████████████████████████▍       | 82/100 [00:57<00:11,  1.53it/s]"
     ]
    },
    {
     "name": "stdout",
     "output_type": "stream",
     "text": [
      "epoch: 82, loss_train: 3.7645040739763966, acc_train: 0.9259572072072072,        loss_valid: 3.792508363723755, acc_valid: 0.8943028485757122,         train_time: 0.6152501106262207sec\n"
     ]
    },
    {
     "name": "stderr",
     "output_type": "stream",
     "text": [
      " 83%|██████████████████████████████████▊       | 83/100 [00:58<00:11,  1.52it/s]"
     ]
    },
    {
     "name": "stdout",
     "output_type": "stream",
     "text": [
      "epoch: 83, loss_train: 3.773550488211371, acc_train: 0.9192942942942943,        loss_valid: 3.8025333881378174, acc_valid: 0.8868065967016492,         train_time: 0.6631689071655273sec\n"
     ]
    },
    {
     "name": "stderr",
     "output_type": "stream",
     "text": [
      " 84%|███████████████████████████████████▎      | 84/100 [00:58<00:10,  1.51it/s]"
     ]
    },
    {
     "name": "stdout",
     "output_type": "stream",
     "text": [
      "epoch: 84, loss_train: 3.7624779062586144, acc_train: 0.9244557057057057,        loss_valid: 3.790876865386963, acc_valid: 0.8913043478260869,         train_time: 0.6709640026092529sec\n"
     ]
    },
    {
     "name": "stderr",
     "output_type": "stream",
     "text": [
      " 85%|███████████████████████████████████▋      | 85/100 [00:59<00:09,  1.58it/s]"
     ]
    },
    {
     "name": "stdout",
     "output_type": "stream",
     "text": [
      "epoch: 85, loss_train: 3.7664581576625147, acc_train: 0.9235172672672672,        loss_valid: 3.794285774230957, acc_valid: 0.889055472263868,         train_time: 0.5616440773010254sec\n"
     ]
    },
    {
     "name": "stderr",
     "output_type": "stream",
     "text": [
      " 86%|████████████████████████████████████      | 86/100 [01:00<00:08,  1.58it/s]"
     ]
    },
    {
     "name": "stdout",
     "output_type": "stream",
     "text": [
      "epoch: 86, loss_train: 3.768856703698098, acc_train: 0.9268956456456456,        loss_valid: 3.8014936447143555, acc_valid: 0.8875562218890555,         train_time: 0.6315009593963623sec\n"
     ]
    },
    {
     "name": "stderr",
     "output_type": "stream",
     "text": [
      " 87%|████████████████████████████████████▌     | 87/100 [01:00<00:08,  1.53it/s]"
     ]
    },
    {
     "name": "stdout",
     "output_type": "stream",
     "text": [
      "epoch: 87, loss_train: 3.774958039189244, acc_train: 0.9220157657657657,        loss_valid: 3.8036892414093018, acc_valid: 0.8898050974512743,         train_time: 0.7051501274108887sec\n"
     ]
    },
    {
     "name": "stderr",
     "output_type": "stream",
     "text": [
      " 88%|████████████████████████████████████▉     | 88/100 [01:01<00:07,  1.56it/s]"
     ]
    },
    {
     "name": "stdout",
     "output_type": "stream",
     "text": [
      "epoch: 88, loss_train: 3.75690671703121, acc_train: 0.9283971471471472,        loss_valid: 3.7884395122528076, acc_valid: 0.8935532233883059,         train_time: 0.6130101680755615sec\n"
     ]
    },
    {
     "name": "stderr",
     "output_type": "stream",
     "text": [
      " 89%|█████████████████████████████████████▍    | 89/100 [01:01<00:06,  1.57it/s]"
     ]
    },
    {
     "name": "stdout",
     "output_type": "stream",
     "text": [
      "epoch: 89, loss_train: 3.7720273836954936, acc_train: 0.9223911411411412,        loss_valid: 3.8028650283813477, acc_valid: 0.8913043478260869,         train_time: 0.6211538314819336sec\n"
     ]
    },
    {
     "name": "stderr",
     "output_type": "stream",
     "text": [
      " 90%|█████████████████████████████████████▊    | 90/100 [01:02<00:06,  1.58it/s]"
     ]
    },
    {
     "name": "stdout",
     "output_type": "stream",
     "text": [
      "epoch: 90, loss_train: 3.768699318797023, acc_train: 0.927271021021021,        loss_valid: 3.7992899417877197, acc_valid: 0.8913043478260869,         train_time: 0.6266591548919678sec\n"
     ]
    },
    {
     "name": "stderr",
     "output_type": "stream",
     "text": [
      " 91%|██████████████████████████████████████▏   | 91/100 [01:03<00:05,  1.57it/s]"
     ]
    },
    {
     "name": "stdout",
     "output_type": "stream",
     "text": [
      "epoch: 91, loss_train: 3.7595774447237766, acc_train: 0.9252064564564565,        loss_valid: 3.788652181625366, acc_valid: 0.8928035982008995,         train_time: 0.6405770778656006sec\n"
     ]
    },
    {
     "name": "stderr",
     "output_type": "stream",
     "text": [
      " 92%|██████████████████████████████████████▋   | 92/100 [01:03<00:05,  1.58it/s]"
     ]
    },
    {
     "name": "stdout",
     "output_type": "stream",
     "text": [
      "epoch: 92, loss_train: 3.7755657975022143, acc_train: 0.9264264264264265,        loss_valid: 3.805543899536133, acc_valid: 0.8928035982008995,         train_time: 0.629378080368042sec\n"
     ]
    },
    {
     "name": "stderr",
     "output_type": "stream",
     "text": [
      " 93%|███████████████████████████████████████   | 93/100 [01:04<00:04,  1.58it/s]"
     ]
    },
    {
     "name": "stdout",
     "output_type": "stream",
     "text": [
      "epoch: 93, loss_train: 3.7713412744504913, acc_train: 0.9232357357357357,        loss_valid: 3.798916816711426, acc_valid: 0.889055472263868,         train_time: 0.6324033737182617sec\n"
     ]
    },
    {
     "name": "stderr",
     "output_type": "stream",
     "text": [
      " 94%|███████████████████████████████████████▍  | 94/100 [01:05<00:03,  1.56it/s]"
     ]
    },
    {
     "name": "stdout",
     "output_type": "stream",
     "text": [
      "epoch: 94, loss_train: 3.7634533060205593, acc_train: 0.924831081081081,        loss_valid: 3.7921242713928223, acc_valid: 0.8935532233883059,         train_time: 0.6568782329559326sec\n"
     ]
    },
    {
     "name": "stderr",
     "output_type": "stream",
     "text": [
      " 95%|███████████████████████████████████████▉  | 95/100 [01:05<00:03,  1.45it/s]"
     ]
    },
    {
     "name": "stdout",
     "output_type": "stream",
     "text": [
      "epoch: 95, loss_train: 3.7674793867735534, acc_train: 0.9251126126126126,        loss_valid: 3.7957589626312256, acc_valid: 0.8898050974512743,         train_time: 0.8062012195587158sec\n"
     ]
    },
    {
     "name": "stderr",
     "output_type": "stream",
     "text": [
      " 96%|████████████████████████████████████████▎ | 96/100 [01:06<00:02,  1.36it/s]"
     ]
    },
    {
     "name": "stdout",
     "output_type": "stream",
     "text": [
      "epoch: 96, loss_train: 3.7562107531516045, acc_train: 0.9292417417417418,        loss_valid: 3.787677049636841, acc_valid: 0.8943028485757122,         train_time: 0.8457889556884766sec\n"
     ]
    },
    {
     "name": "stderr",
     "output_type": "stream",
     "text": [
      " 97%|████████████████████████████████████████▋ | 97/100 [01:07<00:02,  1.29it/s]"
     ]
    },
    {
     "name": "stdout",
     "output_type": "stream",
     "text": [
      "epoch: 97, loss_train: 3.762169974702257, acc_train: 0.9257695195195195,        loss_valid: 3.792081594467163, acc_valid: 0.8920539730134932,         train_time: 0.8620119094848633sec\n"
     ]
    },
    {
     "name": "stderr",
     "output_type": "stream",
     "text": [
      " 98%|█████████████████████████████████████████▏| 98/100 [01:08<00:01,  1.29it/s]"
     ]
    },
    {
     "name": "stdout",
     "output_type": "stream",
     "text": [
      "epoch: 98, loss_train: 3.7587588714049742, acc_train: 0.9283971471471472,        loss_valid: 3.78944730758667, acc_valid: 0.8935532233883059,         train_time: 0.7681031227111816sec\n"
     ]
    },
    {
     "name": "stderr",
     "output_type": "stream",
     "text": [
      " 99%|█████████████████████████████████████████▌| 99/100 [01:09<00:00,  1.34it/s]"
     ]
    },
    {
     "name": "stdout",
     "output_type": "stream",
     "text": [
      "epoch: 99, loss_train: 3.7710426276152558, acc_train: 0.9253003003003003,        loss_valid: 3.8011314868927, acc_valid: 0.8905547226386806,         train_time: 0.6912178993225098sec\n"
     ]
    },
    {
     "name": "stderr",
     "output_type": "stream",
     "text": [
      "100%|█████████████████████████████████████████| 100/100 [01:09<00:00,  1.43it/s]"
     ]
    },
    {
     "name": "stdout",
     "output_type": "stream",
     "text": [
      "epoch: 100, loss_train: 3.760739943644664, acc_train: 0.9258633633633634,        loss_valid: 3.789804697036743, acc_valid: 0.8950524737631185,         train_time: 0.655689001083374sec\n"
     ]
    },
    {
     "name": "stderr",
     "output_type": "stream",
     "text": [
      "\n"
     ]
    }
   ],
   "source": [
    "train_dataset = MyDatasets(X_train, y_train)\n",
    "valid_dataset = MyDatasets(X_valid, y_valid)\n",
    "\n",
    "model = MLP(300, 100, 4, 2)\n",
    "\n",
    "criterion = nn.CrossEntropyLoss()\n",
    "\n",
    "optimizer = torch.optim.SGD(model.parameters(), lr=0.01, momentum=0.8)\n",
    "\n",
    "log = train_valid_model(train_dataset, valid_dataset, 32, model, criterion, optimizer, 100)"
   ]
  },
  {
   "cell_type": "code",
   "execution_count": 99,
   "id": "6829fdef-c940-4386-b6a6-47acf6a8187e",
   "metadata": {
    "tags": []
   },
   "outputs": [
    {
     "data": {
      "image/png": "[encoded data removed]",
      "text/plain": [
       "<Figure size 1500x500 with 2 Axes>"
      ]
     },
     "metadata": {},
     "output_type": "display_data"
    }
   ],
   "source": [
    "figure, ax = plt.subplots(1, 2, figsize=(15, 5))\n",
    "ax[0].plot(np.array(log['train']).T[0], label='train')\n",
    "ax[0].plot(np.array(log['valid']).T[0], label='valid')\n",
    "ax[0].set_xlabel('epoch')\n",
    "ax[0].set_ylabel('loss')\n",
    "ax[0].legend()\n",
    "ax[1].plot(np.array(log['train']).T[1], label='train')\n",
    "ax[1].plot(np.array(log['valid']).T[1], label='valid')\n",
    "ax[1].set_xlabel('epoch')\n",
    "ax[1].set_ylabel('accuracy')\n",
    "ax[1].legend()\n",
    "plt.show()"
   ]
  },
  {
   "cell_type": "code",
   "execution_count": 100,
   "id": "3d9acdc4-2235-4465-80ee-f96bd19aee8a",
   "metadata": {
    "tags": []
   },
   "outputs": [],
   "source": [
    "def acc_test(model, loader):\n",
    "    model.eval()\n",
    "    total = 0\n",
    "    corret = 0\n",
    "    with torch.no_grad():\n",
    "        for X, y in loader:\n",
    "            y_proba = model(X)\n",
    "            y_pred = torch.argmax(y_proba, dim=-1)\n",
    "            total += len(X)\n",
    "            correct = (y_pred == y).sum().item()\n",
    "    return correct / total"
   ]
  },
  {
   "cell_type": "code",
   "execution_count": 101,
   "id": "d5ec0884-ffd7-4161-b0e6-cbb81db74046",
   "metadata": {
    "tags": []
   },
   "outputs": [
    {
     "data": {
      "text/plain": [
       "0.883808095952024"
      ]
     },
     "execution_count": 101,
     "metadata": {},
     "output_type": "execute_result"
    }
   ],
   "source": [
    "test_dataset = MyDatasets(X_test, y_test)\n",
    "test_loader = DataLoader(test_dataset, batch_size=len(test_dataset), shuffle=False)\n",
    "acc_test(model, test_loader)"
   ]
  },
  {
   "cell_type": "code",
   "execution_count": null,
   "id": "f4f686a6-9111-4313-9a0a-918f263e2fbd",
   "metadata": {},
   "outputs": [],
   "source": []
  }
 ],
 "metadata": {
  "kernelspec": {
   "display_name": "Python 3 (ipykernel)",
   "language": "python",
   "name": "python3"
  },
  "language_info": {
   "codemirror_mode": {
    "name": "ipython",
    "version": 3
   },
   "file_extension": ".py",
   "mimetype": "text/x-python",
   "name": "python",
   "nbconvert_exporter": "python",
   "pygments_lexer": "ipython3",
   "version": "3.10.8"
  }
 },
 "nbformat": 4,
 "nbformat_minor": 5
}
