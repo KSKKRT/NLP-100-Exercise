{
 "cells": [
  {
   "cell_type": "markdown",
   "id": "aa56dab2-5f88-4760-83a8-c0ce923a275c",
   "metadata": {},
   "source": [
    "#　第４章形態素解析"
   ]
  },
  {
   "cell_type": "markdown",
   "id": "f58236f8-17d5-453c-a26e-ea91698b75bf",
   "metadata": {},
   "source": [
    "#吾輩は猫であるの文章を取得  \n",
    "!wget https://nlp100.github.io/data/neko.txt"
   ]
  },
  {
   "cell_type": "markdown",
   "id": "3a6ab121-cc99-4ab3-b2af-9aa01915b039",
   "metadata": {},
   "source": [
    "以下を実行しmecabで吾輩は猫であるの文章を形態素解析  \n",
    "javaのエラーが生じるので，形態素解析のプロセスはgoogle colabで実行した．  \n",
    "!apt install mecab libmecab-dev mecab-ipadic-utf8  \n",
    "!mecab -o ./neko.txt.mecab ./neko.txt"
   ]
  },
  {
   "cell_type": "code",
   "execution_count": 4,
   "id": "368940fa-52ad-4133-8469-ef77257afe07",
   "metadata": {},
   "outputs": [
    {
     "name": "stdout",
     "output_type": "stream",
     "text": [
      "  226266 ./neko.txt.mecab\n"
     ]
    }
   ],
   "source": [
    "#形態素解析後の行数を確認\n",
    "!wc -l .//neko.txt.mecab"
   ]
  },
  {
   "cell_type": "code",
   "execution_count": 7,
   "id": "86c61db5-28e5-4a77-8045-ba22de227a80",
   "metadata": {},
   "outputs": [
    {
     "name": "stdout",
     "output_type": "stream",
     "text": [
      "一\t名詞,数,*,*,*,*,一,イチ,イチ\n",
      "\t記号,一般,*,*,*,*,*\n",
      "EOS\n",
      "\t記号,一般,*,*,*,*,*\n",
      "EOS\n",
      "　\t記号,空白,*,*,*,*,　,　,　\n",
      "吾輩\t名詞,代名詞,一般,*,*,*,吾輩,ワガハイ,ワガハイ\n",
      "は\t助詞,係助詞,*,*,*,*,は,ハ,ワ\n",
      "猫\t名詞,一般,*,*,*,*,猫,ネコ,ネコ\n",
      "で\t助動詞,*,*,*,特殊・ダ,連用形,だ,デ,デ\n",
      "ある\t助動詞,*,*,*,五段・ラ行アル,基本形,ある,アル,アル\n",
      "。\t記号,句点,*,*,*,*,。,。,。\n",
      "\t記号,一般,*,*,*,*,*\n",
      "EOS\n",
      "名前\t名詞,一般,*,*,*,*,名前,ナマエ,ナマエ\n",
      "は\t助詞,係助詞,*,*,*,*,は,ハ,ワ\n",
      "まだ\t副詞,助詞類接続,*,*,*,*,まだ,マダ,マダ\n",
      "無い\t形容詞,自立,*,*,形容詞・アウオ段,基本形,無い,ナイ,ナイ\n",
      "。\t記号,句点,*,*,*,*,。,。,。\n",
      "\t記号,一般,*,*,*,*,*\n"
     ]
    }
   ],
   "source": [
    "#先頭20行出力\n",
    "!head -20 ./neko.txt.mecab"
   ]
  },
  {
   "cell_type": "markdown",
   "id": "0429bda7-b75b-4b14-baa5-c07aaaa4dcad",
   "metadata": {},
   "source": [
    "EOS(End Of Sentence)以外は各種情報が揃っている．  \n",
    "表層形と情報の間はタブで区切られている．  \n",
    "品詞,品詞細分類1,品詞細分類2,品詞細分類3,活用型,活用形,基本形,読み,発音　　\n",
    "の順で表示されている．"
   ]
  },
  {
   "cell_type": "code",
   "execution_count": 37,
   "id": "7a8e6651-b463-4d2a-b454-7f3b8a22eb9a",
   "metadata": {},
   "outputs": [],
   "source": [
    "import matplotlib.pyplot as plt\n",
    "import japanize_matplotlib"
   ]
  },
  {
   "cell_type": "markdown",
   "id": "ac2c541a-b1f6-4e65-b983-e0ef902236f3",
   "metadata": {},
   "source": [
    "### 問題30"
   ]
  },
  {
   "cell_type": "markdown",
   "id": "d1bdbbfd-f385-4269-ae45-bd88cd8be44e",
   "metadata": {},
   "source": [
    "形態素解析結果（neko.txt.mecab）を読み込むプログラムを実装せよ．ただし，各形態素は表層形（surface），基本形（base），品詞（pos），品詞細分類1（pos1）をキーとするマッピング型に格納し，1文を形態素（マッピング型）のリストとして表現せよ．第4章の残りの問題では，ここで作ったプログラムを活用せよ．"
   ]
  },
  {
   "cell_type": "code",
   "execution_count": 9,
   "id": "70a73034-3cab-4607-8f25-4cb56c621cc8",
   "metadata": {},
   "outputs": [],
   "source": [
    "filename = './neko.txt.mecab'\n",
    "morphemes = [] #各単語の形態素情報を保存する\n",
    "sentences = []\n",
    "with open(filename, 'r') as f:\n",
    "    for line in f:\n",
    "        if line != 'EOS\\n':\n",
    "            content = line.split('\\t') #タブで単語と情報を分割\n",
    "            if len(content) != 2 or content[0] == '':#関係ない要素を除去\n",
    "                continue\n",
    "            else:\n",
    "                info = content[1].split(',')\n",
    "                morpheme = {'surface': content[0], 'base': info[6], 'pos': info[0], 'pos1': info[1]}\n",
    "                morphemes.append(morpheme)\n",
    "        else:\n",
    "            #EOS(文末)でここまでの形態素情報を1文として保存し，形態素情報を初期化\n",
    "            sentences.append(morphemes)\n",
    "            morphemes = []        "
   ]
  },
  {
   "cell_type": "code",
   "execution_count": 10,
   "id": "69bbba63-453f-4bf7-a950-6d0682177d97",
   "metadata": {},
   "outputs": [
    {
     "name": "stdout",
     "output_type": "stream",
     "text": [
      "[{'surface': '一', 'base': '一', 'pos': '名詞', 'pos1': '数'}]\n",
      "[]\n",
      "[{'surface': '\\u3000', 'base': '\\u3000', 'pos': '記号', 'pos1': '空白'}, {'surface': '吾輩', 'base': '吾輩', 'pos': '名詞', 'pos1': '代名詞'}, {'surface': 'は', 'base': 'は', 'pos': '助詞', 'pos1': '係助詞'}, {'surface': '猫', 'base': '猫', 'pos': '名詞', 'pos1': '一般'}, {'surface': 'で', 'base': 'だ', 'pos': '助動詞', 'pos1': '*'}, {'surface': 'ある', 'base': 'ある', 'pos': '助動詞', 'pos1': '*'}, {'surface': '。', 'base': '。', 'pos': '記号', 'pos1': '句点'}]\n"
     ]
    }
   ],
   "source": [
    "#最初の3文の形態素情報を表示\n",
    "for i in range(3):\n",
    "    print(sentences[i])"
   ]
  },
  {
   "cell_type": "markdown",
   "id": "6f8679e1-d649-4213-9bac-bad82a553020",
   "metadata": {},
   "source": [
    "章タイトル(一), 空行, 「吾輩は猫である．」の部分の情報が得られた．"
   ]
  },
  {
   "cell_type": "markdown",
   "id": "7926948b-72ed-4b8d-acaa-77c056454e96",
   "metadata": {},
   "source": [
    "### 問題31"
   ]
  },
  {
   "cell_type": "markdown",
   "id": "109202cc-b3d3-494f-ac1d-397602a1f2e1",
   "metadata": {},
   "source": [
    "動詞の表層系をすべて抽出せよ．"
   ]
  },
  {
   "cell_type": "code",
   "execution_count": 13,
   "id": "ececb919-754c-421d-b545-2f3a55b3e421",
   "metadata": {},
   "outputs": [],
   "source": [
    "#被りを無くしたいので集合で実現\n",
    "verbs_surface = set()\n",
    "for sentence in sentences:\n",
    "    for morpheme in sentence:\n",
    "        if morpheme['pos'] == '動詞':\n",
    "            verbs_surface.add(morpheme['surface'])"
   ]
  },
  {
   "cell_type": "code",
   "execution_count": 16,
   "id": "c4be1086-ab6b-441a-a8f1-3979e098df1d",
   "metadata": {},
   "outputs": [
    {
     "name": "stdout",
     "output_type": "stream",
     "text": [
      "3893\n",
      "['負ける', '折れ', '拾う', '呈し', '作る', '出よ', 'かかり', '観る', '越せ', 'へい', '脱が', '痛み', '沿う', '向け', '食える']\n"
     ]
    }
   ],
   "source": [
    "#動詞の表層形の種類数と15例を出力\n",
    "print(len(verbs_surface))\n",
    "print(list(verbs_surface)[:15])"
   ]
  },
  {
   "cell_type": "markdown",
   "id": "5a913530-558d-4418-934d-b9c9fe39a85e",
   "metadata": {},
   "source": [
    "### 問題32"
   ]
  },
  {
   "cell_type": "markdown",
   "id": "fb78e343-4644-4fb3-8b03-83ccee3d9d46",
   "metadata": {},
   "source": [
    "動詞の基本形をすべて抽出せよ"
   ]
  },
  {
   "cell_type": "code",
   "execution_count": 17,
   "id": "a6d30171-eef6-4edd-b903-071d93b3698f",
   "metadata": {},
   "outputs": [],
   "source": [
    "verbs_base = set()\n",
    "for sentence in sentences:\n",
    "    for morpheme in sentence:\n",
    "        if morpheme['pos'] == '動詞':\n",
    "            verbs_base.add(morpheme['base'])"
   ]
  },
  {
   "cell_type": "code",
   "execution_count": 18,
   "id": "fac59fd7-c2fc-44e9-8d53-908beb6e7355",
   "metadata": {},
   "outputs": [
    {
     "name": "stdout",
     "output_type": "stream",
     "text": [
      "2300\n",
      "['つとめる', '負ける', '拾う', '作る', 'さばける', '観る', '睨む', '沿う', '食える', '背く', '分つ', 'あきれる', '組み合せる', '示す', '論ずる']\n"
     ]
    }
   ],
   "source": [
    "print(len(verbs_base))\n",
    "print(list(verbs_base)[:15])"
   ]
  },
  {
   "cell_type": "markdown",
   "id": "04e1349b-2b4f-4b6b-8c8a-c9a40463dffe",
   "metadata": {},
   "source": [
    "### 問題33  \n",
    "2つの名詞が[の]で連結されている名詞句を抽出せよ．"
   ]
  },
  {
   "cell_type": "code",
   "execution_count": 19,
   "id": "12fb07b5-048c-4c1b-adb9-20cd3a27ea67",
   "metadata": {},
   "outputs": [],
   "source": [
    "noun_phrases = set()\n",
    "for sentence in sentences:\n",
    "    for i in range(1, len(sentence)-1):\n",
    "        if sentence[i-1]['pos'] == '名詞' and sentence[i]['surface'] == 'の' and sentence[i+1]['pos'] == '名詞':\n",
    "            noun_phrase = sentence[i-1]['surface'] + 'の' + sentence[i+1]['surface']\n",
    "            noun_phrases.add(noun_phrase)"
   ]
  },
  {
   "cell_type": "code",
   "execution_count": 20,
   "id": "55e04a2a-274a-49e5-8063-c239035fb5a8",
   "metadata": {},
   "outputs": [
    {
     "name": "stdout",
     "output_type": "stream",
     "text": [
      "4924\n",
      "['名前の独', '行水の女', '人の声', '畳の上', 'つもりのところ', '吾輩の関知', '檜の方', '最初のうち', '演説の続き', '子の声']\n"
     ]
    }
   ],
   "source": [
    "print(len(noun_phrases))\n",
    "print(list(noun_phrases)[:10])"
   ]
  },
  {
   "cell_type": "markdown",
   "id": "02a23ba3-5471-4725-9f73-b1fc77650669",
   "metadata": {},
   "source": [
    "### 問題34  \n",
    "名詞の連接(連続して出現する名詞)を最長一致で抽出せよ"
   ]
  },
  {
   "cell_type": "code",
   "execution_count": 26,
   "id": "e2a32fb9-e48b-4e07-b3bd-e195f9286bc8",
   "metadata": {},
   "outputs": [],
   "source": [
    "noun_connections = set()\n",
    "for sentence in sentences:\n",
    "    noun_connection = ''\n",
    "    count = 0 #連接の数をカウント\n",
    "    for morpheme in sentence:\n",
    "        if morpheme['pos'] == '名詞':\n",
    "            noun_connection += morpheme['surface']\n",
    "            count += 1\n",
    "        elif count >= 2:\n",
    "            noun_connections.add(noun_connection)\n",
    "            noun_connection = ''\n",
    "            count = 0\n",
    "        else:\n",
    "            noun_connection = ''\n",
    "            count = 0\n",
    "    if count >= 2:\n",
    "        noun_connections.add(noun_connection) #文末が名詞だった場合の対処       "
   ]
  },
  {
   "cell_type": "code",
   "execution_count": 27,
   "id": "31e44eb9-d662-49e4-936a-e83d6ff9c3e9",
   "metadata": {},
   "outputs": [
    {
     "name": "stdout",
     "output_type": "stream",
     "text": [
      "4457\n",
      "['提灯玉', '当人自身', '赤毛布', 'ハハハハハ不埒', '富時', '生徒さん', '半毛', '一番手頃', '阿部さん', '甲割']\n"
     ]
    }
   ],
   "source": [
    "print(len(noun_connections))\n",
    "print(list(noun_connections)[:10])"
   ]
  },
  {
   "cell_type": "markdown",
   "id": "16f1f4ad-afe9-401c-8cf4-d5a63642a92e",
   "metadata": {},
   "source": [
    "### 問題35  \n",
    "文章中に出現する単語とその出現頻度を求め，出現頻度の高い順に並べよ"
   ]
  },
  {
   "cell_type": "code",
   "execution_count": 29,
   "id": "e2cb8de6-745c-4215-a799-ee331798a038",
   "metadata": {},
   "outputs": [],
   "source": [
    "#初期化作業を単純化するためdefaultdictを使用\n",
    "from collections import defaultdict\n",
    "\n",
    "words_and_freq = defaultdict(int) #valueは頻度なのでintで初期化\n",
    "for sentence in sentences:\n",
    "    for morpheme in sentence:\n",
    "        if morpheme['pos'] != '記号': #記号は単語じゃないから除去\n",
    "            words_and_freq[morpheme['base']] += 1 #基本形で計上\n",
    "words_and_freq = sorted(words_and_freq.items(), key=lambda x: x[1], reverse=True) #valueでソート，降順にする．         "
   ]
  },
  {
   "cell_type": "code",
   "execution_count": 30,
   "id": "54c457f2-da15-40d4-bc6c-494cba11d4ae",
   "metadata": {},
   "outputs": [
    {
     "name": "stdout",
     "output_type": "stream",
     "text": [
      "11225\n",
      "[('の', 9194), ('て', 6848), ('は', 6420), ('に', 6243), ('を', 6071), ('だ', 5972), ('と', 5508), ('が', 5337), ('た', 4267), ('する', 3657)]\n"
     ]
    }
   ],
   "source": [
    "print(len(words_and_freq))\n",
    "print(words_and_freq[:10])"
   ]
  },
  {
   "cell_type": "markdown",
   "id": "d6aa1f23-e26e-4ada-9f59-c930ca457c13",
   "metadata": {},
   "source": [
    "### 問題36\n",
    "出現頻度が高い１０語とその出現頻度をグラフで表示せよ"
   ]
  },
  {
   "cell_type": "code",
   "execution_count": 36,
   "id": "0609b560-d169-4c7f-899b-d35b70e50085",
   "metadata": {},
   "outputs": [
    {
     "data": {
      "image/png": "[encoded data removed]",
      "text/plain": [
       "<Figure size 640x480 with 1 Axes>"
      ]
     },
     "metadata": {},
     "output_type": "display_data"
    }
   ],
   "source": [
    "#35で出力した10語の頻度を可視化\n",
    "left = [word_and_freq[0] for word_and_freq in words_and_freq[:10]]\n",
    "height = [word_and_freq[1] for word_and_freq in words_and_freq[:10]]\n",
    "plt.bar(left, height)\n",
    "plt.xlabel('単語')\n",
    "plt.ylabel('出現頻度')\n",
    "plt.title('「吾輩は猫である」文中の登場頻度上位10単語')\n",
    "plt.show()"
   ]
  },
  {
   "cell_type": "markdown",
   "id": "13f5f237-da73-4943-9cbc-5e2d0abf207b",
   "metadata": {
    "tags": []
   },
   "source": [
    "### 問題37  \n",
    "『猫』とよく共起(猫の登場する文中に登場)する10語とその出現頻度をグラフで表示せよ"
   ]
  },
  {
   "cell_type": "code",
   "execution_count": 91,
   "id": "a717b9ba-ca7e-4b23-a2e3-68af4226ce85",
   "metadata": {},
   "outputs": [
    {
     "data": {
      "image/png": "[encoded data removed]",
      "text/plain": [
       "<Figure size 640x480 with 1 Axes>"
      ]
     },
     "metadata": {},
     "output_type": "display_data"
    }
   ],
   "source": [
    "words_with_cat = defaultdict(int)\n",
    "for sentence in sentences:\n",
    "    if '猫' in [morpheme['surface'] for morpheme in sentence]:\n",
    "        for morpheme in sentence:\n",
    "            if morpheme['pos'] not in ['記号', '助詞', '助動詞']:\n",
    "                words_with_cat[morpheme['base']] += 1\n",
    "del words_with_cat['猫'] #猫が一番多くなるのは当然なので除去\n",
    "words_with_cat = sorted(words_with_cat.items(), key=lambda x:x[1], reverse=True)\n",
    "\n",
    "left = [word[0] for word in words_with_cat[:10]]\n",
    "height = [word[1] for word in words_with_cat[:10]]\n",
    "plt.bar(left, height)\n",
    "plt.xlabel('単語')\n",
    "plt.ylabel('共起回数')\n",
    "plt.title('猫と共起する上位10単語')\n",
    "plt.show()"
   ]
  },
  {
   "cell_type": "markdown",
   "id": "c78d1cdf-1638-4b3e-bf79-f986835b8bf7",
   "metadata": {},
   "source": [
    "### 問題38  \n",
    "単語の出現頻度のヒストグラムをかけ．ただし，横軸は出現頻度を表し，1から単語の出現頻度の最大値までの線形目盛とする．縦軸はx軸で示される出現頻度となった単語の異なり数である．"
   ]
  },
  {
   "cell_type": "code",
   "execution_count": 48,
   "id": "e39bc29a-f8e5-471c-ac38-eb9fb8f80197",
   "metadata": {},
   "outputs": [
    {
     "data": {
      "image/png": "[encoded data removed]",
      "text/plain": [
       "<Figure size 640x480 with 1 Axes>"
      ]
     },
     "metadata": {},
     "output_type": "display_data"
    }
   ],
   "source": [
    "from numpy import log2\n",
    "\n",
    "freqs = [word_and_freq[1] for word_and_freq in words_and_freq] #出現頻度のみ取得\n",
    "k = 1 + log2(len(freqs)) #スタージェスの公式により規定\n",
    "bins = int((freqs[0] - freqs[-1]) / k)\n",
    "plt.hist(freqs, bins=50)#binsをスタージェスの公式によるもの(635)にすると，低頻度方向に偏りが大きすぎたので50に変更\n",
    "plt.xlabel('出現頻度')\n",
    "plt.ylabel('単語の種類')\n",
    "plt.show()"
   ]
  },
  {
   "cell_type": "markdown",
   "id": "cf319250-4d67-4c9d-802d-314c34178970",
   "metadata": {},
   "source": [
    "### 問題39 zipf'low\n",
    "単語の出現頻度順位を縦軸，その出現頻度を縦軸として両対数グラフをプロットせよ．"
   ]
  },
  {
   "cell_type": "code",
   "execution_count": 49,
   "id": "35927384-ac3c-4d5d-863f-2a4c76f27e15",
   "metadata": {},
   "outputs": [
    {
     "data": {
      "image/png": "[encoded data removed]",
      "text/plain": [
       "<Figure size 640x480 with 1 Axes>"
      ]
     },
     "metadata": {},
     "output_type": "display_data"
    }
   ],
   "source": [
    "rank = [r+1 for r in range(len(freqs))]\n",
    "plt.scatter(rank, freqs)\n",
    "plt.xscale('log') #対数表示\n",
    "plt.yscale('log') #対数表示\n",
    "plt.xlabel('出現頻度順位')\n",
    "plt.ylabel('出現頻度')\n",
    "plt.show()"
   ]
  },
  {
   "cell_type": "markdown",
   "id": "362758b1-2a18-497f-acf3-af56a5b56bca",
   "metadata": {},
   "source": [
    "zipfの法則では単語xの出現頻度f_xと出現頻度順位r_xは反比例するとされる．\n",
    "$$ f_x = \\frac{C_0}{r_x} $$  \n",
    "従って両対数グラフでは  \n",
    "$$ log(f_x) = C_1 - log(r_x) $$  \n",
    "と右肩下がりの直線的な傾向になる"
   ]
  },
  {
   "cell_type": "markdown",
   "id": "022b1114-7696-4618-9be4-aae749cd557f",
   "metadata": {},
   "source": [
    "### 追加検討 TF-IDF"
   ]
  },
  {
   "cell_type": "markdown",
   "id": "0636f20d-8294-4917-ae71-5f443f2cfe09",
   "metadata": {},
   "source": [
    "$$ TF-IDF = TF(x, d)log\\frac{N}{DF(x)} $$"
   ]
  },
  {
   "cell_type": "code",
   "execution_count": 78,
   "id": "f1098a69-9e09-4d5a-a01d-e0d5589b0610",
   "metadata": {},
   "outputs": [],
   "source": [
    "#初期化作業を単純化するためdefaultdictを使用\n",
    "#助詞と助動詞は除去\n",
    "from collections import defaultdict\n",
    "\n",
    "TF = defaultdict(int) #valueは頻度なのでintで初期化\n",
    "for sentence in sentences:\n",
    "    for morpheme in sentence:\n",
    "        if morpheme['pos'] not in ['記号', '助詞', '助動詞']: \n",
    "            TF[morpheme['base']] += 1 #基本形で計上\n",
    "            \n",
    "DF = defaultdict(int)\n",
    "for sentence in sentences:\n",
    "    words_in_sentence = set([morpheme['base'] for morpheme in sentence])\n",
    "    for morpheme in sentence:\n",
    "        if morpheme['base'] in words_in_sentence and morpheme['pos'] not in ['記号', '助詞', '助動詞']:\n",
    "            DF[morpheme['base']] += 1\n",
    "            words_in_sentence.remove(morpheme['base'])"
   ]
  },
  {
   "cell_type": "code",
   "execution_count": 86,
   "id": "dc08c9d6-4ae3-495a-90a3-488b590c3f1a",
   "metadata": {},
   "outputs": [
    {
     "name": "stdout",
     "output_type": "stream",
     "text": [
      "11122 11122\n"
     ]
    }
   ],
   "source": [
    "words_in_TF = list(TF.keys())\n",
    "words_in_DF = list(DF.keys())\n",
    "print(len(words_in_TF), len(words_in_DF))"
   ]
  },
  {
   "cell_type": "code",
   "execution_count": 80,
   "id": "93f0ae10-3907-40da-a302-1ea7c282d359",
   "metadata": {},
   "outputs": [],
   "source": [
    "tf_idf = defaultdict(int)\n",
    "N = len(sentences)\n",
    "for word in words_in_TF:\n",
    "    a = TF[word] * np.log(N / DF[word])\n",
    "    tf_idf[word] = int(a)"
   ]
  },
  {
   "cell_type": "code",
   "execution_count": 81,
   "id": "047b483c-da26-41d3-a52b-94b9d6c96fcc",
   "metadata": {},
   "outputs": [],
   "source": [
    "tf_idf = sorted(tf_idf.items(), key=lambda x: x[1], reverse=True)"
   ]
  },
  {
   "cell_type": "code",
   "execution_count": 85,
   "id": "5d1b34e2-a649-4b81-a1ae-194fe3394e31",
   "metadata": {},
   "outputs": [
    {
     "name": "stdout",
     "output_type": "stream",
     "text": [
      "する/*\n",
      "/いる/の/云う/事/なる/ある/君/ない/"
     ]
    }
   ],
   "source": [
    "for i in range(10):\n",
    "    print(tf_idf[i][0], end='/')"
   ]
  },
  {
   "cell_type": "markdown",
   "id": "faf96294-644e-4c11-ad6e-4ff174127586",
   "metadata": {},
   "source": [
    "あんまり特徴が反映されていない．．．\n",
    "ストップワードの除去等が必要か"
   ]
  }
 ],
 "metadata": {
  "kernelspec": {
   "display_name": "Python 3 (ipykernel)",
   "language": "python",
   "name": "python3"
  },
  "language_info": {
   "codemirror_mode": {
    "name": "ipython",
    "version": 3
   },
   "file_extension": ".py",
   "mimetype": "text/x-python",
   "name": "python",
   "nbconvert_exporter": "python",
   "pygments_lexer": "ipython3",
   "version": "3.10.8"
  }
 },
 "nbformat": 4,
 "nbformat_minor": 5
}
