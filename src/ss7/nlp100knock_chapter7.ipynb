{
 "cells": [
  {
   "cell_type": "markdown",
   "id": "cec0d835-ef13-4a35-a5bb-288e98232106",
   "metadata": {},
   "source": [
    "# 第７章 単語ベクトル  \n",
    "単語の意味を実ベクトルで表現する単語ベクトル（単語埋め込み）に関して，以下の処理を行うプログラムを作成せよ．"
   ]
  },
  {
   "cell_type": "markdown",
   "id": "7d3fb911-6c3f-4873-99ca-dec905d83323",
   "metadata": {},
   "source": [
    "### 60.単語ベクトルの読み込みと表示  \n",
    "Google Newsデータセット（約1,000億単語）での[学習済み単語ベクトル](https://drive.google.com/file/d/0B7XkCwpI5KDYNlNUTTlSS21pQmM/edit?resourcekey=0-wjGZdNAUop6WykTtMip30g)（300万単語・フレーズ，300次元）をダウンロードし，”United States”の単語ベクトルを表示せよ．ただし，”United States”は内部的には”United_States”と表現されていることに注意せよ．"
   ]
  },
  {
   "cell_type": "markdown",
   "id": "ded5edc5-65a3-4cb4-84c1-7c6d53dfaed4",
   "metadata": {
    "tags": []
   },
   "source": [
    "次の２つのページ　[1](https://blog.amedama.jp/entry/gensim-fasttext-pre-trained-word-vectors),　[2](https://stmind.hatenablog.com/entry/2017/06/18/230106)を参考にしてgensimから学習済単語ベクトル表現を利用する．)を参考にしてgensimから学習済単語ベクトル表現を利用する．"
   ]
  },
  {
   "cell_type": "code",
   "execution_count": 8,
   "id": "e7b76d5e-f88d-4b99-9657-281a6d636160",
   "metadata": {
    "tags": []
   },
   "outputs": [],
   "source": [
    "!gunzip GoogleNews-vectors-negative300.bin.gz"
   ]
  },
  {
   "cell_type": "code",
   "execution_count": 9,
   "id": "62a51d27-e2d1-4fe8-8347-2eada9a7aec4",
   "metadata": {
    "tags": []
   },
   "outputs": [],
   "source": [
    "#初回\n",
    "import gensim\n",
    "import pickle\n",
    "\n",
    "model = gensim.models.KeyedVectors.load_word2vec_format('./GoogleNews-vectors-negative300.bin', binary=True)\n",
    "with open('gensim-GoogleNews-vec.pkl', mode='wb') as fp:\n",
    "    pickle.dump(model, fp)"
   ]
  },
  {
   "cell_type": "code",
   "execution_count": 2,
   "id": "f46ed870-b379-49de-a446-9d80ec854962",
   "metadata": {
    "tags": []
   },
   "outputs": [],
   "source": [
    "#2回目以降\n",
    "import pickle\n",
    "with open('./gensim-GoogleNews-vec.pkl', mode='rb') as fp:\n",
    "    model = pickle.load(fp)"
   ]
  },
  {
   "cell_type": "code",
   "execution_count": 12,
   "id": "848e8f50-62ff-42ff-ba08-3f54968c3bf4",
   "metadata": {
    "tags": []
   },
   "outputs": [
    {
     "name": "stdout",
     "output_type": "stream",
     "text": [
      "[-3.61328125e-02 -4.83398438e-02  2.35351562e-01  1.74804688e-01\n",
      " -1.46484375e-01 -7.42187500e-02 -1.01562500e-01 -7.71484375e-02\n",
      "  1.09375000e-01 -5.71289062e-02 -1.48437500e-01 -6.00585938e-02\n",
      "  1.74804688e-01 -7.71484375e-02  2.58789062e-02 -7.66601562e-02\n",
      " -3.80859375e-02  1.35742188e-01  3.75976562e-02 -4.19921875e-02\n",
      " -3.56445312e-02  5.34667969e-02  3.68118286e-04 -1.66992188e-01\n",
      " -1.17187500e-01  1.41601562e-01 -1.69921875e-01 -6.49414062e-02\n",
      " -1.66992188e-01  1.00585938e-01  1.15722656e-01 -2.18750000e-01\n",
      " -9.86328125e-02 -2.56347656e-02  1.23046875e-01 -3.54003906e-02\n",
      " -1.58203125e-01 -1.60156250e-01  2.94189453e-02  8.15429688e-02\n",
      "  6.88476562e-02  1.87500000e-01  6.49414062e-02  1.15234375e-01\n",
      " -2.27050781e-02  3.32031250e-01 -3.27148438e-02  1.77734375e-01\n",
      " -2.08007812e-01  4.54101562e-02 -1.23901367e-02  1.19628906e-01\n",
      "  7.44628906e-03 -9.03320312e-03  1.14257812e-01  1.69921875e-01\n",
      " -2.38281250e-01 -2.79541016e-02 -1.21093750e-01  2.47802734e-02\n",
      "  7.71484375e-02 -2.81982422e-02 -4.71191406e-02  1.78222656e-02\n",
      " -1.23046875e-01 -5.32226562e-02  2.68554688e-02 -3.11279297e-02\n",
      " -5.59082031e-02 -5.00488281e-02 -3.73535156e-02  1.25976562e-01\n",
      "  5.61523438e-02  1.51367188e-01  4.29687500e-02 -2.08007812e-01\n",
      " -4.78515625e-02  2.78320312e-02  1.81640625e-01  2.20703125e-01\n",
      " -3.61328125e-02 -8.39843750e-02 -3.69548798e-05 -9.52148438e-02\n",
      " -1.25000000e-01 -1.95312500e-01 -1.50390625e-01 -4.15039062e-02\n",
      "  1.31835938e-01  1.17675781e-01  1.91650391e-02  5.51757812e-02\n",
      " -9.42382812e-02 -1.08886719e-01  7.32421875e-02 -1.15234375e-01\n",
      "  8.93554688e-02 -1.40625000e-01  1.45507812e-01  4.49218750e-02\n",
      " -1.10473633e-02 -1.62353516e-02  4.05883789e-03  3.75976562e-02\n",
      " -6.98242188e-02 -5.46875000e-02  2.17285156e-02 -9.47265625e-02\n",
      "  4.24804688e-02  1.81884766e-02 -1.73339844e-02  4.63867188e-02\n",
      " -1.42578125e-01  1.99218750e-01  1.10839844e-01  2.58789062e-02\n",
      " -7.08007812e-02 -5.54199219e-02  3.45703125e-01  1.61132812e-01\n",
      " -2.44140625e-01 -2.59765625e-01 -9.71679688e-02  8.00781250e-02\n",
      " -8.78906250e-02 -7.22656250e-02  1.42578125e-01 -8.54492188e-02\n",
      " -3.18359375e-01  8.30078125e-02  6.34765625e-02  1.64062500e-01\n",
      " -1.92382812e-01 -1.17675781e-01 -5.41992188e-02 -1.56250000e-01\n",
      " -1.21582031e-01 -4.95605469e-02  1.20117188e-01 -3.83300781e-02\n",
      "  5.51757812e-02 -8.97216797e-03  4.32128906e-02  6.93359375e-02\n",
      "  8.93554688e-02  2.53906250e-01  1.65039062e-01  1.64062500e-01\n",
      " -1.41601562e-01  4.58984375e-02  1.97265625e-01 -8.98437500e-02\n",
      "  3.90625000e-02 -1.51367188e-01 -8.60595703e-03 -1.17675781e-01\n",
      " -1.97265625e-01 -1.12792969e-01  1.29882812e-01  1.96289062e-01\n",
      "  1.56402588e-03  3.93066406e-02  2.17773438e-01 -1.43554688e-01\n",
      "  6.03027344e-02 -1.35742188e-01  1.16210938e-01 -1.59912109e-02\n",
      "  2.79296875e-01  1.46484375e-01 -1.19628906e-01  1.76757812e-01\n",
      "  1.28906250e-01 -1.49414062e-01  6.93359375e-02 -1.72851562e-01\n",
      "  9.22851562e-02  1.33056641e-02 -2.00195312e-01 -9.76562500e-02\n",
      " -1.65039062e-01 -2.46093750e-01 -2.35595703e-02 -2.11914062e-01\n",
      "  1.84570312e-01 -1.85546875e-02  2.16796875e-01  5.05371094e-02\n",
      "  2.02636719e-02  4.25781250e-01  1.28906250e-01 -2.77099609e-02\n",
      "  1.29882812e-01 -1.15722656e-01 -2.05078125e-02  1.49414062e-01\n",
      "  7.81250000e-03 -2.05078125e-01 -8.05664062e-02 -2.67578125e-01\n",
      " -2.29492188e-02 -8.20312500e-02  8.64257812e-02  7.61718750e-02\n",
      " -3.66210938e-02  5.22460938e-02 -1.22070312e-01 -1.44042969e-02\n",
      " -2.69531250e-01  8.44726562e-02 -2.52685547e-02 -2.96630859e-02\n",
      " -1.68945312e-01  1.93359375e-01 -1.08398438e-01  1.94091797e-02\n",
      " -1.80664062e-01  1.93359375e-01 -7.08007812e-02  5.85937500e-02\n",
      " -1.01562500e-01 -1.31835938e-01  7.51953125e-02 -7.66601562e-02\n",
      "  3.37219238e-03 -8.59375000e-02  1.25000000e-01  2.92968750e-02\n",
      "  1.70898438e-01 -9.37500000e-02 -1.09375000e-01 -2.50244141e-02\n",
      "  2.11914062e-01 -4.44335938e-02  6.12792969e-02  2.62451172e-02\n",
      " -1.77734375e-01  1.23046875e-01 -7.42187500e-02 -1.67968750e-01\n",
      " -1.08886719e-01 -9.04083252e-04 -7.37304688e-02  5.49316406e-02\n",
      "  6.03027344e-02  8.39843750e-02  9.17968750e-02 -1.32812500e-01\n",
      "  1.22070312e-01 -8.78906250e-03  1.19140625e-01 -1.94335938e-01\n",
      " -6.64062500e-02 -2.07031250e-01  7.37304688e-02  8.93554688e-02\n",
      "  1.81884766e-02 -1.20605469e-01 -2.61230469e-02  2.67333984e-02\n",
      "  7.76367188e-02 -8.30078125e-02  6.78710938e-02 -3.54003906e-02\n",
      "  3.10546875e-01 -2.42919922e-02 -1.41601562e-01 -2.08007812e-01\n",
      " -4.57763672e-03 -6.54296875e-02 -4.95605469e-02  2.22656250e-01\n",
      "  1.53320312e-01 -1.38671875e-01 -5.24902344e-02  4.24804688e-02\n",
      " -2.38281250e-01  1.56250000e-01  5.83648682e-04 -1.20605469e-01\n",
      " -9.22851562e-02 -4.44335938e-02  3.61328125e-02 -1.86767578e-02\n",
      " -8.25195312e-02 -8.25195312e-02 -4.05273438e-02  1.19018555e-02\n",
      "  1.69921875e-01 -2.80761719e-02  3.03649902e-03  9.32617188e-02\n",
      " -8.49609375e-02  1.57470703e-02  7.03125000e-02  1.62353516e-02\n",
      " -2.27050781e-02  3.51562500e-02  2.47070312e-01 -2.67333984e-02]\n",
      "300\n"
     ]
    }
   ],
   "source": [
    "#example\n",
    "united_states = model['United_States']\n",
    "print(united_states)\n",
    "print(len(united_states))"
   ]
  },
  {
   "cell_type": "markdown",
   "id": "08d8e3d4-cae7-44c1-9703-ef5214b4e035",
   "metadata": {
    "jp-MarkdownHeadingCollapsed": true,
    "tags": []
   },
   "source": [
    "### 61.単語の類似度  \n",
    "“United States”と”U.S.”のコサイン類似度を計算せよ．"
   ]
  },
  {
   "cell_type": "code",
   "execution_count": 14,
   "id": "4c9d515e-7cb1-4e2a-8c56-b4d722cd1ab5",
   "metadata": {
    "tags": []
   },
   "outputs": [
    {
     "data": {
      "text/plain": [
       "0.73107743"
      ]
     },
     "execution_count": 14,
     "metadata": {},
     "output_type": "execute_result"
    }
   ],
   "source": [
    "#similarityメソッドでコサイン類似度が計算できる\n",
    "model.similarity('United_States', 'U.S.')"
   ]
  },
  {
   "cell_type": "markdown",
   "id": "b6bc9eb0-4cb6-4767-8b7e-ec1da7cfac69",
   "metadata": {},
   "source": [
    "### 62.類似度の高い単語10件  \n",
    "“United States”とコサイン類似度が高い10語と，その類似度を出力せよ"
   ]
  },
  {
   "cell_type": "code",
   "execution_count": 15,
   "id": "3fddc98a-dfdf-4731-9992-a047e89233ca",
   "metadata": {
    "tags": []
   },
   "outputs": [
    {
     "data": {
      "text/plain": [
       "[('Unites_States', 0.7877248525619507),\n",
       " ('Untied_States', 0.7541370391845703),\n",
       " ('United_Sates', 0.7400725483894348),\n",
       " ('U.S.', 0.7310774326324463),\n",
       " ('theUnited_States', 0.6404393911361694),\n",
       " ('America', 0.6178410053253174),\n",
       " ('UnitedStates', 0.6167312264442444),\n",
       " ('Europe', 0.6132988929748535),\n",
       " ('countries', 0.6044804453849792),\n",
       " ('Canada', 0.6019070148468018)]"
      ]
     },
     "execution_count": 15,
     "metadata": {},
     "output_type": "execute_result"
    }
   ],
   "source": [
    "#most_similarメソッドのtopnパラメータを変更することで出力できる\n",
    "model.most_similar('United_States', topn=10)"
   ]
  },
  {
   "cell_type": "markdown",
   "id": "7dc542da-b780-4d90-b108-d34689b3ca36",
   "metadata": {},
   "source": [
    "typoや意味的または地理的に近いwordが登場している"
   ]
  },
  {
   "cell_type": "markdown",
   "id": "a0640532-c2e3-463f-983f-810d9e01d8d5",
   "metadata": {},
   "source": [
    "### 63.加法構成性によるアナロジー  \n",
    "”Spain”の単語ベクトルから”Madrid”のベクトルを引き，”Athens”のベクトルを足したベクトルを計算し，そのベクトルと類似度の高い10語とその類似度を出力せよ．"
   ]
  },
  {
   "cell_type": "code",
   "execution_count": 28,
   "id": "593609a6-59f2-403d-8b15-e3ef7d6a4b53",
   "metadata": {
    "tags": []
   },
   "outputs": [
    {
     "data": {
      "text/plain": [
       "[('Greece', 0.6898480653762817),\n",
       " ('Aristeidis_Grigoriadis', 0.560684859752655),\n",
       " ('Ioannis_Drymonakos', 0.555290937423706),\n",
       " ('Greeks', 0.5450686812400818),\n",
       " ('Ioannis_Christou', 0.5400862693786621),\n",
       " ('Hrysopiyi_Devetzi', 0.5248445272445679),\n",
       " ('Heraklio', 0.5207759141921997),\n",
       " ('Athens_Greece', 0.5168809294700623),\n",
       " ('Lithuania', 0.5166866183280945),\n",
       " ('Iraklion', 0.5146791934967041)]"
      ]
     },
     "execution_count": 28,
     "metadata": {},
     "output_type": "execute_result"
    }
   ],
   "source": [
    "#1\n",
    "new_vector = model['Spain'] - model['Madrid'] + model['Athens']\n",
    "model.similar_by_vector(new_vector)\n",
    "#2\n",
    "model.most_similar(positive=['Spain', 'Athens'], negative=['Madrid'], topn=10)"
   ]
  },
  {
   "cell_type": "markdown",
   "id": "2ca07a4f-aba8-4379-9662-116dba71b0bf",
   "metadata": {},
   "source": [
    "Spain-Madidの国-首都の関係から，アテネを首都にもつギリシャ(Greece)が出現すると予想できる．実際，最も類似している．"
   ]
  },
  {
   "cell_type": "markdown",
   "id": "6891f872-53b5-4932-befb-b7b181a917c5",
   "metadata": {},
   "source": [
    "### 64.アナロジーデータでの実験  \n",
    "[単語アナロジーの評価データ](http://download.tensorflow.org/data/questions-words.txt)をダウンロードし，vec(2列目の単語) - vec(1列目の単語) + vec(3列目の単語)を計算し，そのベクトルと類似度が最も高い単語と，その類似度を求めよ．求めた単語と類似度は，各事例の末尾に追記せよ．"
   ]
  },
  {
   "cell_type": "markdown",
   "id": "62624581-8584-4556-be24-cb83ca03c69f",
   "metadata": {
    "tags": []
   },
   "source": [
    "!wget http://download.tensorflow.org/data/questions-words.txt"
   ]
  },
  {
   "cell_type": "markdown",
   "id": "b2eb4da6-e3ac-4e88-963d-e7fbbbeb9d6b",
   "metadata": {
    "tags": []
   },
   "source": [
    ":カテゴリ  \n",
    "の後に該当カテゴリの単語列が並ぶ．途中gramから始まるカテゴリに切り替わり，ここまでが意味的な類似度に基づいており，gramから始まるカテゴリでは文法的な類似性に基づいている．"
   ]
  },
  {
   "cell_type": "code",
   "execution_count": 4,
   "id": "16fb7183-fec2-417f-a0bf-638932a351a2",
   "metadata": {
    "tags": []
   },
   "outputs": [],
   "source": [
    "import pandas as pd"
   ]
  },
  {
   "cell_type": "code",
   "execution_count": 5,
   "id": "d77ad2bd-80ea-40b2-9c97-13f8043f20dc",
   "metadata": {
    "tags": []
   },
   "outputs": [
    {
     "name": "stderr",
     "output_type": "stream",
     "text": [
      "44it [00:07,  5.51it/s]\n"
     ]
    },
    {
     "ename": "KeyboardInterrupt",
     "evalue": "",
     "output_type": "error",
     "traceback": [
      "\u001b[0;31m---------------------------------------------------------------------------\u001b[0m",
      "\u001b[0;31mKeyboardInterrupt\u001b[0m                         Traceback (most recent call last)",
      "Cell \u001b[0;32mIn[5], line 9\u001b[0m\n\u001b[1;32m      7\u001b[0m     category \u001b[38;5;241m=\u001b[39m words[\u001b[38;5;241m1\u001b[39m]\n\u001b[1;32m      8\u001b[0m \u001b[38;5;28;01melse\u001b[39;00m:\n\u001b[0;32m----> 9\u001b[0m     expect_word, similality \u001b[38;5;241m=\u001b[39m \u001b[43mmodel\u001b[49m\u001b[38;5;241;43m.\u001b[39;49m\u001b[43mmost_similar\u001b[49m\u001b[43m(\u001b[49m\u001b[43mpositive\u001b[49m\u001b[38;5;241;43m=\u001b[39;49m\u001b[43m[\u001b[49m\u001b[43mwords\u001b[49m\u001b[43m[\u001b[49m\u001b[38;5;241;43m1\u001b[39;49m\u001b[43m]\u001b[49m\u001b[43m,\u001b[49m\u001b[43m \u001b[49m\u001b[43mwords\u001b[49m\u001b[43m[\u001b[49m\u001b[38;5;241;43m2\u001b[39;49m\u001b[43m]\u001b[49m\u001b[43m]\u001b[49m\u001b[43m,\u001b[49m\u001b[43m \u001b[49m\u001b[43mnegative\u001b[49m\u001b[38;5;241;43m=\u001b[39;49m\u001b[43m[\u001b[49m\u001b[43mwords\u001b[49m\u001b[43m[\u001b[49m\u001b[38;5;241;43m0\u001b[39;49m\u001b[43m]\u001b[49m\u001b[43m]\u001b[49m\u001b[43m,\u001b[49m\u001b[43m \u001b[49m\u001b[43mtopn\u001b[49m\u001b[38;5;241;43m=\u001b[39;49m\u001b[38;5;241;43m1\u001b[39;49m\u001b[43m)\u001b[49m[\u001b[38;5;241m0\u001b[39m]\n\u001b[1;32m     10\u001b[0m     f2\u001b[38;5;241m.\u001b[39mwrite(\u001b[38;5;124m'\u001b[39m\u001b[38;5;124m \u001b[39m\u001b[38;5;124m'\u001b[39m\u001b[38;5;241m.\u001b[39mjoin([category] \u001b[38;5;241m+\u001b[39m words \u001b[38;5;241m+\u001b[39m [expect_word, \u001b[38;5;28mstr\u001b[39m(similality)]))\n\u001b[1;32m     11\u001b[0m     f2\u001b[38;5;241m.\u001b[39mwrite(\u001b[38;5;124m'\u001b[39m\u001b[38;5;130;01m\\n\u001b[39;00m\u001b[38;5;124m'\u001b[39m)\n",
      "File \u001b[0;32m~/miniforge3/envs/rl-book/lib/python3.10/site-packages/gensim/models/keyedvectors.py:849\u001b[0m, in \u001b[0;36mKeyedVectors.most_similar\u001b[0;34m(self, positive, negative, topn, clip_start, clip_end, restrict_vocab, indexer)\u001b[0m\n\u001b[1;32m    846\u001b[0m \u001b[38;5;28;01mif\u001b[39;00m indexer \u001b[38;5;129;01mis\u001b[39;00m \u001b[38;5;129;01mnot\u001b[39;00m \u001b[38;5;28;01mNone\u001b[39;00m \u001b[38;5;129;01mand\u001b[39;00m \u001b[38;5;28misinstance\u001b[39m(topn, \u001b[38;5;28mint\u001b[39m):\n\u001b[1;32m    847\u001b[0m     \u001b[38;5;28;01mreturn\u001b[39;00m indexer\u001b[38;5;241m.\u001b[39mmost_similar(mean, topn)\n\u001b[0;32m--> 849\u001b[0m dists \u001b[38;5;241m=\u001b[39m \u001b[43mdot\u001b[49m\u001b[43m(\u001b[49m\u001b[38;5;28;43mself\u001b[39;49m\u001b[38;5;241;43m.\u001b[39;49m\u001b[43mvectors\u001b[49m\u001b[43m[\u001b[49m\u001b[43mclip_start\u001b[49m\u001b[43m:\u001b[49m\u001b[43mclip_end\u001b[49m\u001b[43m]\u001b[49m\u001b[43m,\u001b[49m\u001b[43m \u001b[49m\u001b[43mmean\u001b[49m\u001b[43m)\u001b[49m \u001b[38;5;241m/\u001b[39m \u001b[38;5;28mself\u001b[39m\u001b[38;5;241m.\u001b[39mnorms[clip_start:clip_end]\n\u001b[1;32m    850\u001b[0m \u001b[38;5;28;01mif\u001b[39;00m \u001b[38;5;129;01mnot\u001b[39;00m topn:\n\u001b[1;32m    851\u001b[0m     \u001b[38;5;28;01mreturn\u001b[39;00m dists\n",
      "\u001b[0;31mKeyboardInterrupt\u001b[0m: "
     ]
    }
   ],
   "source": [
    "from tqdm import tqdm\n",
    "\n",
    "with open('./questions-words.txt', mode='r') as f1, open('./word_analogy_data.txt', mode='w') as f2:\n",
    "    for line in tqdm(f1):\n",
    "        words = line.split()\n",
    "        if words[0] == ':':\n",
    "            category = words[1]\n",
    "        else:\n",
    "            expect_word, similality = model.most_similar(positive=[words[1], words[2]], negative=[words[0]], topn=1)[0]\n",
    "            f2.write(' '.join([category] + words + [expect_word, str(similality)]))\n",
    "            f2.write('\\n')"
   ]
  },
  {
   "cell_type": "code",
   "execution_count": 6,
   "id": "9a5aa44f-f678-4a8e-b8de-9bad3ef944d2",
   "metadata": {
    "tags": []
   },
   "outputs": [
    {
     "data": {
      "text/html": [
       "<div>\n",
       "<style scoped>\n",
       "    .dataframe tbody tr th:only-of-type {\n",
       "        vertical-align: middle;\n",
       "    }\n",
       "\n",
       "    .dataframe tbody tr th {\n",
       "        vertical-align: top;\n",
       "    }\n",
       "\n",
       "    .dataframe thead th {\n",
       "        text-align: right;\n",
       "    }\n",
       "</style>\n",
       "<table border=\"1\" class=\"dataframe\">\n",
       "  <thead>\n",
       "    <tr style=\"text-align: right;\">\n",
       "      <th></th>\n",
       "      <th>category</th>\n",
       "      <th>word1</th>\n",
       "      <th>word2</th>\n",
       "      <th>word3</th>\n",
       "      <th>word4</th>\n",
       "      <th>predict_word</th>\n",
       "      <th>similality</th>\n",
       "    </tr>\n",
       "  </thead>\n",
       "  <tbody>\n",
       "    <tr>\n",
       "      <th>0</th>\n",
       "      <td>capital-common-countries</td>\n",
       "      <td>Athens</td>\n",
       "      <td>Greece</td>\n",
       "      <td>Baghdad</td>\n",
       "      <td>Iraq</td>\n",
       "      <td>Iraqi</td>\n",
       "      <td>0.635187</td>\n",
       "    </tr>\n",
       "    <tr>\n",
       "      <th>1</th>\n",
       "      <td>capital-common-countries</td>\n",
       "      <td>Athens</td>\n",
       "      <td>Greece</td>\n",
       "      <td>Bangkok</td>\n",
       "      <td>Thailand</td>\n",
       "      <td>Thailand</td>\n",
       "      <td>0.713767</td>\n",
       "    </tr>\n",
       "    <tr>\n",
       "      <th>2</th>\n",
       "      <td>capital-common-countries</td>\n",
       "      <td>Athens</td>\n",
       "      <td>Greece</td>\n",
       "      <td>Beijing</td>\n",
       "      <td>China</td>\n",
       "      <td>China</td>\n",
       "      <td>0.723578</td>\n",
       "    </tr>\n",
       "    <tr>\n",
       "      <th>3</th>\n",
       "      <td>capital-common-countries</td>\n",
       "      <td>Athens</td>\n",
       "      <td>Greece</td>\n",
       "      <td>Berlin</td>\n",
       "      <td>Germany</td>\n",
       "      <td>Germany</td>\n",
       "      <td>0.673462</td>\n",
       "    </tr>\n",
       "    <tr>\n",
       "      <th>4</th>\n",
       "      <td>capital-common-countries</td>\n",
       "      <td>Athens</td>\n",
       "      <td>Greece</td>\n",
       "      <td>Bern</td>\n",
       "      <td>Switzerland</td>\n",
       "      <td>Switzerland</td>\n",
       "      <td>0.491975</td>\n",
       "    </tr>\n",
       "  </tbody>\n",
       "</table>\n",
       "</div>"
      ],
      "text/plain": [
       "                   category   word1   word2    word3        word4  \\\n",
       "0  capital-common-countries  Athens  Greece  Baghdad         Iraq   \n",
       "1  capital-common-countries  Athens  Greece  Bangkok     Thailand   \n",
       "2  capital-common-countries  Athens  Greece  Beijing        China   \n",
       "3  capital-common-countries  Athens  Greece   Berlin      Germany   \n",
       "4  capital-common-countries  Athens  Greece     Bern  Switzerland   \n",
       "\n",
       "  predict_word  similality  \n",
       "0        Iraqi    0.635187  \n",
       "1     Thailand    0.713767  \n",
       "2        China    0.723578  \n",
       "3      Germany    0.673462  \n",
       "4  Switzerland    0.491975  "
      ]
     },
     "execution_count": 6,
     "metadata": {},
     "output_type": "execute_result"
    }
   ],
   "source": [
    "word_analogy_data = pd.read_csv('./word_analogy_data.txt', sep=' ', names=['category', 'word1', 'word2', 'word3', 'word4', 'predict_word', 'similality'])\n",
    "word_analogy_data.head()"
   ]
  },
  {
   "cell_type": "code",
   "execution_count": 8,
   "id": "2bae871b-0864-4f2b-9e84-eacbb20730f8",
   "metadata": {
    "tags": []
   },
   "outputs": [
    {
     "data": {
      "text/plain": [
       "array(['capital-common-countries', 'capital-world', 'currency',\n",
       "       'city-in-state', 'family', 'gram1-adjective-to-adverb',\n",
       "       'gram2-opposite', 'gram3-comparative', 'gram4-superlative',\n",
       "       'gram5-present-participle', 'gram6-nationality-adjective',\n",
       "       'gram7-past-tense', 'gram8-plural', 'gram9-plural-verbs'],\n",
       "      dtype=object)"
      ]
     },
     "execution_count": 8,
     "metadata": {},
     "output_type": "execute_result"
    }
   ],
   "source": [
    "word_analogy_data['category'].unique()"
   ]
  },
  {
   "cell_type": "markdown",
   "id": "73854457-089b-403e-b304-0886e6e9f4f0",
   "metadata": {},
   "source": [
    "### 65. アナロジータスクでの正解率  \n",
    "64の実行結果を用い，意味的アナロジー（semantic analogy）と文法的アナロジー（syntactic analogy）の正解率を測定せよ．"
   ]
  },
  {
   "cell_type": "code",
   "execution_count": 69,
   "id": "adcbf9b1-60b0-447b-b5c2-4623b2ce765e",
   "metadata": {
    "tags": []
   },
   "outputs": [
    {
     "name": "stdout",
     "output_type": "stream",
     "text": [
      "意味的アナロジーの正解率: 73.1%\n",
      "文法的アナロジーの正解率: 74.0%\n"
     ]
    }
   ],
   "source": [
    "sem_cnt = 0\n",
    "sem_correct = 0\n",
    "syn_cnt = 0\n",
    "syn_correct = 0\n",
    "for i in range(len(word_analogy_data)):\n",
    "    if 'gram' in word_analogy_data.iloc[i, 0]:\n",
    "        syn_cnt += 1\n",
    "        if word_analogy_data['word4'].iloc[i] == word_analogy_data['predict_word'].iloc[i]:\n",
    "            syn_correct += 1\n",
    "    else:\n",
    "        sem_cnt += 1\n",
    "        if word_analogy_data['word4'].iloc[i] == word_analogy_data['predict_word'].iloc[i]:\n",
    "            sem_correct += 1\n",
    "            \n",
    "print(f'意味的アナロジーの正解率: {round(sem_correct/sem_cnt, 3)*100}%')\n",
    "print(f'文法的アナロジーの正解率: {round(syn_correct/syn_cnt, 3)*100}%')\n",
    "                                                             "
   ]
  },
  {
   "cell_type": "markdown",
   "id": "36f343ba-d9ab-4921-84d3-4738e4844a40",
   "metadata": {},
   "source": [
    "### 66. WordSimilarity-353での評価  \n",
    "[The WordSimilarity-353 Test Collection](https://gabrilovich.com/resources/data/wordsim353/wordsim353.zip)の評価データをダウンロードし，単語ベクトルにより計算される類似度のランキングと，人間の類似度判定のランキングの間のスピアマン相関係数を計算せよ"
   ]
  },
  {
   "cell_type": "markdown",
   "id": "f5c53c5f-1fa1-415a-8b0f-9c3c2279a8c9",
   "metadata": {},
   "source": [
    "【データセットの簡単な説明】  \n",
    "ネイティブレベルの英語力を持った人間によって意味的な類似性を評価された353組の単語ペアのデータセット．各ファイルの最初の2列には単語のペアが含まれ、その後に被験者の個別評価の(浮動小数点)平均スコアが続く列が含まれる．"
   ]
  },
  {
   "cell_type": "markdown",
   "id": "6841322a-0421-43b2-9117-d9e011461aeb",
   "metadata": {
    "tags": []
   },
   "source": [
    "!unzip ./data/wordsim353.zip"
   ]
  },
  {
   "cell_type": "code",
   "execution_count": 4,
   "id": "ad994272-d92e-471f-80c3-1221de879370",
   "metadata": {
    "tags": []
   },
   "outputs": [
    {
     "data": {
      "text/html": [
       "<div>\n",
       "<style scoped>\n",
       "    .dataframe tbody tr th:only-of-type {\n",
       "        vertical-align: middle;\n",
       "    }\n",
       "\n",
       "    .dataframe tbody tr th {\n",
       "        vertical-align: top;\n",
       "    }\n",
       "\n",
       "    .dataframe thead th {\n",
       "        text-align: right;\n",
       "    }\n",
       "</style>\n",
       "<table border=\"1\" class=\"dataframe\">\n",
       "  <thead>\n",
       "    <tr style=\"text-align: right;\">\n",
       "      <th></th>\n",
       "      <th>Word 1</th>\n",
       "      <th>Word 2</th>\n",
       "      <th>Human (mean)</th>\n",
       "    </tr>\n",
       "  </thead>\n",
       "  <tbody>\n",
       "    <tr>\n",
       "      <th>0</th>\n",
       "      <td>love</td>\n",
       "      <td>sex</td>\n",
       "      <td>6.77</td>\n",
       "    </tr>\n",
       "    <tr>\n",
       "      <th>1</th>\n",
       "      <td>tiger</td>\n",
       "      <td>cat</td>\n",
       "      <td>7.35</td>\n",
       "    </tr>\n",
       "    <tr>\n",
       "      <th>2</th>\n",
       "      <td>tiger</td>\n",
       "      <td>tiger</td>\n",
       "      <td>10.00</td>\n",
       "    </tr>\n",
       "    <tr>\n",
       "      <th>3</th>\n",
       "      <td>book</td>\n",
       "      <td>paper</td>\n",
       "      <td>7.46</td>\n",
       "    </tr>\n",
       "    <tr>\n",
       "      <th>4</th>\n",
       "      <td>computer</td>\n",
       "      <td>keyboard</td>\n",
       "      <td>7.62</td>\n",
       "    </tr>\n",
       "  </tbody>\n",
       "</table>\n",
       "</div>"
      ],
      "text/plain": [
       "     Word 1    Word 2  Human (mean)\n",
       "0      love       sex          6.77\n",
       "1     tiger       cat          7.35\n",
       "2     tiger     tiger         10.00\n",
       "3      book     paper          7.46\n",
       "4  computer  keyboard          7.62"
      ]
     },
     "execution_count": 4,
     "metadata": {},
     "output_type": "execute_result"
    }
   ],
   "source": [
    "word353 = pd.read_csv('./data/combined.csv')\n",
    "word353.head()"
   ]
  },
  {
   "cell_type": "code",
   "execution_count": 5,
   "id": "cffd82f1-f657-4ee2-bbf7-649860fa712c",
   "metadata": {
    "tags": []
   },
   "outputs": [
    {
     "name": "stderr",
     "output_type": "stream",
     "text": [
      "/var/folders/ny/fhftdtxj7yb8ywmlkkn_qg5m0000gn/T/ipykernel_69138/664792534.py:3: SettingWithCopyWarning: \n",
      "A value is trying to be set on a copy of a slice from a DataFrame\n",
      "\n",
      "See the caveats in the documentation: https://pandas.pydata.org/pandas-docs/stable/user_guide/indexing.html#returning-a-view-versus-a-copy\n",
      "  word353['Word-Vector'].iloc[i]\\\n"
     ]
    }
   ],
   "source": [
    "word353['Word-Vector'] = [0 for _ in range(len(word353))]\n",
    "for i in range(len(word353)):\n",
    "    word353['Word-Vector'].iloc[i]\\\n",
    "    = model.similarity(word353['Word 1'].iloc[i], word353['Word 2'].iloc[i])\n"
   ]
  },
  {
   "cell_type": "code",
   "execution_count": 6,
   "id": "701c49ec-a41c-4240-8fca-5cf6c3103ad6",
   "metadata": {
    "tags": []
   },
   "outputs": [
    {
     "data": {
      "text/html": [
       "<div>\n",
       "<style scoped>\n",
       "    .dataframe tbody tr th:only-of-type {\n",
       "        vertical-align: middle;\n",
       "    }\n",
       "\n",
       "    .dataframe tbody tr th {\n",
       "        vertical-align: top;\n",
       "    }\n",
       "\n",
       "    .dataframe thead th {\n",
       "        text-align: right;\n",
       "    }\n",
       "</style>\n",
       "<table border=\"1\" class=\"dataframe\">\n",
       "  <thead>\n",
       "    <tr style=\"text-align: right;\">\n",
       "      <th></th>\n",
       "      <th>Word 1</th>\n",
       "      <th>Word 2</th>\n",
       "      <th>Human (mean)</th>\n",
       "      <th>Word-Vector</th>\n",
       "    </tr>\n",
       "  </thead>\n",
       "  <tbody>\n",
       "    <tr>\n",
       "      <th>0</th>\n",
       "      <td>love</td>\n",
       "      <td>sex</td>\n",
       "      <td>6.77</td>\n",
       "      <td>0.263938</td>\n",
       "    </tr>\n",
       "    <tr>\n",
       "      <th>1</th>\n",
       "      <td>tiger</td>\n",
       "      <td>cat</td>\n",
       "      <td>7.35</td>\n",
       "      <td>0.517296</td>\n",
       "    </tr>\n",
       "    <tr>\n",
       "      <th>2</th>\n",
       "      <td>tiger</td>\n",
       "      <td>tiger</td>\n",
       "      <td>10.00</td>\n",
       "      <td>1.000000</td>\n",
       "    </tr>\n",
       "    <tr>\n",
       "      <th>3</th>\n",
       "      <td>book</td>\n",
       "      <td>paper</td>\n",
       "      <td>7.46</td>\n",
       "      <td>0.363463</td>\n",
       "    </tr>\n",
       "    <tr>\n",
       "      <th>4</th>\n",
       "      <td>computer</td>\n",
       "      <td>keyboard</td>\n",
       "      <td>7.62</td>\n",
       "      <td>0.396392</td>\n",
       "    </tr>\n",
       "  </tbody>\n",
       "</table>\n",
       "</div>"
      ],
      "text/plain": [
       "     Word 1    Word 2  Human (mean)  Word-Vector\n",
       "0      love       sex          6.77     0.263938\n",
       "1     tiger       cat          7.35     0.517296\n",
       "2     tiger     tiger         10.00     1.000000\n",
       "3      book     paper          7.46     0.363463\n",
       "4  computer  keyboard          7.62     0.396392"
      ]
     },
     "execution_count": 6,
     "metadata": {},
     "output_type": "execute_result"
    }
   ],
   "source": [
    "word353.head()"
   ]
  },
  {
   "cell_type": "code",
   "execution_count": 84,
   "id": "2c2bf613-4e9d-428d-afb1-a9eb99357894",
   "metadata": {
    "tags": []
   },
   "outputs": [
    {
     "data": {
      "text/plain": [
       "0.7000166486272194"
      ]
     },
     "execution_count": 84,
     "metadata": {},
     "output_type": "execute_result"
    }
   ],
   "source": [
    "import numpy as np\n",
    "from scipy.stats import spearmanr\n",
    "\n",
    "human = np.array(word353['Human (mean)'])\n",
    "word2vec = np.array(word353['Word-Vector'])\n",
    "r_spear, p_value = spearmanr(human, word2vec)\n",
    "\n",
    "r_spear"
   ]
  },
  {
   "cell_type": "markdown",
   "id": "bb432be8-5d04-46f1-992c-1fafff42b56e",
   "metadata": {},
   "source": [
    "### 67.k-meansクラスタリング  \n",
    "国名に関する単語ベクトルを抽出し，k-meansクラスタリングをクラスタ数k=5として実行せよ．"
   ]
  },
  {
   "cell_type": "markdown",
   "id": "ecb4dfce-d30f-4aa4-af53-d5d32f200e77",
   "metadata": {},
   "source": [
    "64で作成したword_analogy_dataのcapital-common-countriesカテゴリから国名を獲得し，modelからそれぞれのベクトルを得る"
   ]
  },
  {
   "cell_type": "code",
   "execution_count": 7,
   "id": "24797f8e-369c-46f1-8fbe-758c7acd44ee",
   "metadata": {
    "tags": []
   },
   "outputs": [
    {
     "data": {
      "text/plain": [
       "['Greece',\n",
       " 'Iraq',\n",
       " 'Thailand',\n",
       " 'China',\n",
       " 'Germany',\n",
       " 'Switzerland',\n",
       " 'Egypt',\n",
       " 'Australia',\n",
       " 'Vietnam',\n",
       " 'Cuba',\n",
       " 'Finland',\n",
       " 'Pakistan',\n",
       " 'Afghanistan',\n",
       " 'England',\n",
       " 'Spain',\n",
       " 'Russia',\n",
       " 'Norway',\n",
       " 'Canada',\n",
       " 'France',\n",
       " 'Italy',\n",
       " 'Sweden',\n",
       " 'Iran',\n",
       " 'Japan']"
      ]
     },
     "execution_count": 7,
     "metadata": {},
     "output_type": "execute_result"
    }
   ],
   "source": [
    "countries = list(word_analogy_data.loc[word_analogy_data['category']==\\\n",
    "                                  'capital-common-countries']['word2'].unique())\n",
    "countries"
   ]
  },
  {
   "cell_type": "code",
   "execution_count": 8,
   "id": "25175e38-17a2-4aa0-9ba7-d646fcb51a6a",
   "metadata": {
    "tags": []
   },
   "outputs": [],
   "source": [
    "#各国のベクトルを得る\n",
    "vectors = [model[country] for country in countries]"
   ]
  },
  {
   "cell_type": "code",
   "execution_count": 93,
   "id": "c250c518-c20e-4480-81bc-a01681fac4bd",
   "metadata": {
    "tags": []
   },
   "outputs": [
    {
     "name": "stdout",
     "output_type": "stream",
     "text": [
      "【cluster 0】\n",
      "Thailand/China/Australia/Vietnam/Japan\n",
      "【cluster 1】\n",
      "Greece/Germany/Switzerland/Egypt/England/Spain/Russia/France/Italy\n",
      "【cluster 2】\n",
      "Iraq/Pakistan/Afghanistan/Iran\n",
      "【cluster 3】\n",
      "Finland/Norway/Canada/Sweden\n",
      "【cluster 4】\n",
      "Cuba\n"
     ]
    }
   ],
   "source": [
    "#KMeansの実行\n",
    "from sklearn.cluster import KMeans\n",
    "\n",
    "kmeans = KMeans(n_init=10 ,n_clusters=5)\n",
    "kmeans.fit(vectors)\n",
    "#kmeans.labels_で各ベクトルのラベルがnp.arrayで獲得できる\n",
    "for i in range(5):\n",
    "    cluster = np.where(kmeans.labels_ == i)[0]\n",
    "    print(f'【cluster {i}】')\n",
    "    cluster_countries = [countries[c] for c in cluster]\n",
    "    print(*cluster_countries, sep='/')"
   ]
  },
  {
   "cell_type": "markdown",
   "id": "f218c593-4c70-499c-b5ce-834475c27d49",
   "metadata": {},
   "source": [
    "例外もあるが，ざっくり  \n",
    "0: アジア  \n",
    "1: ヨーロッパ  \n",
    "2: 中東  \n",
    "3: 北欧  \n",
    "4: 南米 "
   ]
  },
  {
   "cell_type": "markdown",
   "id": "7626c3ec-30ab-4821-a8cc-dcc8b010754b",
   "metadata": {},
   "source": [
    "### 68.Ward法によるクラスタリング  \n"
   ]
  },
  {
   "cell_type": "markdown",
   "id": "d07593b0-e1e9-414b-af0e-53df0e2d7e79",
   "metadata": {},
   "source": [
    "国名に関する単語ベクトルに対し，Ward法による階層型クラスタリングを実行せよ．さらに，クラスタリング結果をデンドログラムとして可視化せよ．  \n",
    "[実装参考](https://docs.scipy.org/doc/scipy/reference/generated/scipy.cluster.hierarchy.dendrogram.html#scipy.cluster.hierarchy.dendrogram),[手法参考](https://ja.wikipedia.org/wiki/%E3%82%A6%E3%82%A9%E3%83%BC%E3%83%89%E6%B3%95)"
   ]
  },
  {
   "cell_type": "markdown",
   "id": "1422de1d-14d4-45f1-8d4a-29ac56cfa385",
   "metadata": {},
   "source": [
    "ウォード法は凝集型クラスタリングの一種で最も距離の近いクラスタのペアを結合する．適当な階層で切れば所望のクラスタ数にできる．クラスタP,Qの距離の指標はある集合Cの重心から各要素のでのユークリッド距離の二乗和を示すE(C)を用いて定義する．  \n",
    "  \n",
    "$$ E(C) = \\sum_{c\\in C} (\\textbf{x}_c - \\textbf{x}_g)^2$$  \n",
    "$$ d(P, Q) = E(P \\cup Q) - E(P) - E(Q)$$"
   ]
  },
  {
   "cell_type": "code",
   "execution_count": 94,
   "id": "5b874aa8-faaa-4c0c-8222-bdc722a9dec0",
   "metadata": {
    "tags": []
   },
   "outputs": [
    {
     "data": {
      "image/png": "[encoded data removed]",
      "text/plain": [
       "<Figure size 1500x500 with 1 Axes>"
      ]
     },
     "metadata": {},
     "output_type": "display_data"
    }
   ],
   "source": [
    "import matplotlib.pyplot as plt\n",
    "from scipy.cluster.hierarchy import dendrogram, linkage\n",
    "\n",
    "plt.figure(figsize=(15, 5))\n",
    "link = linkage(vectors, method='ward')\n",
    "dendrogram(link, labels=countries)\n",
    "plt.show()"
   ]
  },
  {
   "cell_type": "markdown",
   "id": "d0f68522-e6a9-4175-aae8-447240b48b61",
   "metadata": {},
   "source": [
    "### 69.t-SNEによる可視化  \n",
    "ベクトル空間上の国名に関する単語ベクトルをt-SNEで可視化せよ  \n",
    "[参考](https://qiita.com/g-k/items/120f1cf85ff2ceae4aba)"
   ]
  },
  {
   "cell_type": "code",
   "execution_count": 1,
   "id": "4fda06b5-204a-4f8c-8b56-75ef35ca1989",
   "metadata": {
    "tags": []
   },
   "outputs": [],
   "source": [
    "import numpy as np\n",
    "import matplotlib.pyplot as plt\n",
    "import bhtsne"
   ]
  },
  {
   "cell_type": "code",
   "execution_count": null,
   "id": "d8874a7f-9df9-4bd2-9126-fa07a752414a",
   "metadata": {},
   "outputs": [],
   "source": [
    "embedded = bhtsne.tsne(np.array(vectors).astype(np.float64), dimensions=2, rand_seed=100)\n",
    "plt.figure(figsize=(10, 10))\n",
    "plt.scatter(np.array(embedded).T[0], np.array(embedded).T[1])\n",
    "for (x, y), name in zip(embedded, countries):\n",
    "    plt.annotate(name, (x, y))\n",
    "plt.show()"
   ]
  },
  {
   "cell_type": "code",
   "execution_count": null,
   "id": "d72df39a-1645-4247-af34-60ac26edb072",
   "metadata": {},
   "outputs": [],
   "source": [
    "word_analogy_data.loc[word_analogy_data['category']=='capital-world']['word2'].unique()"
   ]
  }
 ],
 "metadata": {
  "kernelspec": {
   "display_name": "Python 3 (ipykernel)",
   "language": "python",
   "name": "python3"
  },
  "language_info": {
   "codemirror_mode": {
    "name": "ipython",
    "version": 3
   },
   "file_extension": ".py",
   "mimetype": "text/x-python",
   "name": "python",
   "nbconvert_exporter": "python",
   "pygments_lexer": "ipython3",
   "version": "3.10.8"
  }
 },
 "nbformat": 4,
 "nbformat_minor": 5
}
