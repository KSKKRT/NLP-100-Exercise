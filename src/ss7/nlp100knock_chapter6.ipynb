{
 "cells": [
  {
   "cell_type": "markdown",
   "id": "cd913828-836a-4b01-b294-5a6f1f497793",
   "metadata": {},
   "source": [
    "# 第６章 機械学習"
   ]
  },
  {
   "cell_type": "markdown",
   "id": "04615410-c87a-48e7-bb11-490727af37ba",
   "metadata": {},
   "source": [
    "本章では，Fabio Gasparetti氏が公開しているNews Aggregator Data Setを用い，ニュース記事の見出しを「ビジネス」「科学技術」「エンターテイメント」「健康」のカテゴリに分類するタスク（カテゴリ分類）に取り組む．"
   ]
  },
  {
   "cell_type": "code",
   "execution_count": 10,
   "id": "9b5fcff8-9f53-4fd4-820f-6485846a8996",
   "metadata": {},
   "outputs": [],
   "source": [
    "import pandas as pd\n",
    "import matplotlib.pyplot as plt\n",
    "import seaborn as sns\n",
    "from sklearn.model_selection import train_test_split"
   ]
  },
  {
   "cell_type": "markdown",
   "id": "3c755181-1461-4287-aea1-868bfc7807f9",
   "metadata": {},
   "source": [
    "# 50.データの入手・整形  \n",
    "[News Aggregator Data Set](https://archive.ics.uci.edu/ml/datasets/News+Aggregator)をダウンロードし、以下の要領で学習データ（train.txt），検証データ（valid.txt），評価データ（test.txt）を作成せよ．\n",
    "\n",
    "ダウンロードしたzipファイルを解凍し，readme.txtの説明を読む．  \n",
    "情報源（publisher）が”Reuters”, “Huffington Post”, “Businessweek”,   “Contactmusic.com”, “Daily Mail”の事例（記事）のみを抽出する．  \n",
    "抽出された事例をランダムに並び替える．  \n",
    "抽出された事例の80%を学習データ，残りの10%ずつを検証データと評価データに分割し，それぞれ  train.txt，valid.txt，test.txtというファイル名で保存する．ファイルには，１行に１事例を書き出すこととし，カテゴリ名と記事見出しのタブ区切り形式とせよ（このファイルは後に問題70で再利用する）．\n",
    "学習データと評価データを作成したら，各カテゴリの事例数を確認せよ．"
   ]
  },
  {
   "cell_type": "code",
   "execution_count": 9,
   "id": "d8fcd404-1efb-45c0-b2a0-6dae8c1f0664",
   "metadata": {},
   "outputs": [
    {
     "name": "stdout",
     "output_type": "stream",
     "text": [
      "1\tFed official says weak data caused by weather, should not slow taper\thttp://www.latimes.com/business/money/la-fi-mo-federal-reserve-plosser-stimulus-economy-20140310,0,1312750.story\\?track=rss\tLos Angeles Times\tb\tddUyU0VZz0BRneMioxUPQVP6sIxvM\twww.latimes.com\t1394470370698\n",
      "2\tFed's Charles Plosser sees high bar for change in pace of tapering\thttp://www.livemint.com/Politics/H2EvwJSK2VE6OF7iK1g3PP/Feds-Charles-Plosser-sees-high-bar-for-change-in-pace-of-ta.html\tLivemint\tb\tddUyU0VZz0BRneMioxUPQVP6sIxvM\twww.livemint.com\t1394470371207\n",
      "3\tUS open: Stocks fall after Fed official hints at accelerated tapering\thttp://www.ifamagazine.com/news/us-open-stocks-fall-after-fed-official-hints-at-accelerated-tapering-294436\tIFA Magazine\tb\tddUyU0VZz0BRneMioxUPQVP6sIxvM\twww.ifamagazine.com\t1394470371550\n",
      "4\tFed risks falling 'behind the curve', Charles Plosser says\thttp://www.ifamagazine.com/news/fed-risks-falling-behind-the-curve-charles-plosser-says-294430\tIFA Magazine\tb\tddUyU0VZz0BRneMioxUPQVP6sIxvM\twww.ifamagazine.com\t1394470371793\n",
      "5\tFed's Plosser: Nasty Weather Has Curbed Job Growth\thttp://www.moneynews.com/Economy/federal-reserve-charles-plosser-weather-job-growth/2014/03/10/id/557011\tMoneynews\tb\tddUyU0VZz0BRneMioxUPQVP6sIxvM\twww.moneynews.com\t1394470372027\n"
     ]
    }
   ],
   "source": [
    "!head -5 ./news+aggregator/newsCorpora.csv"
   ]
  },
  {
   "cell_type": "markdown",
   "id": "8e7a289d-b6d6-447a-a666-7273fd24869e",
   "metadata": {},
   "source": [
    "id,タイトル,url,出版社,カテゴリ(b=ビジネス,t=科学技術、e=エンターテインメント、m=健康),同じストーリーに関するニュースを含むクラスターの英数字ID,urlホスト名,おおよその出版時間(time stamp)がタブ区切りでcsvにまとめられている．"
   ]
  },
  {
   "cell_type": "code",
   "execution_count": 92,
   "id": "3aafc829-0dfa-48b9-bd89-2349d2ebde77",
   "metadata": {},
   "outputs": [
    {
     "data": {
      "text/html": [
       "<div>\n",
       "<style scoped>\n",
       "    .dataframe tbody tr th:only-of-type {\n",
       "        vertical-align: middle;\n",
       "    }\n",
       "\n",
       "    .dataframe tbody tr th {\n",
       "        vertical-align: top;\n",
       "    }\n",
       "\n",
       "    .dataframe thead th {\n",
       "        text-align: right;\n",
       "    }\n",
       "</style>\n",
       "<table border=\"1\" class=\"dataframe\">\n",
       "  <thead>\n",
       "    <tr style=\"text-align: right;\">\n",
       "      <th></th>\n",
       "      <th>ID</th>\n",
       "      <th>TITLE</th>\n",
       "      <th>URL</th>\n",
       "      <th>PUBLISHER</th>\n",
       "      <th>CATEGORY</th>\n",
       "      <th>STORY</th>\n",
       "      <th>HOSTNAME</th>\n",
       "      <th>TIMESTAMP</th>\n",
       "    </tr>\n",
       "  </thead>\n",
       "  <tbody>\n",
       "    <tr>\n",
       "      <th>0</th>\n",
       "      <td>1</td>\n",
       "      <td>Fed official says weak data caused by weather,...</td>\n",
       "      <td>http://www.latimes.com/business/money/la-fi-mo...</td>\n",
       "      <td>Los Angeles Times</td>\n",
       "      <td>b</td>\n",
       "      <td>ddUyU0VZz0BRneMioxUPQVP6sIxvM</td>\n",
       "      <td>www.latimes.com</td>\n",
       "      <td>1394470370698</td>\n",
       "    </tr>\n",
       "    <tr>\n",
       "      <th>1</th>\n",
       "      <td>2</td>\n",
       "      <td>Fed's Charles Plosser sees high bar for change...</td>\n",
       "      <td>http://www.livemint.com/Politics/H2EvwJSK2VE6O...</td>\n",
       "      <td>Livemint</td>\n",
       "      <td>b</td>\n",
       "      <td>ddUyU0VZz0BRneMioxUPQVP6sIxvM</td>\n",
       "      <td>www.livemint.com</td>\n",
       "      <td>1394470371207</td>\n",
       "    </tr>\n",
       "    <tr>\n",
       "      <th>2</th>\n",
       "      <td>3</td>\n",
       "      <td>US open: Stocks fall after Fed official hints ...</td>\n",
       "      <td>http://www.ifamagazine.com/news/us-open-stocks...</td>\n",
       "      <td>IFA Magazine</td>\n",
       "      <td>b</td>\n",
       "      <td>ddUyU0VZz0BRneMioxUPQVP6sIxvM</td>\n",
       "      <td>www.ifamagazine.com</td>\n",
       "      <td>1394470371550</td>\n",
       "    </tr>\n",
       "    <tr>\n",
       "      <th>3</th>\n",
       "      <td>4</td>\n",
       "      <td>Fed risks falling 'behind the curve', Charles ...</td>\n",
       "      <td>http://www.ifamagazine.com/news/fed-risks-fall...</td>\n",
       "      <td>IFA Magazine</td>\n",
       "      <td>b</td>\n",
       "      <td>ddUyU0VZz0BRneMioxUPQVP6sIxvM</td>\n",
       "      <td>www.ifamagazine.com</td>\n",
       "      <td>1394470371793</td>\n",
       "    </tr>\n",
       "    <tr>\n",
       "      <th>4</th>\n",
       "      <td>5</td>\n",
       "      <td>Fed's Plosser: Nasty Weather Has Curbed Job Gr...</td>\n",
       "      <td>http://www.moneynews.com/Economy/federal-reser...</td>\n",
       "      <td>Moneynews</td>\n",
       "      <td>b</td>\n",
       "      <td>ddUyU0VZz0BRneMioxUPQVP6sIxvM</td>\n",
       "      <td>www.moneynews.com</td>\n",
       "      <td>1394470372027</td>\n",
       "    </tr>\n",
       "  </tbody>\n",
       "</table>\n",
       "</div>"
      ],
      "text/plain": [
       "   ID                                              TITLE  \\\n",
       "0   1  Fed official says weak data caused by weather,...   \n",
       "1   2  Fed's Charles Plosser sees high bar for change...   \n",
       "2   3  US open: Stocks fall after Fed official hints ...   \n",
       "3   4  Fed risks falling 'behind the curve', Charles ...   \n",
       "4   5  Fed's Plosser: Nasty Weather Has Curbed Job Gr...   \n",
       "\n",
       "                                                 URL          PUBLISHER  \\\n",
       "0  http://www.latimes.com/business/money/la-fi-mo...  Los Angeles Times   \n",
       "1  http://www.livemint.com/Politics/H2EvwJSK2VE6O...           Livemint   \n",
       "2  http://www.ifamagazine.com/news/us-open-stocks...       IFA Magazine   \n",
       "3  http://www.ifamagazine.com/news/fed-risks-fall...       IFA Magazine   \n",
       "4  http://www.moneynews.com/Economy/federal-reser...          Moneynews   \n",
       "\n",
       "  CATEGORY                          STORY             HOSTNAME      TIMESTAMP  \n",
       "0        b  ddUyU0VZz0BRneMioxUPQVP6sIxvM      www.latimes.com  1394470370698  \n",
       "1        b  ddUyU0VZz0BRneMioxUPQVP6sIxvM     www.livemint.com  1394470371207  \n",
       "2        b  ddUyU0VZz0BRneMioxUPQVP6sIxvM  www.ifamagazine.com  1394470371550  \n",
       "3        b  ddUyU0VZz0BRneMioxUPQVP6sIxvM  www.ifamagazine.com  1394470371793  \n",
       "4        b  ddUyU0VZz0BRneMioxUPQVP6sIxvM    www.moneynews.com  1394470372027  "
      ]
     },
     "execution_count": 92,
     "metadata": {},
     "output_type": "execute_result"
    }
   ],
   "source": [
    "names = ['ID', 'TITLE', 'URL', 'PUBLISHER', 'CATEGORY', 'STORY', 'HOSTNAME', 'TIMESTAMP']\n",
    "df = pd.read_csv('./news+aggregator/newsCorpora.csv', header=None, sep='\\t', encoding='utf-8', names=names)\n",
    "df.head()"
   ]
  },
  {
   "cell_type": "code",
   "execution_count": 93,
   "id": "6bebcdf7-a94f-419c-8c8c-799b0e12be8c",
   "metadata": {},
   "outputs": [],
   "source": [
    "target_publisher = ['Reuters', 'Huffington Post', 'Businessweek', 'Contactmusic.com', 'Daily Mail']\n",
    "df_target = df.loc[df['PUBLISHER'].isin(target_publisher),['TITLE', 'PUBLISHER', 'CATEGORY']]"
   ]
  },
  {
   "cell_type": "code",
   "execution_count": 94,
   "id": "dcecd149-9ffd-41d2-ae60-9c84a970caed",
   "metadata": {},
   "outputs": [
    {
     "data": {
      "text/html": [
       "<div>\n",
       "<style scoped>\n",
       "    .dataframe tbody tr th:only-of-type {\n",
       "        vertical-align: middle;\n",
       "    }\n",
       "\n",
       "    .dataframe tbody tr th {\n",
       "        vertical-align: top;\n",
       "    }\n",
       "\n",
       "    .dataframe thead th {\n",
       "        text-align: right;\n",
       "    }\n",
       "</style>\n",
       "<table border=\"1\" class=\"dataframe\">\n",
       "  <thead>\n",
       "    <tr style=\"text-align: right;\">\n",
       "      <th></th>\n",
       "      <th>TITLE</th>\n",
       "      <th>PUBLISHER</th>\n",
       "      <th>CATEGORY</th>\n",
       "    </tr>\n",
       "  </thead>\n",
       "  <tbody>\n",
       "    <tr>\n",
       "      <th>12</th>\n",
       "      <td>Europe reaches crunch point on banking union</td>\n",
       "      <td>Reuters</td>\n",
       "      <td>b</td>\n",
       "    </tr>\n",
       "    <tr>\n",
       "      <th>13</th>\n",
       "      <td>ECB FOCUS-Stronger euro drowns out ECB's messa...</td>\n",
       "      <td>Reuters</td>\n",
       "      <td>b</td>\n",
       "    </tr>\n",
       "    <tr>\n",
       "      <th>19</th>\n",
       "      <td>Euro Anxieties Wane as Bunds Top Treasuries, S...</td>\n",
       "      <td>Businessweek</td>\n",
       "      <td>b</td>\n",
       "    </tr>\n",
       "    <tr>\n",
       "      <th>20</th>\n",
       "      <td>Noyer Says Strong Euro Creates Unwarranted Eco...</td>\n",
       "      <td>Businessweek</td>\n",
       "      <td>b</td>\n",
       "    </tr>\n",
       "    <tr>\n",
       "      <th>29</th>\n",
       "      <td>REFILE-Bad loan triggers key feature in ECB ba...</td>\n",
       "      <td>Reuters</td>\n",
       "      <td>b</td>\n",
       "    </tr>\n",
       "  </tbody>\n",
       "</table>\n",
       "</div>"
      ],
      "text/plain": [
       "                                                TITLE     PUBLISHER CATEGORY\n",
       "12       Europe reaches crunch point on banking union       Reuters        b\n",
       "13  ECB FOCUS-Stronger euro drowns out ECB's messa...       Reuters        b\n",
       "19  Euro Anxieties Wane as Bunds Top Treasuries, S...  Businessweek        b\n",
       "20  Noyer Says Strong Euro Creates Unwarranted Eco...  Businessweek        b\n",
       "29  REFILE-Bad loan triggers key feature in ECB ba...       Reuters        b"
      ]
     },
     "execution_count": 94,
     "metadata": {},
     "output_type": "execute_result"
    }
   ],
   "source": [
    "df_target.head()"
   ]
  },
  {
   "cell_type": "code",
   "execution_count": 96,
   "id": "b8c8227d-05ed-418b-a7e3-f74febc50efe",
   "metadata": {},
   "outputs": [
    {
     "name": "stdout",
     "output_type": "stream",
     "text": [
      "train : valid : test =  10672 1334 1334\n"
     ]
    }
   ],
   "source": [
    "#train:valid:test = 8:1:1で分割\n",
    "RANDOM_STATE = 100\n",
    "train, valid_and_test = train_test_split(df_target, test_size=0.2, shuffle=True, random_state=RANDOM_STATE, stratify=df_target['CATEGORY'])\n",
    "valid, test = train_test_split(valid_and_test, test_size=0.5, shuffle=True, random_state=RANDOM_STATE, stratify=valid_and_test['CATEGORY'])\n",
    "print('train : valid : test = ',len(train), len(valid), len(test))\n",
    "train.to_csv('./train.csv', sep='\\t', index=False)\n",
    "valid.to_csv('./valid.csv', sep='\\t', index=False)\n",
    "test.to_csv('./test.csv', sep='\\t', index=False)"
   ]
  },
  {
   "cell_type": "code",
   "execution_count": 97,
   "id": "3095be63-9916-412e-bb9a-ab6e0155f773",
   "metadata": {},
   "outputs": [],
   "source": [
    "!mkdir csv\n",
    "!mv *.csv csv"
   ]
  },
  {
   "cell_type": "code",
   "execution_count": 98,
   "id": "abc40516-9a6a-41a1-a970-d67edbd83028",
   "metadata": {},
   "outputs": [
    {
     "name": "stdout",
     "output_type": "stream",
     "text": [
      "train data\n",
      "b    4502\n",
      "e    4223\n",
      "t    1219\n",
      "m     728\n",
      "Name: CATEGORY, dtype: int64\n",
      "valid data\n",
      "b    562\n",
      "e    528\n",
      "t    153\n",
      "m     91\n",
      "Name: CATEGORY, dtype: int64\n",
      "test data\n",
      "b    563\n",
      "e    528\n",
      "t    152\n",
      "m     91\n",
      "Name: CATEGORY, dtype: int64\n"
     ]
    }
   ],
   "source": [
    "print('train data')\n",
    "print(train['CATEGORY'].value_counts())\n",
    "print('valid data')\n",
    "print(valid['CATEGORY'].value_counts())\n",
    "print('test data')\n",
    "print(test['CATEGORY'].value_counts())"
   ]
  },
  {
   "cell_type": "markdown",
   "id": "40949685-5bc4-45e2-8b88-e3d519ae0f31",
   "metadata": {},
   "source": [
    "### 51.特徴量抽出  \n",
    "学習データ，検証データ，評価データから特徴量を抽出し，それぞれtrain.feature.txt，valid.feature.txt，test.feature.txtというファイル名で保存せよ． なお，カテゴリ分類に有用そうな特徴量は各自で自由に設計せよ．記事の見出しを単語列に変換したものが最低限のベースラインとなるであろう．"
   ]
  },
  {
   "cell_type": "markdown",
   "id": "3a2b97eb-aef3-4195-be6b-e4dfef2b159e",
   "metadata": {},
   "source": [
    "前処理の流れ  \n",
    "   \n",
    "1.記号を等長の半角スペースに変換   \n",
    "2.アルファベットの小文字化  \n",
    "3.数字を0に統一  \n",
    "4.単語列に分割  \n",
    "5.stopwordの除去"
   ]
  },
  {
   "cell_type": "code",
   "execution_count": 99,
   "id": "8a35f4e0-a5d7-4d99-ae3a-6d9b8a38f95b",
   "metadata": {},
   "outputs": [
    {
     "name": "stderr",
     "output_type": "stream",
     "text": [
      "[nltk_data] Downloading package stopwords to\n",
      "[nltk_data]     /Users/kskkrt/nltk_data...\n",
      "[nltk_data]   Package stopwords is already up-to-date!\n",
      "[nltk_data] Downloading package punkt to /Users/kskkrt/nltk_data...\n",
      "[nltk_data]   Package punkt is already up-to-date!\n"
     ]
    }
   ],
   "source": [
    "import nltk\n",
    "nltk.download('stopwords')\n",
    "nltk.download('punkt')\n",
    "from nltk.corpus import stopwords\n",
    "from nltk.tokenize import word_tokenize\n",
    "\n",
    "sw = stopwords.words('english')"
   ]
  },
  {
   "cell_type": "code",
   "execution_count": 100,
   "id": "69a1ef65-3194-42fd-9ebf-a4f7433c2839",
   "metadata": {},
   "outputs": [],
   "source": [
    "import re\n",
    "import string\n",
    "\n",
    "def preprocessing(text):\n",
    "    table = str.maketrans(string.punctuation, ' '*len(string.punctuation)) #記号を等長の半角スペースで変換する変換表の作成\n",
    "    text = text.translate(table)\n",
    "    text = text.lower()\n",
    "    text = re.sub('[0-9]+', '0', text)\n",
    "    word_list = word_tokenize(text)\n",
    "    for word in word_list:\n",
    "        if word in sw:\n",
    "            word_list.remove(word)\n",
    "    return ' '.join(word_list)"
   ]
  },
  {
   "cell_type": "code",
   "execution_count": 101,
   "id": "4c10e487-dba8-441f-baf4-abf96f523932",
   "metadata": {},
   "outputs": [
    {
     "data": {
      "text/html": [
       "<div>\n",
       "<style scoped>\n",
       "    .dataframe tbody tr th:only-of-type {\n",
       "        vertical-align: middle;\n",
       "    }\n",
       "\n",
       "    .dataframe tbody tr th {\n",
       "        vertical-align: top;\n",
       "    }\n",
       "\n",
       "    .dataframe thead th {\n",
       "        text-align: right;\n",
       "    }\n",
       "</style>\n",
       "<table border=\"1\" class=\"dataframe\">\n",
       "  <thead>\n",
       "    <tr style=\"text-align: right;\">\n",
       "      <th></th>\n",
       "      <th>TITLE</th>\n",
       "      <th>PUBLISHER</th>\n",
       "      <th>CATEGORY</th>\n",
       "    </tr>\n",
       "  </thead>\n",
       "  <tbody>\n",
       "    <tr>\n",
       "      <th>36476</th>\n",
       "      <td>L'wren Scott - L'Wren Scott's housekeeper reve...</td>\n",
       "      <td>Contactmusic.com</td>\n",
       "      <td>e</td>\n",
       "    </tr>\n",
       "    <tr>\n",
       "      <th>244832</th>\n",
       "      <td>Australia Set to Fund Second Clean-Energy Proj...</td>\n",
       "      <td>Businessweek</td>\n",
       "      <td>b</td>\n",
       "    </tr>\n",
       "    <tr>\n",
       "      <th>22214</th>\n",
       "      <td>Google Brings Android to Smartwatches in Mobil...</td>\n",
       "      <td>Businessweek</td>\n",
       "      <td>t</td>\n",
       "    </tr>\n",
       "    <tr>\n",
       "      <th>11237</th>\n",
       "      <td>Tina Fey - Tina Fey Dispels Mean Girls Sequel ...</td>\n",
       "      <td>Contactmusic.com</td>\n",
       "      <td>e</td>\n",
       "    </tr>\n",
       "    <tr>\n",
       "      <th>420133</th>\n",
       "      <td>Rick Rubin - Rick Rubin Takes An Ice Bath For ...</td>\n",
       "      <td>Contactmusic.com</td>\n",
       "      <td>e</td>\n",
       "    </tr>\n",
       "  </tbody>\n",
       "</table>\n",
       "</div>"
      ],
      "text/plain": [
       "                                                    TITLE         PUBLISHER  \\\n",
       "36476   L'wren Scott - L'Wren Scott's housekeeper reve...  Contactmusic.com   \n",
       "244832  Australia Set to Fund Second Clean-Energy Proj...      Businessweek   \n",
       "22214   Google Brings Android to Smartwatches in Mobil...      Businessweek   \n",
       "11237   Tina Fey - Tina Fey Dispels Mean Girls Sequel ...  Contactmusic.com   \n",
       "420133  Rick Rubin - Rick Rubin Takes An Ice Bath For ...  Contactmusic.com   \n",
       "\n",
       "       CATEGORY  \n",
       "36476         e  \n",
       "244832        b  \n",
       "22214         t  \n",
       "11237         e  \n",
       "420133        e  "
      ]
     },
     "execution_count": 101,
     "metadata": {},
     "output_type": "execute_result"
    }
   ],
   "source": [
    "df = pd.concat([train, valid, test], axis=0)\n",
    "df.head()"
   ]
  },
  {
   "cell_type": "code",
   "execution_count": 102,
   "id": "68b9858d-3551-451e-93e0-fc007f33e78a",
   "metadata": {},
   "outputs": [
    {
     "data": {
      "text/html": [
       "<div>\n",
       "<style scoped>\n",
       "    .dataframe tbody tr th:only-of-type {\n",
       "        vertical-align: middle;\n",
       "    }\n",
       "\n",
       "    .dataframe tbody tr th {\n",
       "        vertical-align: top;\n",
       "    }\n",
       "\n",
       "    .dataframe thead th {\n",
       "        text-align: right;\n",
       "    }\n",
       "</style>\n",
       "<table border=\"1\" class=\"dataframe\">\n",
       "  <thead>\n",
       "    <tr style=\"text-align: right;\">\n",
       "      <th></th>\n",
       "      <th>TITLE</th>\n",
       "      <th>PUBLISHER</th>\n",
       "      <th>CATEGORY</th>\n",
       "      <th>title_words</th>\n",
       "    </tr>\n",
       "  </thead>\n",
       "  <tbody>\n",
       "    <tr>\n",
       "      <th>0</th>\n",
       "      <td>L'wren Scott - L'Wren Scott's housekeeper reve...</td>\n",
       "      <td>Contactmusic.com</td>\n",
       "      <td>e</td>\n",
       "      <td>l wren scott l wren scott housekeeper reveals ...</td>\n",
       "    </tr>\n",
       "    <tr>\n",
       "      <th>1</th>\n",
       "      <td>Australia Set to Fund Second Clean-Energy Proj...</td>\n",
       "      <td>Businessweek</td>\n",
       "      <td>b</td>\n",
       "      <td>australia set fund second clean energy project...</td>\n",
       "    </tr>\n",
       "    <tr>\n",
       "      <th>2</th>\n",
       "      <td>Google Brings Android to Smartwatches in Mobil...</td>\n",
       "      <td>Businessweek</td>\n",
       "      <td>t</td>\n",
       "      <td>google brings android smartwatches mobile push</td>\n",
       "    </tr>\n",
       "    <tr>\n",
       "      <th>3</th>\n",
       "      <td>Tina Fey - Tina Fey Dispels Mean Girls Sequel ...</td>\n",
       "      <td>Contactmusic.com</td>\n",
       "      <td>e</td>\n",
       "      <td>tina fey tina fey dispels mean girls sequel ru...</td>\n",
       "    </tr>\n",
       "    <tr>\n",
       "      <th>4</th>\n",
       "      <td>Rick Rubin - Rick Rubin Takes An Ice Bath For ...</td>\n",
       "      <td>Contactmusic.com</td>\n",
       "      <td>e</td>\n",
       "      <td>rick rubin rick rubin takes ice bath als chall...</td>\n",
       "    </tr>\n",
       "  </tbody>\n",
       "</table>\n",
       "</div>"
      ],
      "text/plain": [
       "                                               TITLE         PUBLISHER  \\\n",
       "0  L'wren Scott - L'Wren Scott's housekeeper reve...  Contactmusic.com   \n",
       "1  Australia Set to Fund Second Clean-Energy Proj...      Businessweek   \n",
       "2  Google Brings Android to Smartwatches in Mobil...      Businessweek   \n",
       "3  Tina Fey - Tina Fey Dispels Mean Girls Sequel ...  Contactmusic.com   \n",
       "4  Rick Rubin - Rick Rubin Takes An Ice Bath For ...  Contactmusic.com   \n",
       "\n",
       "  CATEGORY                                        title_words  \n",
       "0        e  l wren scott l wren scott housekeeper reveals ...  \n",
       "1        b  australia set fund second clean energy project...  \n",
       "2        t     google brings android smartwatches mobile push  \n",
       "3        e  tina fey tina fey dispels mean girls sequel ru...  \n",
       "4        e  rick rubin rick rubin takes ice bath als chall...  "
      ]
     },
     "execution_count": 102,
     "metadata": {},
     "output_type": "execute_result"
    }
   ],
   "source": [
    "df.reset_index(drop=True, inplace=True)\n",
    "df['title_words'] = df['TITLE'].map(lambda x:preprocessing(x))\n",
    "df.head()"
   ]
  },
  {
   "cell_type": "markdown",
   "id": "5f073e5b-a0a3-4564-9a14-e830954ac595",
   "metadata": {},
   "source": [
    "ベクトル化の手順  \n",
    "1.title_wordsからtf-idfに基づいて，ベクトル化  \n",
    "2.publisherのダミー変数を末尾に追加"
   ]
  },
  {
   "cell_type": "code",
   "execution_count": 112,
   "id": "54cd2418-bfda-4327-a4d4-177f48305e41",
   "metadata": {},
   "outputs": [
    {
     "name": "stdout",
     "output_type": "stream",
     "text": [
      "(10672, 1571)\n"
     ]
    }
   ],
   "source": [
    "from sklearn.feature_extraction.text import TfidfVectorizer\n",
    "\n",
    "train_valid = df[:len(train)+len(valid)].copy()\n",
    "test = df[len(train)+len(valid):].copy()\n",
    "\n",
    "#uni-gram, bi-gramでベクトル化.min_dfで1以上の整数を指定すると登場文書の下限を設定できる．超えないと除去\n",
    "tf_idf_vectorizer = TfidfVectorizer(min_df=15, ngram_range=(1, 2))\n",
    "\n",
    "X_train_valid = tf_idf_vectorizer.fit_transform(train_valid['title_words'])\n",
    "X_test = tf_idf_vectorizer.transform(test['title_words'])\n",
    "\n",
    "X_train_valid = pd.DataFrame(X_train_valid.toarray(), columns=tf_idf_vectorizer.get_feature_names_out())\n",
    "X_test = pd.DataFrame(X_test.toarray(), columns=tf_idf_vectorizer.get_feature_names_out())\n",
    "\n",
    "#末尾にpublisherの追加\n",
    "pub_train_valid = pd.get_dummies(df['PUBLISHER'][:len(X_train_valid)])\n",
    "test_pub_df = df['PUBLISHER'][len(X_train_valid):]\n",
    "test_pub_df.reset_index(drop=True, inplace=True)\n",
    "pub_test = pd.get_dummies(test_pub_df)\n",
    "del pub_train_valid['Businessweek'] #多重共線性の考慮\n",
    "del pub_test['Businessweek']\n",
    "X_train_valid = pd.concat([X_train_valid, pub_train_valid], axis=1)\n",
    "X_test = pd.concat([X_test, pub_test], axis=1)\n",
    "\n",
    "X_train = X_train_valid[:len(train)]\n",
    "X_valid = X_train_valid[len(train):]\n",
    "\n",
    "X_train.to_csv('./features_csv/X_train.csv', sep='\\t', index=False)\n",
    "X_valid.to_csv('./features_csv/X_valid.csv', sep='\\t', index=False)\n",
    "X_test.to_csv('./features_csv/X_test.csv', sep='\\t', index=False)\n",
    "\n",
    "print(X_train.shape)"
   ]
  },
  {
   "cell_type": "code",
   "execution_count": 119,
   "id": "780f7291-bcd6-411f-a853-12c85f0a838b",
   "metadata": {},
   "outputs": [
    {
     "data": {
      "text/html": [
       "<div>\n",
       "<style scoped>\n",
       "    .dataframe tbody tr th:only-of-type {\n",
       "        vertical-align: middle;\n",
       "    }\n",
       "\n",
       "    .dataframe tbody tr th {\n",
       "        vertical-align: top;\n",
       "    }\n",
       "\n",
       "    .dataframe thead th {\n",
       "        text-align: right;\n",
       "    }\n",
       "</style>\n",
       "<table border=\"1\" class=\"dataframe\">\n",
       "  <thead>\n",
       "    <tr style=\"text-align: right;\">\n",
       "      <th></th>\n",
       "      <th>young</th>\n",
       "      <th>your</th>\n",
       "      <th>yr</th>\n",
       "      <th>yuan</th>\n",
       "      <th>zac</th>\n",
       "      <th>zac efron</th>\n",
       "      <th>zone</th>\n",
       "      <th>Contactmusic.com</th>\n",
       "      <th>Daily Mail</th>\n",
       "      <th>Huffington Post</th>\n",
       "      <th>Reuters</th>\n",
       "    </tr>\n",
       "  </thead>\n",
       "  <tbody>\n",
       "    <tr>\n",
       "      <th>0</th>\n",
       "      <td>0.0</td>\n",
       "      <td>0.0</td>\n",
       "      <td>0.0</td>\n",
       "      <td>0.0</td>\n",
       "      <td>0.0</td>\n",
       "      <td>0.0</td>\n",
       "      <td>0.0</td>\n",
       "      <td>1</td>\n",
       "      <td>0</td>\n",
       "      <td>0</td>\n",
       "      <td>0</td>\n",
       "    </tr>\n",
       "    <tr>\n",
       "      <th>1</th>\n",
       "      <td>0.0</td>\n",
       "      <td>0.0</td>\n",
       "      <td>0.0</td>\n",
       "      <td>0.0</td>\n",
       "      <td>0.0</td>\n",
       "      <td>0.0</td>\n",
       "      <td>0.0</td>\n",
       "      <td>0</td>\n",
       "      <td>0</td>\n",
       "      <td>0</td>\n",
       "      <td>0</td>\n",
       "    </tr>\n",
       "    <tr>\n",
       "      <th>2</th>\n",
       "      <td>0.0</td>\n",
       "      <td>0.0</td>\n",
       "      <td>0.0</td>\n",
       "      <td>0.0</td>\n",
       "      <td>0.0</td>\n",
       "      <td>0.0</td>\n",
       "      <td>0.0</td>\n",
       "      <td>0</td>\n",
       "      <td>0</td>\n",
       "      <td>0</td>\n",
       "      <td>0</td>\n",
       "    </tr>\n",
       "    <tr>\n",
       "      <th>3</th>\n",
       "      <td>0.0</td>\n",
       "      <td>0.0</td>\n",
       "      <td>0.0</td>\n",
       "      <td>0.0</td>\n",
       "      <td>0.0</td>\n",
       "      <td>0.0</td>\n",
       "      <td>0.0</td>\n",
       "      <td>1</td>\n",
       "      <td>0</td>\n",
       "      <td>0</td>\n",
       "      <td>0</td>\n",
       "    </tr>\n",
       "    <tr>\n",
       "      <th>4</th>\n",
       "      <td>0.0</td>\n",
       "      <td>0.0</td>\n",
       "      <td>0.0</td>\n",
       "      <td>0.0</td>\n",
       "      <td>0.0</td>\n",
       "      <td>0.0</td>\n",
       "      <td>0.0</td>\n",
       "      <td>1</td>\n",
       "      <td>0</td>\n",
       "      <td>0</td>\n",
       "      <td>0</td>\n",
       "    </tr>\n",
       "  </tbody>\n",
       "</table>\n",
       "</div>"
      ],
      "text/plain": [
       "   young  your   yr  yuan  zac  zac efron  zone  Contactmusic.com  Daily Mail  \\\n",
       "0    0.0   0.0  0.0   0.0  0.0        0.0   0.0                 1           0   \n",
       "1    0.0   0.0  0.0   0.0  0.0        0.0   0.0                 0           0   \n",
       "2    0.0   0.0  0.0   0.0  0.0        0.0   0.0                 0           0   \n",
       "3    0.0   0.0  0.0   0.0  0.0        0.0   0.0                 1           0   \n",
       "4    0.0   0.0  0.0   0.0  0.0        0.0   0.0                 1           0   \n",
       "\n",
       "   Huffington Post  Reuters  \n",
       "0                0        0  \n",
       "1                0        0  \n",
       "2                0        0  \n",
       "3                0        0  \n",
       "4                0        0  "
      ]
     },
     "execution_count": 119,
     "metadata": {},
     "output_type": "execute_result"
    }
   ],
   "source": [
    "X_train.iloc[:5, 1560:]"
   ]
  },
  {
   "cell_type": "code",
   "execution_count": 120,
   "id": "5dd5f270-1c43-4609-80a7-2bdc9951a9ed",
   "metadata": {},
   "outputs": [
    {
     "data": {
      "text/html": [
       "<div>\n",
       "<style scoped>\n",
       "    .dataframe tbody tr th:only-of-type {\n",
       "        vertical-align: middle;\n",
       "    }\n",
       "\n",
       "    .dataframe tbody tr th {\n",
       "        vertical-align: top;\n",
       "    }\n",
       "\n",
       "    .dataframe thead th {\n",
       "        text-align: right;\n",
       "    }\n",
       "</style>\n",
       "<table border=\"1\" class=\"dataframe\">\n",
       "  <thead>\n",
       "    <tr style=\"text-align: right;\">\n",
       "      <th></th>\n",
       "      <th>TITLE</th>\n",
       "      <th>PUBLISHER</th>\n",
       "      <th>CATEGORY</th>\n",
       "    </tr>\n",
       "  </thead>\n",
       "  <tbody>\n",
       "    <tr>\n",
       "      <th>36476</th>\n",
       "      <td>L'wren Scott - L'Wren Scott's housekeeper reve...</td>\n",
       "      <td>Contactmusic.com</td>\n",
       "      <td>e</td>\n",
       "    </tr>\n",
       "    <tr>\n",
       "      <th>244832</th>\n",
       "      <td>Australia Set to Fund Second Clean-Energy Proj...</td>\n",
       "      <td>Businessweek</td>\n",
       "      <td>b</td>\n",
       "    </tr>\n",
       "    <tr>\n",
       "      <th>22214</th>\n",
       "      <td>Google Brings Android to Smartwatches in Mobil...</td>\n",
       "      <td>Businessweek</td>\n",
       "      <td>t</td>\n",
       "    </tr>\n",
       "    <tr>\n",
       "      <th>11237</th>\n",
       "      <td>Tina Fey - Tina Fey Dispels Mean Girls Sequel ...</td>\n",
       "      <td>Contactmusic.com</td>\n",
       "      <td>e</td>\n",
       "    </tr>\n",
       "    <tr>\n",
       "      <th>420133</th>\n",
       "      <td>Rick Rubin - Rick Rubin Takes An Ice Bath For ...</td>\n",
       "      <td>Contactmusic.com</td>\n",
       "      <td>e</td>\n",
       "    </tr>\n",
       "  </tbody>\n",
       "</table>\n",
       "</div>"
      ],
      "text/plain": [
       "                                                    TITLE         PUBLISHER  \\\n",
       "36476   L'wren Scott - L'Wren Scott's housekeeper reve...  Contactmusic.com   \n",
       "244832  Australia Set to Fund Second Clean-Energy Proj...      Businessweek   \n",
       "22214   Google Brings Android to Smartwatches in Mobil...      Businessweek   \n",
       "11237   Tina Fey - Tina Fey Dispels Mean Girls Sequel ...  Contactmusic.com   \n",
       "420133  Rick Rubin - Rick Rubin Takes An Ice Bath For ...  Contactmusic.com   \n",
       "\n",
       "       CATEGORY  \n",
       "36476         e  \n",
       "244832        b  \n",
       "22214         t  \n",
       "11237         e  \n",
       "420133        e  "
      ]
     },
     "execution_count": 120,
     "metadata": {},
     "output_type": "execute_result"
    }
   ],
   "source": [
    "train.head()"
   ]
  },
  {
   "cell_type": "markdown",
   "id": "1aa9e849-420b-4bae-996b-3fd17a5f9670",
   "metadata": {},
   "source": [
    "### 52．学習  \n",
    "51で構築した学習データを用いて，ロジスティック回帰モデルを学習せよ．"
   ]
  },
  {
   "cell_type": "code",
   "execution_count": 121,
   "id": "27b41ee9-9247-43b6-9a4d-3e2951216a72",
   "metadata": {},
   "outputs": [
    {
     "data": {
      "text/html": [
       "<style>#sk-container-id-1 {color: black;background-color: white;}#sk-container-id-1 pre{padding: 0;}#sk-container-id-1 div.sk-toggleable {background-color: white;}#sk-container-id-1 label.sk-toggleable__label {cursor: pointer;display: block;width: 100%;margin-bottom: 0;padding: 0.3em;box-sizing: border-box;text-align: center;}#sk-container-id-1 label.sk-toggleable__label-arrow:before {content: \"▸\";float: left;margin-right: 0.25em;color: #696969;}#sk-container-id-1 label.sk-toggleable__label-arrow:hover:before {color: black;}#sk-container-id-1 div.sk-estimator:hover label.sk-toggleable__label-arrow:before {color: black;}#sk-container-id-1 div.sk-toggleable__content {max-height: 0;max-width: 0;overflow: hidden;text-align: left;background-color: #f0f8ff;}#sk-container-id-1 div.sk-toggleable__content pre {margin: 0.2em;color: black;border-radius: 0.25em;background-color: #f0f8ff;}#sk-container-id-1 input.sk-toggleable__control:checked~div.sk-toggleable__content {max-height: 200px;max-width: 100%;overflow: auto;}#sk-container-id-1 input.sk-toggleable__control:checked~label.sk-toggleable__label-arrow:before {content: \"▾\";}#sk-container-id-1 div.sk-estimator input.sk-toggleable__control:checked~label.sk-toggleable__label {background-color: #d4ebff;}#sk-container-id-1 div.sk-label input.sk-toggleable__control:checked~label.sk-toggleable__label {background-color: #d4ebff;}#sk-container-id-1 input.sk-hidden--visually {border: 0;clip: rect(1px 1px 1px 1px);clip: rect(1px, 1px, 1px, 1px);height: 1px;margin: -1px;overflow: hidden;padding: 0;position: absolute;width: 1px;}#sk-container-id-1 div.sk-estimator {font-family: monospace;background-color: #f0f8ff;border: 1px dotted black;border-radius: 0.25em;box-sizing: border-box;margin-bottom: 0.5em;}#sk-container-id-1 div.sk-estimator:hover {background-color: #d4ebff;}#sk-container-id-1 div.sk-parallel-item::after {content: \"\";width: 100%;border-bottom: 1px solid gray;flex-grow: 1;}#sk-container-id-1 div.sk-label:hover label.sk-toggleable__label {background-color: #d4ebff;}#sk-container-id-1 div.sk-serial::before {content: \"\";position: absolute;border-left: 1px solid gray;box-sizing: border-box;top: 0;bottom: 0;left: 50%;z-index: 0;}#sk-container-id-1 div.sk-serial {display: flex;flex-direction: column;align-items: center;background-color: white;padding-right: 0.2em;padding-left: 0.2em;position: relative;}#sk-container-id-1 div.sk-item {position: relative;z-index: 1;}#sk-container-id-1 div.sk-parallel {display: flex;align-items: stretch;justify-content: center;background-color: white;position: relative;}#sk-container-id-1 div.sk-item::before, #sk-container-id-1 div.sk-parallel-item::before {content: \"\";position: absolute;border-left: 1px solid gray;box-sizing: border-box;top: 0;bottom: 0;left: 50%;z-index: -1;}#sk-container-id-1 div.sk-parallel-item {display: flex;flex-direction: column;z-index: 1;position: relative;background-color: white;}#sk-container-id-1 div.sk-parallel-item:first-child::after {align-self: flex-end;width: 50%;}#sk-container-id-1 div.sk-parallel-item:last-child::after {align-self: flex-start;width: 50%;}#sk-container-id-1 div.sk-parallel-item:only-child::after {width: 0;}#sk-container-id-1 div.sk-dashed-wrapped {border: 1px dashed gray;margin: 0 0.4em 0.5em 0.4em;box-sizing: border-box;padding-bottom: 0.4em;background-color: white;}#sk-container-id-1 div.sk-label label {font-family: monospace;font-weight: bold;display: inline-block;line-height: 1.2em;}#sk-container-id-1 div.sk-label-container {text-align: center;}#sk-container-id-1 div.sk-container {/* jupyter's `normalize.less` sets `[hidden] { display: none; }` but bootstrap.min.css set `[hidden] { display: none !important; }` so we also need the `!important` here to be able to override the default hidden behavior on the sphinx rendered scikit-learn.org. See: https://github.com/scikit-learn/scikit-learn/issues/21755 */display: inline-block !important;position: relative;}#sk-container-id-1 div.sk-text-repr-fallback {display: none;}</style><div id=\"sk-container-id-1\" class=\"sk-top-container\"><div class=\"sk-text-repr-fallback\"><pre>LogisticRegression(max_iter=10000, random_state=100)</pre><b>In a Jupyter environment, please rerun this cell to show the HTML representation or trust the notebook. <br />On GitHub, the HTML representation is unable to render, please try loading this page with nbviewer.org.</b></div><div class=\"sk-container\" hidden><div class=\"sk-item\"><div class=\"sk-estimator sk-toggleable\"><input class=\"sk-toggleable__control sk-hidden--visually\" id=\"sk-estimator-id-1\" type=\"checkbox\" checked><label for=\"sk-estimator-id-1\" class=\"sk-toggleable__label sk-toggleable__label-arrow\">LogisticRegression</label><div class=\"sk-toggleable__content\"><pre>LogisticRegression(max_iter=10000, random_state=100)</pre></div></div></div></div></div>"
      ],
      "text/plain": [
       "LogisticRegression(max_iter=10000, random_state=100)"
      ]
     },
     "execution_count": 121,
     "metadata": {},
     "output_type": "execute_result"
    }
   ],
   "source": [
    "from sklearn.linear_model import LogisticRegression\n",
    "\n",
    "#モデルの定義と学習\n",
    "lgr = LogisticRegression(random_state=RANDOM_STATE, max_iter=10000)\n",
    "lgr.fit(X_train, train['CATEGORY'])"
   ]
  },
  {
   "cell_type": "markdown",
   "id": "7f8271ea-95e2-4763-8fd0-b01708f6b469",
   "metadata": {},
   "source": [
    "### 53.予測  \n",
    "52で学習したロジスティック回帰モデルを用い，与えられた記事見出しからカテゴリとその予測確率を計算するプログラムを実装せよ．"
   ]
  },
  {
   "cell_type": "code",
   "execution_count": 128,
   "id": "5497eff6-e0c1-4559-aef8-f9fffe665115",
   "metadata": {},
   "outputs": [],
   "source": [
    "#predictで予測カテゴリを得，　predict_probaの最大値を得て予測確率を計算する．\n",
    "import numpy as np\n",
    "\n",
    "def get_category_prob(model, input_data):\n",
    "    prob_list = np.max(model.predict_proba(input_data), axis=1)\n",
    "    category = model.predict(input_data)\n",
    "    return list(zip(category, prob_list))"
   ]
  },
  {
   "cell_type": "code",
   "execution_count": 131,
   "id": "0430165c-5524-4f18-a75f-a9d3bd3e9604",
   "metadata": {},
   "outputs": [
    {
     "name": "stdout",
     "output_type": "stream",
     "text": [
      "[('e', 0.9902951577370115), ('b', 0.915803746603934), ('t', 0.7501301337669654), ('e', 0.9909949653594269), ('e', 0.9843662337265378), ('e', 0.9974895735111639), ('t', 0.45845365049624476), ('m', 0.9027914431944027), ('b', 0.7853021140862857), ('e', 0.47724431286309427)]\n",
      "[('e', 0.9933453667429517), ('b', 0.5004147540738448), ('e', 0.9263275710984195), ('e', 0.4710352942767853), ('b', 0.9875671941279012), ('t', 0.5856034672941302), ('t', 0.7078617411422421), ('b', 0.9391582662135162), ('e', 0.6322531501462572), ('b', 0.7731756956325536)]\n"
     ]
    }
   ],
   "source": [
    "print(get_category_prob(lgr, X_train)[:10])\n",
    "print(get_category_prob(lgr, X_test)[:10])"
   ]
  },
  {
   "cell_type": "markdown",
   "id": "331e63d7-9b2a-4029-ac7d-3665ead0a500",
   "metadata": {},
   "source": [
    "### 54.正解率の計測  \n",
    "52で学習したロジスティック回帰モデルの正解率を，学習データおよび評価データ上で計測せよ"
   ]
  },
  {
   "cell_type": "code",
   "execution_count": 133,
   "id": "23c8dbeb-6b96-4b9a-83ae-22835e781d4d",
   "metadata": {},
   "outputs": [
    {
     "name": "stdout",
     "output_type": "stream",
     "text": [
      "train_accuracy:  0.9101386806596702\n",
      "test_accuracy:  0.876311844077961\n"
     ]
    }
   ],
   "source": [
    "from sklearn.metrics import accuracy_score\n",
    "\n",
    "print('train_accuracy: ', accuracy_score(lgr.predict(X_train), train['CATEGORY']))\n",
    "print('test_accuracy: ', accuracy_score(lgr.predict(X_test), test['CATEGORY']))"
   ]
  },
  {
   "cell_type": "markdown",
   "id": "45d6742d-e176-4c7f-adf9-a66c34787658",
   "metadata": {},
   "source": [
    "### 55.混同行列の作成  \n",
    "52で学習したロジスティック回帰モデルの混同行列（confusion matrix）を，学習データおよび評価データ上で作成せよ．"
   ]
  },
  {
   "cell_type": "code",
   "execution_count": 141,
   "id": "717b9aae-93a5-46e4-a66a-1240f7ed314a",
   "metadata": {},
   "outputs": [
    {
     "name": "stdout",
     "output_type": "stream",
     "text": [
      "[[4294  112   15   81]\n",
      " [  92 4110    6   15]\n",
      " [  95  138  483   12]\n",
      " [ 237  144   12  826]]\n"
     ]
    },
    {
     "data": {
      "image/png": "[encoded data removed]",
      "text/plain": [
       "<Figure size 640x480 with 2 Axes>"
      ]
     },
     "metadata": {},
     "output_type": "display_data"
    },
    {
     "name": "stdout",
     "output_type": "stream",
     "text": [
      "[[529  21   2  11]\n",
      " [ 14 510   1   3]\n",
      " [ 25  20  41   5]\n",
      " [ 38  22   3  89]]\n"
     ]
    },
    {
     "data": {
      "image/png": "[encoded data removed]",
      "text/plain": [
       "<Figure size 640x480 with 2 Axes>"
      ]
     },
     "metadata": {},
     "output_type": "display_data"
    }
   ],
   "source": [
    "from sklearn.metrics import confusion_matrix\n",
    "\n",
    "train_cm_mat = confusion_matrix(train['CATEGORY'], lgr.predict(X_train))\n",
    "test_cm_mat = confusion_matrix(test['CATEGORY'], lgr.predict(X_test))\n",
    "categories = ['b', 'e', 't', 'm']\n",
    "\n",
    "for mat in [train_cm_mat, test_cm_mat]:\n",
    "    print(mat)\n",
    "    sns.heatmap(mat, annot=True, cmap='GnBu', xticklabels=categories, yticklabels=categories)\n",
    "    plt.show()"
   ]
  },
  {
   "cell_type": "markdown",
   "id": "0ab06f92-d1c8-488e-9d19-94c8f8a7c289",
   "metadata": {},
   "source": [
    "### 56.適合率,再現率,F１スコアの計測  \n",
    "52で学習したロジスティック回帰モデルの適合率，再現率，F1スコアを，評価データ上で計測せよ．カテゴリごとに適合率，再現率，F1スコアを求め，カテゴリごとの性能をマイクロ平均（micro-average）とマクロ平均（macro-average）で統合せよ．"
   ]
  },
  {
   "cell_type": "code",
   "execution_count": 186,
   "id": "e889a362-2ca9-48f0-a571-0bf53ac016db",
   "metadata": {},
   "outputs": [],
   "source": [
    "from sklearn.metrics import precision_score, recall_score, f1_score\n",
    "\n",
    "def get_scores(y_true, y_pred, labels=['b', 'e', 't', 'm']):\n",
    "    \"\"\"\n",
    "    各スコアのaverageパラメータでmicro,macroを指定可能．\n",
    "    defaultはbinary.Noneを指定すると，各クラスのスコアが返される．\n",
    "    None時, labelsでクラス名を指定できる．\n",
    "    \"\"\"\n",
    "    \n",
    "    precision = precision_score(y_true, y_pred, average=None, labels=labels)\n",
    "    precision_mi = precision_score(y_true, y_pred, average='micro')\n",
    "    precision_ma = precision_score(y_true, y_pred, average='macro')\n",
    "    \n",
    "    recall = recall_score(y_true, y_pred, average=None, labels=labels)\n",
    "    recall_mi = recall_score(y_true, y_pred, average='micro')\n",
    "    recall_ma = recall_score(y_true, y_pred, average='macro')\n",
    "    \n",
    "    f1 = f1_score(y_true, y_pred, average=None, labels=labels)\n",
    "    f1_mi = f1_score(y_true, y_pred, average='micro')\n",
    "    f1_ma = f1_score(y_true, y_pred, average='macro')\n",
    "\n",
    "    scores = pd.DataFrame({'適合率':[*precision, precision_mi, precision_ma],\\\n",
    "                           '再現率':[*recall, recall_mi, recall_ma],\\\n",
    "                           'F1値':[*f1, f1_mi, f1_ma]},\\\n",
    "                           index=['b', 'e', 't', 'm','micro','macro'])\n",
    "    \n",
    "    return scores"
   ]
  },
  {
   "cell_type": "code",
   "execution_count": 179,
   "id": "cbd72451-750c-41e1-99ae-1978d6a4f7e2",
   "metadata": {},
   "outputs": [],
   "source": [
    "y_true = test['CATEGORY'].copy()\n",
    "y_pred = lgr.predict(X_test)"
   ]
  },
  {
   "cell_type": "code",
   "execution_count": 191,
   "id": "22d0e577-ef96-481d-8f6e-c97fdccb6d1d",
   "metadata": {},
   "outputs": [
    {
     "data": {
      "text/html": [
       "<div>\n",
       "<style scoped>\n",
       "    .dataframe tbody tr th:only-of-type {\n",
       "        vertical-align: middle;\n",
       "    }\n",
       "\n",
       "    .dataframe tbody tr th {\n",
       "        vertical-align: top;\n",
       "    }\n",
       "\n",
       "    .dataframe thead th {\n",
       "        text-align: right;\n",
       "    }\n",
       "</style>\n",
       "<table border=\"1\" class=\"dataframe\">\n",
       "  <thead>\n",
       "    <tr style=\"text-align: right;\">\n",
       "      <th></th>\n",
       "      <th>適合率</th>\n",
       "      <th>再現率</th>\n",
       "      <th>F1値</th>\n",
       "    </tr>\n",
       "  </thead>\n",
       "  <tbody>\n",
       "    <tr>\n",
       "      <th>b</th>\n",
       "      <td>0.872937</td>\n",
       "      <td>0.939609</td>\n",
       "      <td>0.905047</td>\n",
       "    </tr>\n",
       "    <tr>\n",
       "      <th>e</th>\n",
       "      <td>0.890052</td>\n",
       "      <td>0.965909</td>\n",
       "      <td>0.926431</td>\n",
       "    </tr>\n",
       "    <tr>\n",
       "      <th>t</th>\n",
       "      <td>0.824074</td>\n",
       "      <td>0.585526</td>\n",
       "      <td>0.684615</td>\n",
       "    </tr>\n",
       "    <tr>\n",
       "      <th>m</th>\n",
       "      <td>0.872340</td>\n",
       "      <td>0.450549</td>\n",
       "      <td>0.594203</td>\n",
       "    </tr>\n",
       "    <tr>\n",
       "      <th>micro</th>\n",
       "      <td>0.876312</td>\n",
       "      <td>0.876312</td>\n",
       "      <td>0.876312</td>\n",
       "    </tr>\n",
       "    <tr>\n",
       "      <th>macro</th>\n",
       "      <td>0.864851</td>\n",
       "      <td>0.735399</td>\n",
       "      <td>0.777574</td>\n",
       "    </tr>\n",
       "  </tbody>\n",
       "</table>\n",
       "</div>"
      ],
      "text/plain": [
       "            適合率       再現率       F1値\n",
       "b      0.872937  0.939609  0.905047\n",
       "e      0.890052  0.965909  0.926431\n",
       "t      0.824074  0.585526  0.684615\n",
       "m      0.872340  0.450549  0.594203\n",
       "micro  0.876312  0.876312  0.876312\n",
       "macro  0.864851  0.735399  0.777574"
      ]
     },
     "execution_count": 191,
     "metadata": {},
     "output_type": "execute_result"
    }
   ],
   "source": [
    "get_scores(y_true, y_pred)"
   ]
  },
  {
   "cell_type": "markdown",
   "id": "f712e8e4-3f6c-46fe-8868-0c4b1fcc0475",
   "metadata": {},
   "source": [
    "### 57.特徴量の重みの確認  \n",
    "52で学習したロジスティック回帰モデルの中で，重みの高い特徴量トップ10と，重みの低い特徴量トップ10を確認せよ．"
   ]
  },
  {
   "cell_type": "markdown",
   "id": "82289c59-6b13-49a5-ac41-0dc7f41119e2",
   "metadata": {},
   "source": [
    "classes_, coef_メソッドでクラス, 偏回帰係数(重み)をそれぞれ得ることができる．"
   ]
  },
  {
   "cell_type": "code",
   "execution_count": 194,
   "id": "12431d71-498f-40f2-bbcb-3942ca07b5eb",
   "metadata": {},
   "outputs": [
    {
     "data": {
      "text/plain": [
       "array([[ 0.47768433, -0.78470482,  0.61657929, ..., -1.75262434,\n",
       "        -1.37615573,  0.12261428],\n",
       "       [ 0.22088651,  0.55377577, -0.28651283, ...,  1.57017608,\n",
       "         1.38076985,  0.14385721],\n",
       "       [-0.22379539,  0.82532999, -0.16367932, ...,  0.47460324,\n",
       "         0.28361228, -0.18377058],\n",
       "       [-0.47477546, -0.59440094, -0.16638714, ..., -0.29215497,\n",
       "        -0.2882264 , -0.08270091]])"
      ]
     },
     "execution_count": 194,
     "metadata": {},
     "output_type": "execute_result"
    }
   ],
   "source": [
    "lgr.coef_"
   ]
  },
  {
   "cell_type": "markdown",
   "id": "a589aab2-e924-4af1-9f6d-9990f88d4cc8",
   "metadata": {},
   "source": [
    "b, e, m, tカテゴリそれぞれを予測する際の重みが順に格納されているのがわかる"
   ]
  },
  {
   "cell_type": "code",
   "execution_count": null,
   "id": "a1406a3a-21f3-4366-9a1a-9f253815c85a",
   "metadata": {},
   "outputs": [
    {
     "name": "stdout",
     "output_type": "stream",
     "text": [
      "CATEGORY-b\n"
     ]
    },
    {
     "data": {
      "text/html": [
       "<div>\n",
       "<style scoped>\n",
       "    .dataframe tbody tr th:only-of-type {\n",
       "        vertical-align: middle;\n",
       "    }\n",
       "\n",
       "    .dataframe tbody tr th {\n",
       "        vertical-align: top;\n",
       "    }\n",
       "\n",
       "    .dataframe thead th {\n",
       "        text-align: right;\n",
       "    }\n",
       "</style>\n",
       "<table border=\"1\" class=\"dataframe\">\n",
       "  <thead>\n",
       "    <tr style=\"text-align: right;\">\n",
       "      <th></th>\n",
       "      <th>top10</th>\n",
       "      <th>worst10</th>\n",
       "    </tr>\n",
       "  </thead>\n",
       "  <tbody>\n",
       "    <tr>\n",
       "      <th>1</th>\n",
       "      <td>bank</td>\n",
       "      <td>Contactmusic.com</td>\n",
       "    </tr>\n",
       "    <tr>\n",
       "      <th>2</th>\n",
       "      <td>obamacare</td>\n",
       "      <td>ebola</td>\n",
       "    </tr>\n",
       "    <tr>\n",
       "      <th>3</th>\n",
       "      <td>ukraine</td>\n",
       "      <td>microsoft</td>\n",
       "    </tr>\n",
       "    <tr>\n",
       "      <th>4</th>\n",
       "      <td>fed</td>\n",
       "      <td>aereo</td>\n",
       "    </tr>\n",
       "    <tr>\n",
       "      <th>5</th>\n",
       "      <td>china</td>\n",
       "      <td>drug</td>\n",
       "    </tr>\n",
       "    <tr>\n",
       "      <th>6</th>\n",
       "      <td>ecb</td>\n",
       "      <td>video</td>\n",
       "    </tr>\n",
       "    <tr>\n",
       "      <th>7</th>\n",
       "      <td>stocks</td>\n",
       "      <td>Daily Mail</td>\n",
       "    </tr>\n",
       "    <tr>\n",
       "      <th>8</th>\n",
       "      <td>oil</td>\n",
       "      <td>apple</td>\n",
       "    </tr>\n",
       "    <tr>\n",
       "      <th>9</th>\n",
       "      <td>mcdonald</td>\n",
       "      <td>facebook</td>\n",
       "    </tr>\n",
       "    <tr>\n",
       "      <th>10</th>\n",
       "      <td>pfizer</td>\n",
       "      <td>dies</td>\n",
       "    </tr>\n",
       "  </tbody>\n",
       "</table>\n",
       "</div>"
      ],
      "text/plain": [
       "        top10           worst10\n",
       "1        bank  Contactmusic.com\n",
       "2   obamacare             ebola\n",
       "3     ukraine         microsoft\n",
       "4         fed             aereo\n",
       "5       china              drug\n",
       "6         ecb             video\n",
       "7      stocks        Daily Mail\n",
       "8         oil             apple\n",
       "9    mcdonald          facebook\n",
       "10     pfizer              dies"
      ]
     },
     "metadata": {},
     "output_type": "display_data"
    },
    {
     "name": "stdout",
     "output_type": "stream",
     "text": [
      "CATEGORY-e\n"
     ]
    },
    {
     "data": {
      "text/html": [
       "<div>\n",
       "<style scoped>\n",
       "    .dataframe tbody tr th:only-of-type {\n",
       "        vertical-align: middle;\n",
       "    }\n",
       "\n",
       "    .dataframe tbody tr th {\n",
       "        vertical-align: top;\n",
       "    }\n",
       "\n",
       "    .dataframe thead th {\n",
       "        text-align: right;\n",
       "    }\n",
       "</style>\n",
       "<table border=\"1\" class=\"dataframe\">\n",
       "  <thead>\n",
       "    <tr style=\"text-align: right;\">\n",
       "      <th></th>\n",
       "      <th>top10</th>\n",
       "      <th>worst10</th>\n",
       "    </tr>\n",
       "  </thead>\n",
       "  <tbody>\n",
       "    <tr>\n",
       "      <th>1</th>\n",
       "      <td>Contactmusic.com</td>\n",
       "      <td>google</td>\n",
       "    </tr>\n",
       "    <tr>\n",
       "      <th>2</th>\n",
       "      <td>film</td>\n",
       "      <td>study</td>\n",
       "    </tr>\n",
       "    <tr>\n",
       "      <th>3</th>\n",
       "      <td>kardashian</td>\n",
       "      <td>scientists</td>\n",
       "    </tr>\n",
       "    <tr>\n",
       "      <th>4</th>\n",
       "      <td>dies</td>\n",
       "      <td>billion</td>\n",
       "    </tr>\n",
       "    <tr>\n",
       "      <th>5</th>\n",
       "      <td>cannes</td>\n",
       "      <td>us</td>\n",
       "    </tr>\n",
       "    <tr>\n",
       "      <th>6</th>\n",
       "      <td>chris</td>\n",
       "      <td>could</td>\n",
       "    </tr>\n",
       "    <tr>\n",
       "      <th>7</th>\n",
       "      <td>hbo</td>\n",
       "      <td>ceo</td>\n",
       "    </tr>\n",
       "    <tr>\n",
       "      <th>8</th>\n",
       "      <td>met</td>\n",
       "      <td>nasa</td>\n",
       "    </tr>\n",
       "    <tr>\n",
       "      <th>9</th>\n",
       "      <td>aereo</td>\n",
       "      <td>china</td>\n",
       "    </tr>\n",
       "    <tr>\n",
       "      <th>10</th>\n",
       "      <td>kim</td>\n",
       "      <td>climate</td>\n",
       "    </tr>\n",
       "  </tbody>\n",
       "</table>\n",
       "</div>"
      ],
      "text/plain": [
       "               top10     worst10\n",
       "1   Contactmusic.com      google\n",
       "2               film       study\n",
       "3         kardashian  scientists\n",
       "4               dies     billion\n",
       "5             cannes          us\n",
       "6              chris       could\n",
       "7                hbo         ceo\n",
       "8                met        nasa\n",
       "9              aereo       china\n",
       "10               kim     climate"
      ]
     },
     "metadata": {},
     "output_type": "display_data"
    },
    {
     "name": "stdout",
     "output_type": "stream",
     "text": [
      "CATEGORY-m\n"
     ]
    },
    {
     "data": {
      "text/html": [
       "<div>\n",
       "<style scoped>\n",
       "    .dataframe tbody tr th:only-of-type {\n",
       "        vertical-align: middle;\n",
       "    }\n",
       "\n",
       "    .dataframe tbody tr th {\n",
       "        vertical-align: top;\n",
       "    }\n",
       "\n",
       "    .dataframe thead th {\n",
       "        text-align: right;\n",
       "    }\n",
       "</style>\n",
       "<table border=\"1\" class=\"dataframe\">\n",
       "  <thead>\n",
       "    <tr style=\"text-align: right;\">\n",
       "      <th></th>\n",
       "      <th>top10</th>\n",
       "      <th>worst10</th>\n",
       "    </tr>\n",
       "  </thead>\n",
       "  <tbody>\n",
       "    <tr>\n",
       "      <th>1</th>\n",
       "      <td>ebola</td>\n",
       "      <td>facebook</td>\n",
       "    </tr>\n",
       "    <tr>\n",
       "      <th>2</th>\n",
       "      <td>cancer</td>\n",
       "      <td>climate</td>\n",
       "    </tr>\n",
       "    <tr>\n",
       "      <th>3</th>\n",
       "      <td>study</td>\n",
       "      <td>bank</td>\n",
       "    </tr>\n",
       "    <tr>\n",
       "      <th>4</th>\n",
       "      <td>fda</td>\n",
       "      <td>gm</td>\n",
       "    </tr>\n",
       "    <tr>\n",
       "      <th>5</th>\n",
       "      <td>drug</td>\n",
       "      <td>amazon</td>\n",
       "    </tr>\n",
       "    <tr>\n",
       "      <th>6</th>\n",
       "      <td>mers</td>\n",
       "      <td>google</td>\n",
       "    </tr>\n",
       "    <tr>\n",
       "      <th>7</th>\n",
       "      <td>cigarettes</td>\n",
       "      <td>apple</td>\n",
       "    </tr>\n",
       "    <tr>\n",
       "      <th>8</th>\n",
       "      <td>cdc</td>\n",
       "      <td>twitter</td>\n",
       "    </tr>\n",
       "    <tr>\n",
       "      <th>9</th>\n",
       "      <td>medical</td>\n",
       "      <td>ceo</td>\n",
       "    </tr>\n",
       "    <tr>\n",
       "      <th>10</th>\n",
       "      <td>cases</td>\n",
       "      <td>jpmorgan</td>\n",
       "    </tr>\n",
       "  </tbody>\n",
       "</table>\n",
       "</div>"
      ],
      "text/plain": [
       "         top10   worst10\n",
       "1        ebola  facebook\n",
       "2       cancer   climate\n",
       "3        study      bank\n",
       "4          fda        gm\n",
       "5         drug    amazon\n",
       "6         mers    google\n",
       "7   cigarettes     apple\n",
       "8          cdc   twitter\n",
       "9      medical       ceo\n",
       "10       cases  jpmorgan"
      ]
     },
     "metadata": {},
     "output_type": "display_data"
    },
    {
     "name": "stdout",
     "output_type": "stream",
     "text": [
      "CATEGORY-t\n"
     ]
    },
    {
     "data": {
      "text/html": [
       "<div>\n",
       "<style scoped>\n",
       "    .dataframe tbody tr th:only-of-type {\n",
       "        vertical-align: middle;\n",
       "    }\n",
       "\n",
       "    .dataframe tbody tr th {\n",
       "        vertical-align: top;\n",
       "    }\n",
       "\n",
       "    .dataframe thead th {\n",
       "        text-align: right;\n",
       "    }\n",
       "</style>\n",
       "<table border=\"1\" class=\"dataframe\">\n",
       "  <thead>\n",
       "    <tr style=\"text-align: right;\">\n",
       "      <th></th>\n",
       "      <th>top10</th>\n",
       "      <th>worst10</th>\n",
       "    </tr>\n",
       "  </thead>\n",
       "  <tbody>\n",
       "    <tr>\n",
       "      <th>1</th>\n",
       "      <td>google</td>\n",
       "      <td>day</td>\n",
       "    </tr>\n",
       "    <tr>\n",
       "      <th>2</th>\n",
       "      <td>facebook</td>\n",
       "      <td>stocks</td>\n",
       "    </tr>\n",
       "    <tr>\n",
       "      <th>3</th>\n",
       "      <td>apple</td>\n",
       "      <td>shares</td>\n",
       "    </tr>\n",
       "    <tr>\n",
       "      <th>4</th>\n",
       "      <td>microsoft</td>\n",
       "      <td>drug</td>\n",
       "    </tr>\n",
       "    <tr>\n",
       "      <th>5</th>\n",
       "      <td>climate</td>\n",
       "      <td>fed</td>\n",
       "    </tr>\n",
       "    <tr>\n",
       "      <th>6</th>\n",
       "      <td>nasa</td>\n",
       "      <td>still</td>\n",
       "    </tr>\n",
       "    <tr>\n",
       "      <th>7</th>\n",
       "      <td>tesla</td>\n",
       "      <td>cancer</td>\n",
       "    </tr>\n",
       "    <tr>\n",
       "      <th>8</th>\n",
       "      <td>heartbleed</td>\n",
       "      <td>percent</td>\n",
       "    </tr>\n",
       "    <tr>\n",
       "      <th>9</th>\n",
       "      <td>gm</td>\n",
       "      <td>ukraine</td>\n",
       "    </tr>\n",
       "    <tr>\n",
       "      <th>10</th>\n",
       "      <td>earth</td>\n",
       "      <td>ecb</td>\n",
       "    </tr>\n",
       "  </tbody>\n",
       "</table>\n",
       "</div>"
      ],
      "text/plain": [
       "         top10  worst10\n",
       "1       google      day\n",
       "2     facebook   stocks\n",
       "3        apple   shares\n",
       "4    microsoft     drug\n",
       "5      climate      fed\n",
       "6         nasa    still\n",
       "7        tesla   cancer\n",
       "8   heartbleed  percent\n",
       "9           gm  ukraine\n",
       "10       earth      ecb"
      ]
     },
     "metadata": {},
     "output_type": "display_data"
    }
   ],
   "source": [
    "features = X_train.columns.to_list()\n",
    "idx = list(range(1, 11))\n",
    "for c, coef in zip(lgr.classes_, lgr.coef_):\n",
    "    print(f'CATEGORY-{c}')\n",
    "    weights = pd.Series(coef,index=features)\n",
    "    top10 = weights.nlargest(10).index\n",
    "    worst10 = weights.nsmallest(10).index\n",
    "    display(pd.DataFrame({'top10': top10, 'worst10': worst10},index=idx))\n",
    "    "
   ]
  },
  {
   "cell_type": "markdown",
   "id": "51a694e0-a4b7-49cc-9b9f-621bd985f7c5",
   "metadata": {},
   "source": [
    "ビジネスではbankやukraineなどの時事的な単語,エンタメではfilmのように娯楽の単語,健康ではeboraやcancerなど疾患や感染症など,科学技術ではgoogleやfacebookをはじめとするBig Techなど直感的にもイメージしやすいものがtopに入っている．"
   ]
  },
  {
   "cell_type": "markdown",
   "id": "470826e3-c49c-4230-aded-f85a1523df1c",
   "metadata": {},
   "source": [
    "### 58.正則化パラメータの変更  \n",
    "ロジスティック回帰モデルを学習するとき，正則化パラメータを調整することで，学習時の過学習（overfitting）の度合いを制御できる．異なる正則化パラメータでロジスティック回帰モデルを学習し，学習データ，検証データ，および評価データ上の正解率を求めよ．実験の結果は，正則化パラメータを横軸，正解率を縦軸としたグラフにまとめよ"
   ]
  },
  {
   "cell_type": "code",
   "execution_count": 213,
   "id": "1ba6b514-5380-4bf3-bb02-838a1764dd6f",
   "metadata": {},
   "outputs": [
    {
     "name": "stderr",
     "output_type": "stream",
     "text": [
      "100%|███████████████████████████████████████████| 10/10 [02:31<00:00, 15.12s/it]\n"
     ]
    }
   ],
   "source": [
    "from tqdm import tqdm\n",
    "\n",
    "result = []\n",
    "#logistic regressionの正則化はdefaultでリッジになっているので，手法は固定し正則の強度の逆数Cのみ変える．\n",
    "for C in tqdm(np.logspace(-5, 4, 10, base=10)): #10の-5から4乗まで10点でサンプル\n",
    "    lgr = LogisticRegression(random_state=RANDOM_STATE, max_iter=10000, C=C)\n",
    "    lgr.fit(X_train, train['CATEGORY'])\n",
    "    \n",
    "    train_acc = accuracy_score(train['CATEGORY'], lgr.predict(X_train))\n",
    "    valid_acc = accuracy_score(valid['CATEGORY'], lgr.predict(X_valid))\n",
    "    test_acc = accuracy_score(test['CATEGORY'], lgr.predict(X_test))\n",
    "    \n",
    "    result.append([C, train_acc, valid_acc, test_acc])"
   ]
  },
  {
   "cell_type": "code",
   "execution_count": 215,
   "id": "2e96a4fc-f016-41c8-9148-687142741c27",
   "metadata": {},
   "outputs": [
    {
     "data": {
      "text/plain": [
       "[]"
      ]
     },
     "execution_count": 215,
     "metadata": {},
     "output_type": "execute_result"
    },
    {
     "data": {
      "image/png": "[encoded data removed]",
      "text/plain": [
       "<Figure size 640x480 with 1 Axes>"
      ]
     },
     "metadata": {},
     "output_type": "display_data"
    }
   ],
   "source": [
    "result = np.array(result).T\n",
    "plt.plot(result[0], result[1], label='Train')\n",
    "plt.plot(result[0], result[2], label='Valid')\n",
    "plt.plot(result[0], result[3], label='Test')\n",
    "plt.xlabel('C')\n",
    "plt.ylabel('Accuracy')\n",
    "plt.xscale('log')\n",
    "plt.legend()\n",
    "plt.plot()"
   ]
  },
  {
   "cell_type": "markdown",
   "id": "37650fe5-db21-4654-9262-9f99d433878d",
   "metadata": {},
   "source": [
    "Cの逆数が正則化の強さを示すので，C=10より大きいと正則化項の効果が薄く過学習を起こしていると見られる．反対に正則化が強すぎる(Cが小さすぎる)と重みが十分に変えられず精度が低くなっている．"
   ]
  },
  {
   "cell_type": "markdown",
   "id": "d075ca4f-c476-411f-872d-6096762d5ca3",
   "metadata": {},
   "source": [
    "### 59.ハイパーパラメータの探索  \n",
    "学習アルゴリズムや学習パラメータを変えながら，カテゴリ分類モデルを学習せよ．検証データ上の正解率が最も高くなる学習アルゴリズム・パラメータを求めよ．また，その学習アルゴリズム・パラメータを用いたときの評価データ上の正解率を求めよ．"
   ]
  },
  {
   "cell_type": "markdown",
   "id": "45ccc0a5-0ac4-4c82-9383-db068d45ee45",
   "metadata": {},
   "source": [
    "まずロジスティック回帰の初期パラメータを取得する"
   ]
  },
  {
   "cell_type": "code",
   "execution_count": 228,
   "id": "ffd949db-4a06-4d4d-958c-99f883ee19cf",
   "metadata": {},
   "outputs": [
    {
     "data": {
      "text/plain": [
       "C                       1.0\n",
       "class_weight           None\n",
       "dual                  False\n",
       "fit_intercept          True\n",
       "intercept_scaling         1\n",
       "l1_ratio               None\n",
       "max_iter                100\n",
       "multi_class            auto\n",
       "n_jobs                 None\n",
       "penalty                  l2\n",
       "random_state           None\n",
       "solver                lbfgs\n",
       "tol                  0.0001\n",
       "verbose                   0\n",
       "warm_start            False\n",
       "dtype: object"
      ]
     },
     "execution_count": 228,
     "metadata": {},
     "output_type": "execute_result"
    }
   ],
   "source": [
    "pd.Series(LogisticRegression().get_params())"
   ]
  },
  {
   "cell_type": "markdown",
   "id": "29d552c1-8682-4b27-8a2c-e96a534f4f1d",
   "metadata": {},
   "source": [
    "その他，ベクトル化の過程でtf-idfの利用ngramの範囲ngram_rangeや，登場文書数の下限min_dfなどの変更も考えられるが，一旦l1_ratioとCのみ変更する．"
   ]
  },
  {
   "cell_type": "markdown",
   "id": "19410ebf-0a2e-4e20-baed-18eb7eab9643",
   "metadata": {},
   "source": [
    "#### グリッドサーチ"
   ]
  },
  {
   "cell_type": "code",
   "execution_count": null,
   "id": "9363316b-e837-408d-9fa9-c6da379591e7",
   "metadata": {},
   "outputs": [],
   "source": []
  },
  {
   "cell_type": "markdown",
   "id": "ff19e7c9-9093-4005-856c-717eba725385",
   "metadata": {},
   "source": [
    "#### Optunaの利用"
   ]
  },
  {
   "cell_type": "code",
   "execution_count": null,
   "id": "83659d48-d517-4946-b3ae-82863e23901f",
   "metadata": {},
   "outputs": [],
   "source": [
    "import optuna\n",
    "\n"
   ]
  }
 ],
 "metadata": {
  "kernelspec": {
   "display_name": "Python 3 (ipykernel)",
   "language": "python",
   "name": "python3"
  },
  "language_info": {
   "codemirror_mode": {
    "name": "ipython",
    "version": 3
   },
   "file_extension": ".py",
   "mimetype": "text/x-python",
   "name": "python",
   "nbconvert_exporter": "python",
   "pygments_lexer": "ipython3",
   "version": "3.10.8"
  }
 },
 "nbformat": 4,
 "nbformat_minor": 5
}
