{
 "cells": [
  {
   "cell_type": "markdown",
   "id": "c12bd914-330d-4ad6-a453-8c2817e63311",
   "metadata": {},
   "source": [
    "# 第９章RNN, CNN"
   ]
  },
  {
   "cell_type": "markdown",
   "id": "b6da7ec6-eb64-4eb4-8a9f-95fb1b49bffd",
   "metadata": {},
   "source": [
    "### 80.ID番号への変換  \n",
    "問題51で構築した学習データ中の単語にユニークなID番号を付与したい．学習データ中で最も頻出する単語に1，2番目に頻出する単語に2，……といった方法で，学習データ中で2回以上出現する単語にID番号を付与せよ．そして，与えられた単語列に対して，ID番号の列を返す関数を実装せよ．ただし，出現頻度が2回未満の単語のID番号はすべて0とせよ．"
   ]
  },
  {
   "cell_type": "code",
   "execution_count": 1,
   "id": "adce6224-4e6c-483e-a5db-5dc377a6afe1",
   "metadata": {
    "tags": []
   },
   "outputs": [
    {
     "data": {
      "text/html": [
       "<div>\n",
       "<style scoped>\n",
       "    .dataframe tbody tr th:only-of-type {\n",
       "        vertical-align: middle;\n",
       "    }\n",
       "\n",
       "    .dataframe tbody tr th {\n",
       "        vertical-align: top;\n",
       "    }\n",
       "\n",
       "    .dataframe thead th {\n",
       "        text-align: right;\n",
       "    }\n",
       "</style>\n",
       "<table border=\"1\" class=\"dataframe\">\n",
       "  <thead>\n",
       "    <tr style=\"text-align: right;\">\n",
       "      <th></th>\n",
       "      <th>TITLE</th>\n",
       "      <th>PUBLISHER</th>\n",
       "      <th>CATEGORY</th>\n",
       "    </tr>\n",
       "  </thead>\n",
       "  <tbody>\n",
       "    <tr>\n",
       "      <th>0</th>\n",
       "      <td>L'wren Scott - L'Wren Scott's housekeeper reve...</td>\n",
       "      <td>Contactmusic.com</td>\n",
       "      <td>e</td>\n",
       "    </tr>\n",
       "    <tr>\n",
       "      <th>1</th>\n",
       "      <td>Australia Set to Fund Second Clean-Energy Proj...</td>\n",
       "      <td>Businessweek</td>\n",
       "      <td>b</td>\n",
       "    </tr>\n",
       "    <tr>\n",
       "      <th>2</th>\n",
       "      <td>Google Brings Android to Smartwatches in Mobil...</td>\n",
       "      <td>Businessweek</td>\n",
       "      <td>t</td>\n",
       "    </tr>\n",
       "    <tr>\n",
       "      <th>3</th>\n",
       "      <td>Tina Fey - Tina Fey Dispels Mean Girls Sequel ...</td>\n",
       "      <td>Contactmusic.com</td>\n",
       "      <td>e</td>\n",
       "    </tr>\n",
       "    <tr>\n",
       "      <th>4</th>\n",
       "      <td>Rick Rubin - Rick Rubin Takes An Ice Bath For ...</td>\n",
       "      <td>Contactmusic.com</td>\n",
       "      <td>e</td>\n",
       "    </tr>\n",
       "  </tbody>\n",
       "</table>\n",
       "</div>"
      ],
      "text/plain": [
       "                                               TITLE         PUBLISHER  \\\n",
       "0  L'wren Scott - L'Wren Scott's housekeeper reve...  Contactmusic.com   \n",
       "1  Australia Set to Fund Second Clean-Energy Proj...      Businessweek   \n",
       "2  Google Brings Android to Smartwatches in Mobil...      Businessweek   \n",
       "3  Tina Fey - Tina Fey Dispels Mean Girls Sequel ...  Contactmusic.com   \n",
       "4  Rick Rubin - Rick Rubin Takes An Ice Bath For ...  Contactmusic.com   \n",
       "\n",
       "  CATEGORY  \n",
       "0        e  \n",
       "1        b  \n",
       "2        t  \n",
       "3        e  \n",
       "4        e  "
      ]
     },
     "execution_count": 1,
     "metadata": {},
     "output_type": "execute_result"
    }
   ],
   "source": [
    "import pandas as pd\n",
    "\n",
    "train = pd.read_csv('../ss6/csv/train.csv', sep='\\t')\n",
    "valid = pd.read_csv('../ss6/csv/valid.csv', sep='\\t')\n",
    "test = pd.read_csv('../ss6/csv/test.csv', sep='\\t')\n",
    "df = pd.concat([train, valid, test], axis=0)\n",
    "df.head()"
   ]
  },
  {
   "cell_type": "code",
   "execution_count": 2,
   "id": "267d5702-4aca-4c42-8dcb-3fe26c972e73",
   "metadata": {
    "tags": []
   },
   "outputs": [
    {
     "data": {
      "text/plain": [
       "(13340, 3)"
      ]
     },
     "execution_count": 2,
     "metadata": {},
     "output_type": "execute_result"
    }
   ],
   "source": [
    "df.shape"
   ]
  },
  {
   "cell_type": "code",
   "execution_count": 3,
   "id": "7b382747-cff3-444b-8f42-cd246db29745",
   "metadata": {
    "tags": []
   },
   "outputs": [
    {
     "data": {
      "text/html": [
       "<div>\n",
       "<style scoped>\n",
       "    .dataframe tbody tr th:only-of-type {\n",
       "        vertical-align: middle;\n",
       "    }\n",
       "\n",
       "    .dataframe tbody tr th {\n",
       "        vertical-align: top;\n",
       "    }\n",
       "\n",
       "    .dataframe thead th {\n",
       "        text-align: right;\n",
       "    }\n",
       "</style>\n",
       "<table border=\"1\" class=\"dataframe\">\n",
       "  <thead>\n",
       "    <tr style=\"text-align: right;\">\n",
       "      <th></th>\n",
       "      <th>TITLE</th>\n",
       "      <th>PUBLISHER</th>\n",
       "      <th>CATEGORY</th>\n",
       "    </tr>\n",
       "  </thead>\n",
       "  <tbody>\n",
       "    <tr>\n",
       "      <th>0</th>\n",
       "      <td>L'wren Scott - L'Wren Scott's housekeeper reve...</td>\n",
       "      <td>Contactmusic.com</td>\n",
       "      <td>e</td>\n",
       "    </tr>\n",
       "    <tr>\n",
       "      <th>1</th>\n",
       "      <td>Australia Set to Fund Second Clean-Energy Proj...</td>\n",
       "      <td>Businessweek</td>\n",
       "      <td>b</td>\n",
       "    </tr>\n",
       "    <tr>\n",
       "      <th>2</th>\n",
       "      <td>Google Brings Android to Smartwatches in Mobil...</td>\n",
       "      <td>Businessweek</td>\n",
       "      <td>t</td>\n",
       "    </tr>\n",
       "    <tr>\n",
       "      <th>3</th>\n",
       "      <td>Tina Fey - Tina Fey Dispels Mean Girls Sequel ...</td>\n",
       "      <td>Contactmusic.com</td>\n",
       "      <td>e</td>\n",
       "    </tr>\n",
       "    <tr>\n",
       "      <th>4</th>\n",
       "      <td>Rick Rubin - Rick Rubin Takes An Ice Bath For ...</td>\n",
       "      <td>Contactmusic.com</td>\n",
       "      <td>e</td>\n",
       "    </tr>\n",
       "  </tbody>\n",
       "</table>\n",
       "</div>"
      ],
      "text/plain": [
       "                                               TITLE         PUBLISHER  \\\n",
       "0  L'wren Scott - L'Wren Scott's housekeeper reve...  Contactmusic.com   \n",
       "1  Australia Set to Fund Second Clean-Energy Proj...      Businessweek   \n",
       "2  Google Brings Android to Smartwatches in Mobil...      Businessweek   \n",
       "3  Tina Fey - Tina Fey Dispels Mean Girls Sequel ...  Contactmusic.com   \n",
       "4  Rick Rubin - Rick Rubin Takes An Ice Bath For ...  Contactmusic.com   \n",
       "\n",
       "  CATEGORY  \n",
       "0        e  \n",
       "1        b  \n",
       "2        t  \n",
       "3        e  \n",
       "4        e  "
      ]
     },
     "metadata": {},
     "output_type": "display_data"
    },
    {
     "name": "stdout",
     "output_type": "stream",
     "text": [
      "(10672, 3)\n"
     ]
    }
   ],
   "source": [
    "display(train.head())\n",
    "print(train.shape)"
   ]
  },
  {
   "cell_type": "code",
   "execution_count": 8,
   "id": "b0a85c56-69a0-4125-9bdf-a5948b8b6157",
   "metadata": {},
   "outputs": [
    {
     "data": {
      "text/html": [
       "<div>\n",
       "<style scoped>\n",
       "    .dataframe tbody tr th:only-of-type {\n",
       "        vertical-align: middle;\n",
       "    }\n",
       "\n",
       "    .dataframe tbody tr th {\n",
       "        vertical-align: top;\n",
       "    }\n",
       "\n",
       "    .dataframe thead th {\n",
       "        text-align: right;\n",
       "    }\n",
       "</style>\n",
       "<table border=\"1\" class=\"dataframe\">\n",
       "  <thead>\n",
       "    <tr style=\"text-align: right;\">\n",
       "      <th></th>\n",
       "      <th>TITLE</th>\n",
       "      <th>PUBLISHER</th>\n",
       "      <th>CATEGORY</th>\n",
       "      <th>TITLE_ID</th>\n",
       "    </tr>\n",
       "  </thead>\n",
       "  <tbody>\n",
       "    <tr>\n",
       "      <th>0</th>\n",
       "      <td>L'wren Scott - L'Wren Scott's housekeeper reve...</td>\n",
       "      <td>Contactmusic.com</td>\n",
       "      <td>e</td>\n",
       "      <td>[214, 988, 258, 214, 559, 258, 2, 5171, 172, 1...</td>\n",
       "    </tr>\n",
       "    <tr>\n",
       "      <th>1</th>\n",
       "      <td>Australia Set to Fund Second Clean-Energy Proj...</td>\n",
       "      <td>Businessweek</td>\n",
       "      <td>b</td>\n",
       "      <td>[506, 277, 1, 1338, 360, 3512, 790, 1914, 18, ...</td>\n",
       "    </tr>\n",
       "    <tr>\n",
       "      <th>2</th>\n",
       "      <td>Google Brings Android to Smartwatches in Mobil...</td>\n",
       "      <td>Businessweek</td>\n",
       "      <td>t</td>\n",
       "      <td>[66, 2651, 1711, 1, 0, 3, 292, 837]</td>\n",
       "    </tr>\n",
       "    <tr>\n",
       "      <th>3</th>\n",
       "      <td>Tina Fey - Tina Fey Dispels Mean Girls Sequel ...</td>\n",
       "      <td>Contactmusic.com</td>\n",
       "      <td>e</td>\n",
       "      <td>[3043, 3044, 3043, 3044, 0, 2332, 711, 883, 2102]</td>\n",
       "    </tr>\n",
       "    <tr>\n",
       "      <th>4</th>\n",
       "      <td>Rick Rubin - Rick Rubin Takes An Ice Bath For ...</td>\n",
       "      <td>Contactmusic.com</td>\n",
       "      <td>e</td>\n",
       "      <td>[1339, 6690, 1339, 6690, 637, 480, 791, 0, 23,...</td>\n",
       "    </tr>\n",
       "  </tbody>\n",
       "</table>\n",
       "</div>"
      ],
      "text/plain": [
       "                                               TITLE         PUBLISHER  \\\n",
       "0  L'wren Scott - L'Wren Scott's housekeeper reve...  Contactmusic.com   \n",
       "1  Australia Set to Fund Second Clean-Energy Proj...      Businessweek   \n",
       "2  Google Brings Android to Smartwatches in Mobil...      Businessweek   \n",
       "3  Tina Fey - Tina Fey Dispels Mean Girls Sequel ...  Contactmusic.com   \n",
       "4  Rick Rubin - Rick Rubin Takes An Ice Bath For ...  Contactmusic.com   \n",
       "\n",
       "  CATEGORY                                           TITLE_ID  \n",
       "0        e  [214, 988, 258, 214, 559, 258, 2, 5171, 172, 1...  \n",
       "1        b  [506, 277, 1, 1338, 360, 3512, 790, 1914, 18, ...  \n",
       "2        t                [66, 2651, 1711, 1, 0, 3, 292, 837]  \n",
       "3        e  [3043, 3044, 3043, 3044, 0, 2332, 711, 883, 2102]  \n",
       "4        e  [1339, 6690, 1339, 6690, 637, 480, 791, 0, 23,...  "
      ]
     },
     "execution_count": 8,
     "metadata": {},
     "output_type": "execute_result"
    }
   ],
   "source": [
    "import string\n",
    "from collections import defaultdict\n",
    "\n",
    "words_count = defaultdict(int)\n",
    "table = str.maketrans(string.punctuation, ' '*len(string.punctuation))\n",
    "for text in train['TITLE']:\n",
    "    for word in text.translate(table).split():\n",
    "        words_count[word] += 1\n",
    "words_count = sorted(words_count.items(), key=lambda x: x[1], reverse=True)\n",
    "w2id = {w: i+1 for i, (w, c) in enumerate(words_count) if c>= 2}\n",
    "\n",
    "def text2id(text):\n",
    "    table = str.maketrans(string.punctuation, ' '*len(string.punctuation))\n",
    "    words_list = text.translate(table).split()\n",
    "    return [w2id.get(word, 0) for word in words_list]\n",
    "\n",
    "train['TITLE_ID'] = train['TITLE'].apply(lambda x: text2id(x))\n",
    "train.head()"
   ]
  },
  {
   "cell_type": "markdown",
   "id": "616b0b8f-b8cf-43b4-92b9-56d74f0ed8c3",
   "metadata": {},
   "source": [
    "### 81.RNNによる予測. \n",
    "ID番号で表現された単語列$\\textbf{x}=(x_1, x_2, \\dots, x_T)$がある．ただし，Tは単語列の長さ，$x_t\\in\\mathbb{R}^V$は単語のID番号のone-hot-vecotrである（Vは単語の総数である）．RNNを用い，単語列$\\textbf{x}$からカテゴリyを予測するモデルとして，時式を実装せよ．  \n",
    "$$ \\overrightarrow{h_0} = 0, \\\\ \\overrightarrow{h_t} = \\overrightarrow{RNN}(emb(x_t), \\overrightarrow{h_{t_1}}),\\\\ y = softmax(W^{(yh)}\\overrightarrow{h_T}+b^{(y)})$$\n",
    "ただし，$emb(x)\\in\\mathbb{R}^{d_w}$は単語の埋め込み，$\\overrightarrow{h_t}\\in\\mathbb{R}^{d_n}$は時刻tの隠れ常態ベクトル，$\\overrightarrow{RNN}(x, h)$は入力xと前時刻の隠れ状態ベクトルからカテゴリを予測するための行列，$b^{(y)}\\in\\mathbb{R}^L$はバイアス項である．RNNユニット$\\overrightarrow{RNN}(x, h)$二はさまざまな構成が考えられるが，典型例として字式が挙げられる．  \n",
    "$$ \\overrightarrow{RNN}(x, h) = g(W^{(hx)}x + W^{(hh)}h + b^{(hh)})$$  \n",
    "ただしgはtanhやReLUなどの活性化関数である．  \n",
    "なお，この問題ではパラメータの学習を行わず，ランダムに初期化されたパラメータでyを計算するだけで良い．次元数などのハイパーパラメータは,$d_w = 300, d_h=50$など，適当な値に設定せよ．"
   ]
  },
  {
   "cell_type": "code",
   "execution_count": null,
   "id": "b5054051-a684-41a9-9f2a-d6de611b75a3",
   "metadata": {},
   "outputs": [],
   "source": [
    "import torch\n",
    "from torch import nn\n",
    "from torch.nn import fanctional as F\n"
   ]
  },
  {
   "cell_type": "code",
   "execution_count": null,
   "id": "da6bf8b3-2f46-4f5d-9ede-ca0bd9989e17",
   "metadata": {},
   "outputs": [],
   "source": []
  },
  {
   "cell_type": "markdown",
   "id": "87074ecd-f172-4be8-a919-d53d2030bf33",
   "metadata": {},
   "source": [
    "### 82.SGDによる学習  \n",
    "確率的勾配降下法（SGD: Stochastic Gradient Descent）を用いて，問題81で構築したモデルを学習せよ．訓練データ上の損失と正解率，評価データ上の損失と正解率を表示しながらモデルを学習し，適当な基準（例えば10エポックなど）で終了させよ"
   ]
  },
  {
   "cell_type": "markdown",
   "id": "ba6b5f0e-5157-4ebb-93c4-b6d5a0d88920",
   "metadata": {},
   "source": [
    "### 83.ミニバッチ化・GPU上での学習  \n",
    "問題82のコードを改変し，B\n",
    "事例ごとに損失・勾配を計算して学習を行えるようにせよ（B\n",
    "の値は適当に選べ）．また，GPU上で学習を実行せよ．"
   ]
  },
  {
   "cell_type": "markdown",
   "id": "096cb76f-ae35-4eea-863a-9411571b85aa",
   "metadata": {},
   "source": [
    "### 84.単語ベクトルの導入  \n",
    "事前学習済みの単語ベクトル（例えば，Google Newsデータセット（約1,000億単語）での学習済み単語ベクトル）で単語埋め込みemb(x)\n",
    "を初期化し，学習せよ．"
   ]
  },
  {
   "cell_type": "markdown",
   "id": "ddef504b-3fd4-4af1-9c58-6a79fec5185b",
   "metadata": {},
   "source": [
    "### 85.双方向RNN・多層化  \n",
    "順方向と逆方向のRNNの両方を用いて，入力テキストをエンコードし，モデルを学習せよ．  \n",
    "$$ \\overleftarrow{h_{T+1}} = 0,\\\\ \\overleftarrow{h_t}=\\overleftarrow{RNN}(emb(x_t), \\overleftarrow{h_{t+1}}),\\\\ y = softmax(W^{(yh)}[\\overrightarrow{h_T};\\overleftarrow{h_1}]+b^{(y)})$$"
   ]
  },
  {
   "cell_type": "markdown",
   "id": "885bfbf0-b17b-4646-8a77-9b0d05019518",
   "metadata": {},
   "source": [
    "ただし，[a;b]はベクトルaとbの連結を表す．さらに，双方向RNNを多層化して実験せよ．"
   ]
  },
  {
   "cell_type": "markdown",
   "id": "b793e0ca-10c0-4e9d-9b1d-46f55700abb1",
   "metadata": {},
   "source": [
    "### 86.CNN  \n",
    "ID番号で表現された単語列$\\textbf{x} = (x_1, x_2, \\dots, x_T)$がある．ただし，Tは単語列の長さ，$x_t\\in\\mathbb{R}^V$は単語のID番号のone-hot-vectorである． CNNを用いて，単語列$\\textbf{x}$からカテゴリyを予測するモデルを実装せよ．  \n",
    "ただし，CNNのこうせいは以下の通りとする．  \n",
    "・単語埋め込みの次元数: $d_w$  \n",
    "・畳み込みのフィルターのサイズ:3トークン  \n",
    "・畳み込みのストライド:1トークン  \n",
    "・畳み込みのパディング:あり  \n",
    "・畳み込みの演算後の各時刻のベクトルの次元数:$d_n$  \n",
    "・畳み込み演算後に最大値プーリングを適用し，入力文を$d_n$次元の隠れベクトルで表現．  \n",
    "すなわち，時刻tの特徴ベクトル$p_t\\in\\mathbb{R}^{d_n}$は次式で表される．  \n",
    "$$p_t=g(W^{(px)}[emb(x_{t_1});emb(x_t);emb(x_{t+1})]+b^{(p)})$$\n",
    "ただし，gはtanhやReLUなどの活性化関数で[a;b;c]はベクトルa,b,cの連結である．  \n",
    "最大値プーリングでは，特徴ベクトルの次元ごとに全時刻における最大値を取り，入力文書の特徴ベクトル$c\\in\\mathbb{R}^{d_n}$を求める．c[i]でベクトルcのi番目の次元の値を表すことにすると，最大値プーリングは次式で表される．  \n",
    "$$ c[i] = max_{1<=t<=T} \\space p_t[i]$$\n",
    "最後に，入力文書の特徴ベクトルcに線形変換とソフトマックス関数を適用し，カテゴリyを予測する．  \n",
    "$$ y = softmax(W^{(yc)}c+b^{(y)})$$\n",
    "なお，この問題ではモデルの学習を行わず，ランダムに初期化された重み行列でyを計算するだけで良い．"
   ]
  },
  {
   "cell_type": "markdown",
   "id": "ffe0b77d-56cf-4425-8a45-cb442168feb0",
   "metadata": {},
   "source": [
    "### 87. 確率的勾配降下法によるCNNの学習\n",
    "確率的勾配降下法（SGD: Stochastic Gradient Descent）を用いて，問題86で構築したモデルを学習せよ．訓練データ上の損失と正解率，評価データ上の損失と正解率を表示しながらモデルを学習し，適当な基準（例えば10エポックなど）で終了させよ"
   ]
  },
  {
   "cell_type": "markdown",
   "id": "8072d0e9-3762-460a-9306-fc6ef0b62af7",
   "metadata": {},
   "source": [
    "### 88. パラメータチューニング\n",
    "問題85や問題87のコードを改変し，ニューラルネットワークの形状やハイパーパラメータを調整しながら，高性能なカテゴリ分類器を構築せよ．"
   ]
  },
  {
   "cell_type": "markdown",
   "id": "3067b709-a225-4547-9f2e-531ac66fe11a",
   "metadata": {},
   "source": [
    "### 89. 事前学習済み言語モデルからの転移学習\n",
    "事前学習済み言語モデル（例えばBERTなど）を出発点として，ニュース記事見出しをカテゴリに分類するモデルを構築せよ．"
   ]
  },
  {
   "cell_type": "code",
   "execution_count": null,
   "id": "74bb2d98-75c4-4cf5-bf82-760e31130392",
   "metadata": {},
   "outputs": [],
   "source": []
  }
 ],
 "metadata": {
  "kernelspec": {
   "display_name": "Python 3 (ipykernel)",
   "language": "python",
   "name": "python3"
  },
  "language_info": {
   "codemirror_mode": {
    "name": "ipython",
    "version": 3
   },
   "file_extension": ".py",
   "mimetype": "text/x-python",
   "name": "python",
   "nbconvert_exporter": "python",
   "pygments_lexer": "ipython3",
   "version": "3.10.8"
  }
 },
 "nbformat": 4,
 "nbformat_minor": 5
}
